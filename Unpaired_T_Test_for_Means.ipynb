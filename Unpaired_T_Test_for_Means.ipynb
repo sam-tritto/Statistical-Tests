{
 "cells": [
  {
   "cell_type": "markdown",
   "metadata": {},
   "source": [
    "# Student's Unpaired T-Test for Comparing Means"
   ]
  },
  {
   "cell_type": "markdown",
   "metadata": {},
   "source": [
    "> Use Case: \n",
    "- Compare means of two independent groups to determine if there is a significant difference.\n",
    "> Assumptions:\n",
    "- Data is approximately normally distributed.\n",
    "- Homogeneity of variances (variances are roughly equal).\n",
    "- Observations are independent.\n",
    "> Example Scenario:\n",
    "- Investigating if there is a significant difference in the test scores of students who attended two different teaching methods.\n",
    "> Null Hypothesis (H0):\n",
    "- There is no significant difference in the means of the two groups.\n",
    "> Alternative Hypothesis (H1):\n",
    "- There is a significant difference in the means of the two groups."
   ]
  },
  {
   "cell_type": "code",
   "execution_count": 34,
   "metadata": {},
   "outputs": [],
   "source": [
    "import pandas as pd\n",
    "import numpy as np\n",
    "import matplotlib.pyplot as plt\n",
    "import seaborn as sns\n",
    "\n",
    "# !pip install scipy==1.12.0\n",
    "from scipy.stats import shapiro, levene\n",
    "# since SciPy and statsmodels have the same named test (ttest_ind), I'll use this import convention instead\n",
    "from scipy import stats\n",
    "\n",
    "\n",
    "# !pip install statsmodels==0.12.2\n",
    "from statsmodels.stats.power import TTestIndPower\n",
    "# since SciPy and statsmodels have the same named test (ttest_ind), I'll use this import convention instead\n",
    "from statsmodels.stats import weightstats\n",
    "\n",
    "# !pip install pingouin==0.5.4\n",
    "import pingouin as pg"
   ]
  },
  {
   "cell_type": "code",
   "execution_count": 4,
   "metadata": {},
   "outputs": [],
   "source": [
    "# Set random seed for reproducibility\n",
    "np.random.seed(42)"
   ]
  },
  {
   "cell_type": "code",
   "execution_count": 15,
   "metadata": {},
   "outputs": [],
   "source": [
    "# set seaborn style\n",
    "sns.set(style=\"white\", palette=\"mako\")\n",
    "\n",
    "# colors\n",
    "color = 'slateblue'\n",
    "\n",
    "# remove some borders    \n",
    "plt.rcParams['axes.axisbelow'] = True\n",
    "plt.rcParams['axes.spines.left'] = False\n",
    "plt.rcParams['axes.spines.bottom'] = True\n",
    "plt.rcParams['axes.spines.top'] = False\n",
    "plt.rcParams['axes.spines.right'] = False"
   ]
  },
  {
   "cell_type": "code",
   "execution_count": null,
   "metadata": {},
   "outputs": [],
   "source": []
  },
  {
   "cell_type": "markdown",
   "metadata": {},
   "source": [
    "### Power Analysis"
   ]
  },
  {
   "cell_type": "code",
   "execution_count": 19,
   "metadata": {},
   "outputs": [
    {
     "data": {
      "image/png": "[encoded data removed]",
      "text/plain": [
       "<Figure size 864x288 with 1 Axes>"
      ]
     },
     "metadata": {},
     "output_type": "display_data"
    }
   ],
   "source": [
    "# Set the parameters for the power analysis\n",
    "alpha = 0.05  # Significance level\n",
    "desired_power = 0.8  # Desired statistical power\n",
    "\n",
    "# Create an instance of the TTestIndPower class\n",
    "power_analysis = TTestIndPower()\n",
    "\n",
    "# Define the range of effect sizes to test\n",
    "effect_sizes = np.linspace(0.05, 0.5, 10)  # Effect sizes from 0.1 to 1.0 in 10 increments\n",
    "\n",
    "# Calculate the required sample size for each effect size\n",
    "sample_sizes = []\n",
    "for effect_size in effect_sizes:\n",
    "    sample_size = power_analysis.solve_power(\n",
    "        effect_size=effect_size, alpha=alpha, power=desired_power, alternative='two-sided'\n",
    "    )\n",
    "    sample_sizes.append(round(sample_size))  # Rounding to get an integer value\n",
    "\n",
    "# Plot the effect sizes against the required sample sizes\n",
    "plt.figure(figsize=(12, 4))\n",
    "plt.plot(effect_sizes, sample_sizes, marker='o', linestyle='-', color=color, label='Sample Size')\n",
    "plt.fill_between(effect_sizes, sample_sizes, color=color, alpha=0.3)\n",
    "plt.title('Required Sample Size vs. Effect Size for 80% Power (Two-Sided Test)')\n",
    "plt.xlabel('Effect Size (Cohen\\'s d)')\n",
    "plt.ylabel('Required Sample Size')\n",
    "plt.grid(True)\n",
    "plt.show()"
   ]
  },
  {
   "cell_type": "code",
   "execution_count": 23,
   "metadata": {},
   "outputs": [
    {
     "name": "stdout",
     "output_type": "stream",
     "text": [
      "Required sample size per group: 1571\n"
     ]
    }
   ],
   "source": [
    "# Set the parameters for the power analysis\n",
    "effect_size = 0.1  # Cohen's d, the standardized effect size\n",
    "alpha = 0.05  # Significance level\n",
    "power = 0.8  # Desired statistical power\n",
    "\n",
    "# Create an instance of the TTestIndPower class\n",
    "power_analysis = TTestIndPower()\n",
    "\n",
    "# Calculate the required sample size per group\n",
    "sample_size = int(np.ceil(power_analysis.solve_power(effect_size=effect_size, alpha=alpha, power=power, alternative='two-sided')))\n",
    "\n",
    "# Print the result\n",
    "print(f\"Required sample size per group: {round(sample_size)}\")"
   ]
  },
  {
   "cell_type": "code",
   "execution_count": null,
   "metadata": {},
   "outputs": [],
   "source": []
  },
  {
   "cell_type": "markdown",
   "metadata": {},
   "source": [
    "### Synthetic Data"
   ]
  },
  {
   "cell_type": "code",
   "execution_count": 24,
   "metadata": {},
   "outputs": [
    {
     "data": {
      "text/html": [
       "<div>\n",
       "<style scoped>\n",
       "    .dataframe tbody tr th:only-of-type {\n",
       "        vertical-align: middle;\n",
       "    }\n",
       "\n",
       "    .dataframe tbody tr th {\n",
       "        vertical-align: top;\n",
       "    }\n",
       "\n",
       "    .dataframe thead th {\n",
       "        text-align: right;\n",
       "    }\n",
       "</style>\n",
       "<table border=\"1\" class=\"dataframe\">\n",
       "  <thead>\n",
       "    <tr style=\"text-align: right;\">\n",
       "      <th></th>\n",
       "      <th>Group A</th>\n",
       "      <th>Group B</th>\n",
       "    </tr>\n",
       "  </thead>\n",
       "  <tbody>\n",
       "    <tr>\n",
       "      <th>0</th>\n",
       "      <td>42.272913</td>\n",
       "      <td>63.507207</td>\n",
       "    </tr>\n",
       "    <tr>\n",
       "      <th>1</th>\n",
       "      <td>57.948627</td>\n",
       "      <td>64.801175</td>\n",
       "    </tr>\n",
       "    <tr>\n",
       "      <th>2</th>\n",
       "      <td>53.142720</td>\n",
       "      <td>49.509221</td>\n",
       "    </tr>\n",
       "    <tr>\n",
       "      <th>3</th>\n",
       "      <td>36.737345</td>\n",
       "      <td>48.202219</td>\n",
       "    </tr>\n",
       "    <tr>\n",
       "      <th>4</th>\n",
       "      <td>64.172990</td>\n",
       "      <td>58.462136</td>\n",
       "    </tr>\n",
       "    <tr>\n",
       "      <th>...</th>\n",
       "      <td>...</td>\n",
       "      <td>...</td>\n",
       "    </tr>\n",
       "    <tr>\n",
       "      <th>1566</th>\n",
       "      <td>44.133497</td>\n",
       "      <td>58.028769</td>\n",
       "    </tr>\n",
       "    <tr>\n",
       "      <th>1567</th>\n",
       "      <td>45.334260</td>\n",
       "      <td>58.591852</td>\n",
       "    </tr>\n",
       "    <tr>\n",
       "      <th>1568</th>\n",
       "      <td>59.575787</td>\n",
       "      <td>63.230092</td>\n",
       "    </tr>\n",
       "    <tr>\n",
       "      <th>1569</th>\n",
       "      <td>26.476416</td>\n",
       "      <td>65.969006</td>\n",
       "    </tr>\n",
       "    <tr>\n",
       "      <th>1570</th>\n",
       "      <td>47.919478</td>\n",
       "      <td>51.694302</td>\n",
       "    </tr>\n",
       "  </tbody>\n",
       "</table>\n",
       "<p>1571 rows × 2 columns</p>\n",
       "</div>"
      ],
      "text/plain": [
       "        Group A    Group B\n",
       "0     42.272913  63.507207\n",
       "1     57.948627  64.801175\n",
       "2     53.142720  49.509221\n",
       "3     36.737345  48.202219\n",
       "4     64.172990  58.462136\n",
       "...         ...        ...\n",
       "1566  44.133497  58.028769\n",
       "1567  45.334260  58.591852\n",
       "1568  59.575787  63.230092\n",
       "1569  26.476416  65.969006\n",
       "1570  47.919478  51.694302\n",
       "\n",
       "[1571 rows x 2 columns]"
      ]
     },
     "execution_count": 24,
     "metadata": {},
     "output_type": "execute_result"
    }
   ],
   "source": [
    "# Generate synthetic data for t-test\n",
    "group_a = np.random.normal(loc=50, scale=10, size=sample_size)\n",
    "group_b = np.random.normal(loc=55, scale=10, size=sample_size)\n",
    "\n",
    "# Create pandas DataFrame\n",
    "t_test_data = pd.DataFrame({'Group A': group_a, 'Group B': group_b})\n",
    "t_test_data"
   ]
  },
  {
   "cell_type": "code",
   "execution_count": null,
   "metadata": {},
   "outputs": [],
   "source": []
  },
  {
   "cell_type": "markdown",
   "metadata": {},
   "source": [
    "### Assumptions"
   ]
  },
  {
   "cell_type": "code",
   "execution_count": 25,
   "metadata": {},
   "outputs": [
    {
     "name": "stdout",
     "output_type": "stream",
     "text": [
      "Shapiro-Wilk Test (Normality): Statistic=0.9996436176580087, p-value=0.8784932097048082\n",
      "Fail to reject the null hypothesis: \n",
      "Data is approximately normally distributed.\n",
      "\n",
      "Levene's Test (Homogeneity of Variances): Statistic=0.5990744177062632, p-value=0.4389896655538096\n",
      "Fail to reject the null hypothesis: \n",
      "Variances are homogeneous between Group A and Group B.\n"
     ]
    }
   ],
   "source": [
    "# Assumption validation for t-test\n",
    "def validate_t_test_assumptions(data, alpha=0.05):\n",
    "    # Shapiro-Wilk test for normality\n",
    "    stat, p_value = shapiro(data)\n",
    "    print(f'Shapiro-Wilk Test (Normality): Statistic={stat}, p-value={p_value}')\n",
    "\n",
    "    # Interpretation based on p-value for normality\n",
    "    if p_value < alpha:\n",
    "        print(f'Reject the null hypothesis: \\nData is not normally distributed.')\n",
    "    else:\n",
    "        print(f'Fail to reject the null hypothesis: \\nData is approximately normally distributed.')\n",
    "\n",
    "    # Levene's test for homogeneity of variances\n",
    "    stat, p_value = levene(data['Group A'], data['Group B'])\n",
    "    print(f'\\nLevene\\'s Test (Homogeneity of Variances): Statistic={stat}, p-value={p_value}')\n",
    "\n",
    "    # Interpretation based on p-value for homogeneity of variances\n",
    "    if p_value < alpha:\n",
    "        print(f'Reject the null hypothesis: \\nVariances are not homogeneous between Group A and Group B.')\n",
    "    else:\n",
    "        print(f'Fail to reject the null hypothesis: \\nVariances are homogeneous between Group A and Group B.')\n",
    "\n",
    "# Example usage for t-test data\n",
    "validate_t_test_assumptions(t_test_data)"
   ]
  },
  {
   "cell_type": "code",
   "execution_count": null,
   "metadata": {},
   "outputs": [],
   "source": []
  },
  {
   "cell_type": "markdown",
   "metadata": {},
   "source": [
    "### T-test (SciPy)"
   ]
  },
  {
   "cell_type": "code",
   "execution_count": 32,
   "metadata": {},
   "outputs": [
    {
     "name": "stdout",
     "output_type": "stream",
     "text": [
      "t-Test: Statistic=-15.180733240885237, p-value=2.7717097128790485e-50\n",
      "\n",
      "Reject the null hypothesis: \n",
      "There is a significant difference between Group A and Group B.\n"
     ]
    }
   ],
   "source": [
    "# Run t-test\n",
    "def run_t_test(data, alpha=0.05):\n",
    "    stat, p_value = stats.ttest_ind(data['Group A'], data['Group B'])\n",
    "    print(f't-Test: Statistic={stat}, p-value={p_value}')\n",
    "\n",
    "    # Interpretation based on p-value\n",
    "    if p_value < alpha:\n",
    "        print(f'\\nReject the null hypothesis: \\nThere is a significant difference between Group A and Group B.')\n",
    "    else:\n",
    "        print(f'\\nFail to reject the null hypothesis: \\nThere is no significant difference between Group A and Group B.')\n",
    "\n",
    "# Example usage for t-test data\n",
    "run_t_test(t_test_data)"
   ]
  },
  {
   "cell_type": "code",
   "execution_count": null,
   "metadata": {},
   "outputs": [],
   "source": []
  },
  {
   "cell_type": "markdown",
   "metadata": {},
   "source": [
    "### T-test (statsmodels)"
   ]
  },
  {
   "cell_type": "code",
   "execution_count": 38,
   "metadata": {},
   "outputs": [
    {
     "name": "stdout",
     "output_type": "stream",
     "text": [
      "t-Test: Statistic=-15.180733240885198)\n",
      "t-Test: p-value=2.771709712880512e-50\n",
      "t-Test: dof=3140.0\n",
      "\n",
      "Reject the null hypothesis: \n",
      "There is a significant difference between Group A and Group B.\n"
     ]
    }
   ],
   "source": [
    "# Run t-test\n",
    "def run_t_test(data, alpha=0.05):\n",
    "    stat, p_value, dof = weightstats.ttest_ind(data['Group A'], data['Group B'])\n",
    "    print(f't-Test: Statistic={stat})')\n",
    "    print(f't-Test: p-value={p_value}')\n",
    "    print(f't-Test: dof={dof}')\n",
    "\n",
    "    # Interpretation based on p-value\n",
    "    if p_value < alpha:\n",
    "        print(f'\\nReject the null hypothesis: \\nThere is a significant difference between Group A and Group B.')\n",
    "    else:\n",
    "        print(f'\\nFail to reject the null hypothesis: \\nThere is no significant difference between Group A and Group B.')\n",
    "\n",
    "# Example usage for t-test data\n",
    "run_t_test(t_test_data)"
   ]
  },
  {
   "cell_type": "code",
   "execution_count": null,
   "metadata": {},
   "outputs": [],
   "source": []
  },
  {
   "cell_type": "markdown",
   "metadata": {},
   "source": [
    "### T-test (pingouin)"
   ]
  },
  {
   "cell_type": "code",
   "execution_count": 40,
   "metadata": {},
   "outputs": [
    {
     "data": {
      "text/html": [
       "<div>\n",
       "<style scoped>\n",
       "    .dataframe tbody tr th:only-of-type {\n",
       "        vertical-align: middle;\n",
       "    }\n",
       "\n",
       "    .dataframe tbody tr th {\n",
       "        vertical-align: top;\n",
       "    }\n",
       "\n",
       "    .dataframe thead th {\n",
       "        text-align: right;\n",
       "    }\n",
       "</style>\n",
       "<table border=\"1\" class=\"dataframe\">\n",
       "  <thead>\n",
       "    <tr style=\"text-align: right;\">\n",
       "      <th></th>\n",
       "      <th>T</th>\n",
       "      <th>dof</th>\n",
       "      <th>alternative</th>\n",
       "      <th>p-val</th>\n",
       "      <th>CI95%</th>\n",
       "      <th>cohen-d</th>\n",
       "      <th>BF10</th>\n",
       "      <th>power</th>\n",
       "    </tr>\n",
       "  </thead>\n",
       "  <tbody>\n",
       "    <tr>\n",
       "      <th>T-test</th>\n",
       "      <td>-15.180733</td>\n",
       "      <td>3140</td>\n",
       "      <td>two-sided</td>\n",
       "      <td>2.771710e-50</td>\n",
       "      <td>[-5.98, -4.61]</td>\n",
       "      <td>0.541651</td>\n",
       "      <td>5.146e+46</td>\n",
       "      <td>1.0</td>\n",
       "    </tr>\n",
       "  </tbody>\n",
       "</table>\n",
       "</div>"
      ],
      "text/plain": [
       "                T   dof alternative         p-val           CI95%   cohen-d  \\\n",
       "T-test -15.180733  3140   two-sided  2.771710e-50  [-5.98, -4.61]  0.541651   \n",
       "\n",
       "             BF10  power  \n",
       "T-test  5.146e+46    1.0  "
      ]
     },
     "execution_count": 40,
     "metadata": {},
     "output_type": "execute_result"
    }
   ],
   "source": [
    "# T-test\n",
    "pg.ttest(t_test_data['Group A'], t_test_data['Group B'])"
   ]
  },
  {
   "cell_type": "code",
   "execution_count": null,
   "metadata": {},
   "outputs": [],
   "source": []
  },
  {
   "cell_type": "markdown",
   "metadata": {},
   "source": [
    "### 95% Confidence Interval"
   ]
  },
  {
   "cell_type": "code",
   "execution_count": 44,
   "metadata": {},
   "outputs": [
    {
     "name": "stdout",
     "output_type": "stream",
     "text": [
      "Difference in Means: -5.297274314745387\n",
      "95% Confidence Interval of the Difference in Means: [-5.981462173464104, -4.61308645602667]\n"
     ]
    }
   ],
   "source": [
    "# Calculate the means of each group\n",
    "mean_a = t_test_data['Group A'].mean()\n",
    "mean_b = t_test_data['Group B'].mean()\n",
    "\n",
    "# Calculate the standard deviations of each group\n",
    "std_a = t_test_data['Group A'].std()\n",
    "std_b = t_test_data['Group B'].std()\n",
    "\n",
    "# Calculate the sample sizes\n",
    "n_a = len(t_test_data['Group A'])\n",
    "n_b = len(t_test_data['Group B'])\n",
    "\n",
    "# Calculate the standard error for the difference in means\n",
    "se_diff = np.sqrt(std_a**2 / n_a + std_b**2 / n_b)\n",
    "\n",
    "# Calculate the difference in means\n",
    "diff_means = mean_a - mean_b\n",
    "\n",
    "# Get the degrees of freedom using the Welch-Satterthwaite equation\n",
    "degrees_of_freedom = (std_a**2 / n_a + std_b**2 / n_b)**2 / (\n",
    "    ((std_a**2 / n_a)**2) / (n_a - 1) + ((std_b**2 / n_b)**2) / (n_b - 1))\n",
    "\n",
    "# Critical t-value for a 95% confidence interval\n",
    "critical_t = stats.t.ppf(0.975, df=degrees_of_freedom)  # two-sided\n",
    "\n",
    "# Calculate the margin of error\n",
    "margin_of_error = critical_t * se_diff\n",
    "\n",
    "# Calculate the 95% confidence interval\n",
    "lower_bound = diff_means - margin_of_error\n",
    "upper_bound = diff_means + margin_of_error\n",
    "\n",
    "# Print results\n",
    "print(f\"Difference in Means: {diff_means}\")\n",
    "print(f\"95% Confidence Interval of the Difference in Means: [{lower_bound}, {upper_bound}]\")\n"
   ]
  },
  {
   "cell_type": "code",
   "execution_count": null,
   "metadata": {},
   "outputs": [],
   "source": []
  },
  {
   "cell_type": "markdown",
   "metadata": {},
   "source": [
    "### Effect Size"
   ]
  },
  {
   "cell_type": "code",
   "execution_count": 51,
   "metadata": {},
   "outputs": [
    {
     "name": "stdout",
     "output_type": "stream",
     "text": [
      "Cohen's d Effect Size: 0.4623242799496727 standard deviations\n",
      "\n",
      "\n",
      "There is a small difference between the two groups.\n"
     ]
    }
   ],
   "source": [
    "# Calculate means\n",
    "mean_a = np.mean(group_a)\n",
    "mean_b = np.mean(group_b)\n",
    "\n",
    "# Calculate standard deviations\n",
    "std_a = np.std(group_a, ddof=1)  # Using sample standard deviation\n",
    "std_b = np.std(group_b, ddof=1)\n",
    "\n",
    "# Calculate sample sizes\n",
    "n_a = len(group_a)\n",
    "n_b = len(group_b)\n",
    "\n",
    "# Calculate pooled standard deviation\n",
    "s_pooled = np.sqrt(((n_a - 1) * std_a**2 + (n_b - 1) * std_b**2) / (n_a + n_b - 2))\n",
    "\n",
    "# Calculate Cohen's d\n",
    "d = (mean_b - mean_a) / s_pooled\n",
    "\n",
    "print(f\"Cohen's d Effect Size: {d} standard deviations\")\n",
    "print(\"\\n\")\n",
    "\n",
    "\n",
    "if d >= 2:\n",
    "    print(\"There is a huge difference between the two groups.\")\n",
    "elif d >= 1.2:\n",
    "    print(\"There is a very large difference between the two groups.\")\n",
    "elif d >= 0.8:\n",
    "    print(\"There is a large difference between the two groups.\")\n",
    "elif d >= 0.5:\n",
    "    print(\"There is a moderate difference between the two groups.\")\n",
    "elif d >= 0.2:\n",
    "    print(\"There is a small difference between the two groups.\")\n",
    "elif d >= 0.01:\n",
    "    print(\"There is a very small difference between the two groups.\")\n",
    "else:\n",
    "    print(\"There is no difference between the two groups.\")\n"
   ]
  },
  {
   "cell_type": "code",
   "execution_count": null,
   "metadata": {},
   "outputs": [],
   "source": []
  },
  {
   "cell_type": "markdown",
   "metadata": {},
   "source": [
    "### Visualization"
   ]
  },
  {
   "cell_type": "code",
   "execution_count": 11,
   "metadata": {},
   "outputs": [],
   "source": [
    "# Count everything up\n",
    "total_count = t_test_data.size\n",
    "group_a_count = t_test_data['Group A'].count()\n",
    "group_b_count = t_test_data['Group B'].count()\n",
    "group_a_mean = t_test_data['Group A'].mean()\n",
    "group_b_mean = t_test_data['Group B'].mean()\n",
    "group_a_var= t_test_data['Group A'].var()\n",
    "group_b_var = t_test_data['Group B'].var()\n",
    "group_a_std= t_test_data['Group A'].std()\n",
    "group_b_std = t_test_data['Group B'].std()"
   ]
  },
  {
   "cell_type": "code",
   "execution_count": 12,
   "metadata": {},
   "outputs": [
    {
     "data": {
      "text/html": [
       "<div>\n",
       "<style scoped>\n",
       "    .dataframe tbody tr th:only-of-type {\n",
       "        vertical-align: middle;\n",
       "    }\n",
       "\n",
       "    .dataframe tbody tr th {\n",
       "        vertical-align: top;\n",
       "    }\n",
       "\n",
       "    .dataframe thead th {\n",
       "        text-align: right;\n",
       "    }\n",
       "</style>\n",
       "<table border=\"1\" class=\"dataframe\">\n",
       "  <thead>\n",
       "    <tr style=\"text-align: right;\">\n",
       "      <th></th>\n",
       "      <th>Test Group</th>\n",
       "      <th>Total</th>\n",
       "      <th>Mean Test Score</th>\n",
       "      <th>Variance</th>\n",
       "      <th>Standard Deviation</th>\n",
       "    </tr>\n",
       "  </thead>\n",
       "  <tbody>\n",
       "    <tr>\n",
       "      <th>0</th>\n",
       "      <td>Group A</td>\n",
       "      <td>100</td>\n",
       "      <td>48.961535</td>\n",
       "      <td>82.476989</td>\n",
       "      <td>9.081684</td>\n",
       "    </tr>\n",
       "    <tr>\n",
       "      <th>1</th>\n",
       "      <td>Group B</td>\n",
       "      <td>100</td>\n",
       "      <td>55.223046</td>\n",
       "      <td>90.948450</td>\n",
       "      <td>9.536690</td>\n",
       "    </tr>\n",
       "  </tbody>\n",
       "</table>\n",
       "</div>"
      ],
      "text/plain": [
       "  Test Group  Total  Mean Test Score   Variance  Standard Deviation\n",
       "0    Group A    100        48.961535  82.476989            9.081684\n",
       "1    Group B    100        55.223046  90.948450            9.536690"
      ]
     },
     "execution_count": 12,
     "metadata": {},
     "output_type": "execute_result"
    }
   ],
   "source": [
    "# Create a new DataFrame for plotting\n",
    "plot_data = pd.DataFrame({\n",
    "    'Test Group': [\"Group A\", \"Group B\"],\n",
    "    'Total': [group_a_count, group_b_count],\n",
    "    'Mean Test Score': [group_a_mean, group_b_mean],\n",
    "    'Variance': [group_a_var, group_b_var],\n",
    "    'Standard Deviation': [group_a_std, group_b_std],\n",
    "}, index=[0, 1])\n",
    "plot_data"
   ]
  },
  {
   "cell_type": "code",
   "execution_count": 13,
   "metadata": {},
   "outputs": [
    {
     "data": {
      "image/png": "[encoded data removed]",
      "text/plain": [
       "<Figure size 864x288 with 1 Axes>"
      ]
     },
     "metadata": {
      "needs_background": "light"
     },
     "output_type": "display_data"
    }
   ],
   "source": [
    "# Compare distributions of means between the two groups\n",
    "plt.figure(figsize=(12, 4))\n",
    "sns.kdeplot(t_test_data['Group A'], label='A', fill = True, color = 'grey' , clip=(0, 100))\n",
    "sns.kdeplot(t_test_data['Group B'], label='B', fill = True, color = color, clip=(0, 100))\n",
    "mean_group_a = t_test_data['Group A'].mean()\n",
    "mean_group_b = t_test_data['Group B'].mean()\n",
    "plt.axvline(mean_group_a, color='grey', linestyle='dashed', linewidth=2, label=f'A Mean Avg: {mean_group_a:.2f}')\n",
    "plt.axvline(mean_group_b, color=color, linestyle='dashed', linewidth=2, label=f'B Mean Avg: {mean_group_b:.2f}')\n",
    "plt.title('Test Scores per Group', fontsize = 20)\n",
    "plt.xlabel('Test Scores', fontsize=16);\n",
    "plt.ylabel('Density', fontsize=16)\n",
    "plt.tick_params(left=False,bottom=True,labelleft=True,labelbottom=True)\n",
    "plt.legend()\n",
    "plt.show()"
   ]
  },
  {
   "cell_type": "code",
   "execution_count": null,
   "metadata": {},
   "outputs": [],
   "source": []
  }
 ],
 "metadata": {
  "kernelspec": {
   "display_name": "ab_env",
   "language": "python",
   "name": "python3"
  },
  "language_info": {
   "codemirror_mode": {
    "name": "ipython",
    "version": 3
   },
   "file_extension": ".py",
   "mimetype": "text/x-python",
   "name": "python",
   "nbconvert_exporter": "python",
   "pygments_lexer": "ipython3",
   "version": "3.9.7"
  }
 },
 "nbformat": 4,
 "nbformat_minor": 2
}
