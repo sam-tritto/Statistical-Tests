{
 "cells": [
  {
   "cell_type": "markdown",
   "metadata": {},
   "source": [
    "# Chi-Squared Independence Test"
   ]
  },
  {
   "cell_type": "markdown",
   "metadata": {},
   "source": [
    "\n",
    "> Use Case\n",
    "- Used to compare observed and expected frequencies of categorical data, particularly when comparing proportions across different categorical groups.\n",
    "- Used for feature selection, to determine is a feature is a good predictor.\n",
    "> Assumptions\n",
    "- The data must be categorical and fit into a contingency table.\n",
    "- The expected frequency in each cell of the contingency table should be at least 5 (to ensure the validity of the test).\n",
    "> Example Scenario\n",
    "- Comparing the satisfaction levels of customers (Satisfied/Not Satisfied) between two different versions of a website.\n",
    "> Null Hypothesis (H0):\n",
    "- Feature Selection: The categories are independent\n",
    "- Proportions: The proportion of successes is the same for both groups.\n",
    "> Alternative Hypothesis (H1):\n",
    "- Feature Selection: The categories are dependent\n",
    "- Proportions: The proportion of successes is different for both groups."
   ]
  },
  {
   "cell_type": "code",
   "execution_count": 101,
   "metadata": {},
   "outputs": [],
   "source": [
    "import pandas as pd\n",
    "import numpy as np\n",
    "import matplotlib.pyplot as plt\n",
    "import seaborn as sns\n",
    "\n",
    "# statsmodels==0.12.2\n",
    "from statsmodels.stats.power import GofChisquarePower\n",
    "from statsmodels.stats.proportion import proportions_chisquare\n",
    "\n",
    "# scipy==1.12.0\n",
    "from scipy.stats import chi2_contingency\n",
    "\n",
    "# pingouin==0.5.4\n",
    "from pingouin import chi2_independence, power_chi2 \n"
   ]
  },
  {
   "cell_type": "code",
   "execution_count": 102,
   "metadata": {},
   "outputs": [
    {
     "data": {
      "text/plain": [
       "'0.12.2'"
      ]
     },
     "execution_count": 102,
     "metadata": {},
     "output_type": "execute_result"
    }
   ],
   "source": [
    "import statsmodels\n",
    "statsmodels.__version__"
   ]
  },
  {
   "cell_type": "code",
   "execution_count": 103,
   "metadata": {},
   "outputs": [
    {
     "data": {
      "text/plain": [
       "'1.12.0'"
      ]
     },
     "execution_count": 103,
     "metadata": {},
     "output_type": "execute_result"
    }
   ],
   "source": [
    "import scipy\n",
    "scipy.__version__"
   ]
  },
  {
   "cell_type": "code",
   "execution_count": 104,
   "metadata": {},
   "outputs": [
    {
     "data": {
      "text/plain": [
       "'0.5.4'"
      ]
     },
     "execution_count": 104,
     "metadata": {},
     "output_type": "execute_result"
    }
   ],
   "source": [
    "import pingouin\n",
    "pingouin.__version__"
   ]
  },
  {
   "cell_type": "code",
   "execution_count": 105,
   "metadata": {},
   "outputs": [],
   "source": [
    "# Set random seed for reproducibility\n",
    "np.random.seed(42)"
   ]
  },
  {
   "cell_type": "code",
   "execution_count": 106,
   "metadata": {},
   "outputs": [],
   "source": [
    "# set seaborn style\n",
    "sns.set(style=\"white\", palette=\"mako\")\n",
    "\n",
    "# remove some borders    \n",
    "plt.rcParams['axes.axisbelow'] = True\n",
    "plt.rcParams['axes.spines.left'] = False\n",
    "plt.rcParams['axes.spines.bottom'] = True\n",
    "plt.rcParams['axes.spines.top'] = False\n",
    "plt.rcParams['axes.spines.right'] = False"
   ]
  },
  {
   "cell_type": "markdown",
   "metadata": {},
   "source": [
    "### Power Analysis"
   ]
  },
  {
   "cell_type": "code",
   "execution_count": 107,
   "metadata": {},
   "outputs": [
    {
     "data": {
      "image/png": "[encoded data removed]",
      "text/plain": [
       "<Figure size 864x288 with 1 Axes>"
      ]
     },
     "metadata": {},
     "output_type": "display_data"
    }
   ],
   "source": [
    "# Initialize GofChisquarePower\n",
    "gof_power = GofChisquarePower()\n",
    "\n",
    "# Given power and alpha\n",
    "alpha=0.05\n",
    "power=0.8\n",
    "\n",
    "# Define effect sizes\n",
    "effect_sizes = np.linspace(0.05, 1, 20) \n",
    "# Calculate number of samples for each effect size\n",
    "samples = [gof_power.solve_power(effect_size=effect_size, nobs=None, alpha=alpha, power=power) for effect_size in effect_sizes]\n",
    "\n",
    "# Figure size\n",
    "plt.figure(figsize=(12, 4))\n",
    "\n",
    "# Plot samples versus effect sizes\n",
    "plt.plot(effect_sizes, samples)\n",
    "\n",
    "# Shade area below the line with lower opacity\n",
    "plt.fill_between(effect_sizes, samples, color='slateblue', alpha=0.3)\n",
    "\n",
    "# Add plot labels and title\n",
    "plt.xlabel('Effect Size')\n",
    "plt.ylabel('Number of Samples')\n",
    "plt.title('Samples versus Effect Size for Chi-Squared GOF Test')\n",
    "plt.show()\n"
   ]
  },
  {
   "cell_type": "code",
   "execution_count": 108,
   "metadata": {},
   "outputs": [
    {
     "name": "stdout",
     "output_type": "stream",
     "text": [
      "There are 122 samples required per group\n"
     ]
    }
   ],
   "source": [
    "# Chi-Squared Power Analysis (scipy)\n",
    "\n",
    "# Degree of freedom (depends on the chosen test).\n",
    "dof=3\n",
    "# Cohen’s w effect size\n",
    "w=0.3\n",
    "# Test power (= 1 - type II error).\n",
    "power=0.8\n",
    "# Significance level (type I error probability).\n",
    "alpha=0.05\n",
    "# Exactly ONE of the parameters w, n, power and alpha must be passed as None, and that parameter is determined from the others. \n",
    "n=None\n",
    "\n",
    "# The degrees of freedom dof must always be specified\n",
    "sample_size = power_chi2(dof=dof, w=w, n=n, power=power, alpha=alpha)\n",
    "\n",
    "print(f\"There are {int(np.ceil(sample_size))} samples required per group\")"
   ]
  },
  {
   "cell_type": "code",
   "execution_count": 109,
   "metadata": {},
   "outputs": [
    {
     "name": "stdout",
     "output_type": "stream",
     "text": [
      "There are 122 samples required per group\n"
     ]
    }
   ],
   "source": [
    "# Chi-Squared Power Analysis (statsmodels)\n",
    "\n",
    "# Effect size\n",
    "effect_size = 0.3\n",
    "# Significance level (type I error probability).\n",
    "alpha = 0.05\n",
    "# Test power (= 1 - type II error).\n",
    "power = 0.8\n",
    "# Degree of freedom + 1 (depends on the chosen test).\n",
    "n_bins=4\n",
    "# Exactly ONE of the parameters must be passed as None, and that parameter is determined from the others. \n",
    "nobs = None\n",
    "\n",
    "# The degrees of freedom dof must always be specified\n",
    "sample_size = GofChisquarePower().solve_power(effect_size=effect_size, nobs=nobs, alpha=alpha, power=power, n_bins=n_bins)\n",
    "\n",
    "print(f\"There are {int(np.ceil(sample_size))} samples required per group\")"
   ]
  },
  {
   "cell_type": "code",
   "execution_count": 110,
   "metadata": {},
   "outputs": [
    {
     "data": {
      "image/png": "[encoded data removed]",
      "text/plain": [
       "<Figure size 864x288 with 1 Axes>"
      ]
     },
     "metadata": {},
     "output_type": "display_data"
    }
   ],
   "source": [
    "# Initialize GofChisquarePower\n",
    "gof_power = GofChisquarePower()\n",
    "\n",
    "# Given alpha \n",
    "alpha=0.05\n",
    "# Given prior determined sample size\n",
    "nobs = 200\n",
    "\n",
    "\n",
    "# Define effect sizes\n",
    "effect_sizes = np.linspace(0.05, 1, 20)  \n",
    "# Calculate power for each effect size\n",
    "powers = [gof_power.solve_power(effect_size=effect_size, nobs=nobs, alpha=alpha) for effect_size in effect_sizes]\n",
    "\n",
    "# Figure size\n",
    "plt.figure(figsize=(12, 4))\n",
    "\n",
    "# Plot power versus effect sizes\n",
    "plt.plot(effect_sizes, powers)\n",
    "\n",
    "# Shade area below the line with lower opacity\n",
    "plt.fill_between(effect_sizes, powers, color='slateblue', alpha=0.3)\n",
    "\n",
    "# Add plot labels and title\n",
    "plt.xlabel('Effect Size')\n",
    "plt.ylabel('Power')\n",
    "plt.title('Power versus Effect Size for Chi-Squared GOF Test')\n",
    "plt.show()\n"
   ]
  },
  {
   "cell_type": "markdown",
   "metadata": {},
   "source": [
    "### Synthetic Data"
   ]
  },
  {
   "cell_type": "code",
   "execution_count": 111,
   "metadata": {},
   "outputs": [
    {
     "data": {
      "text/html": [
       "<div>\n",
       "<style scoped>\n",
       "    .dataframe tbody tr th:only-of-type {\n",
       "        vertical-align: middle;\n",
       "    }\n",
       "\n",
       "    .dataframe tbody tr th {\n",
       "        vertical-align: top;\n",
       "    }\n",
       "\n",
       "    .dataframe thead th {\n",
       "        text-align: right;\n",
       "    }\n",
       "</style>\n",
       "<table border=\"1\" class=\"dataframe\">\n",
       "  <thead>\n",
       "    <tr style=\"text-align: right;\">\n",
       "      <th></th>\n",
       "      <th>Version_A</th>\n",
       "      <th>Version_B</th>\n",
       "    </tr>\n",
       "  </thead>\n",
       "  <tbody>\n",
       "    <tr>\n",
       "      <th>0</th>\n",
       "      <td>Satisfied</td>\n",
       "      <td>Not Satisfied</td>\n",
       "    </tr>\n",
       "    <tr>\n",
       "      <th>1</th>\n",
       "      <td>Not Satisfied</td>\n",
       "      <td>Not Satisfied</td>\n",
       "    </tr>\n",
       "    <tr>\n",
       "      <th>2</th>\n",
       "      <td>Satisfied</td>\n",
       "      <td>Not Satisfied</td>\n",
       "    </tr>\n",
       "    <tr>\n",
       "      <th>3</th>\n",
       "      <td>Satisfied</td>\n",
       "      <td>Not Satisfied</td>\n",
       "    </tr>\n",
       "    <tr>\n",
       "      <th>4</th>\n",
       "      <td>Satisfied</td>\n",
       "      <td>Not Satisfied</td>\n",
       "    </tr>\n",
       "    <tr>\n",
       "      <th>...</th>\n",
       "      <td>...</td>\n",
       "      <td>...</td>\n",
       "    </tr>\n",
       "    <tr>\n",
       "      <th>495</th>\n",
       "      <td>Satisfied</td>\n",
       "      <td>Satisfied</td>\n",
       "    </tr>\n",
       "    <tr>\n",
       "      <th>496</th>\n",
       "      <td>Satisfied</td>\n",
       "      <td>Not Satisfied</td>\n",
       "    </tr>\n",
       "    <tr>\n",
       "      <th>497</th>\n",
       "      <td>Satisfied</td>\n",
       "      <td>Not Satisfied</td>\n",
       "    </tr>\n",
       "    <tr>\n",
       "      <th>498</th>\n",
       "      <td>Not Satisfied</td>\n",
       "      <td>Not Satisfied</td>\n",
       "    </tr>\n",
       "    <tr>\n",
       "      <th>499</th>\n",
       "      <td>Not Satisfied</td>\n",
       "      <td>Not Satisfied</td>\n",
       "    </tr>\n",
       "  </tbody>\n",
       "</table>\n",
       "<p>500 rows × 2 columns</p>\n",
       "</div>"
      ],
      "text/plain": [
       "         Version_A      Version_B\n",
       "0        Satisfied  Not Satisfied\n",
       "1    Not Satisfied  Not Satisfied\n",
       "2        Satisfied  Not Satisfied\n",
       "3        Satisfied  Not Satisfied\n",
       "4        Satisfied  Not Satisfied\n",
       "..             ...            ...\n",
       "495      Satisfied      Satisfied\n",
       "496      Satisfied  Not Satisfied\n",
       "497      Satisfied  Not Satisfied\n",
       "498  Not Satisfied  Not Satisfied\n",
       "499  Not Satisfied  Not Satisfied\n",
       "\n",
       "[500 rows x 2 columns]"
      ]
     },
     "execution_count": 111,
     "metadata": {},
     "output_type": "execute_result"
    }
   ],
   "source": [
    "# Number of samples for each version\n",
    "n_samples = 500\n",
    "\n",
    "# Generate synthetic data for two website versions\n",
    "version_A = np.random.choice(['Satisfied', 'Not Satisfied'], size=n_samples, p=[0.8, 0.2])\n",
    "version_B = np.random.choice(['Satisfied', 'Not Satisfied'], size=n_samples, p=[0.1, 0.9])\n",
    "\n",
    "\n",
    "# Create pandas dataframe\n",
    "chi_squared_data = pd.DataFrame({'Version_A': version_A, 'Version_B': version_B})\n",
    "chi_squared_data"
   ]
  },
  {
   "cell_type": "code",
   "execution_count": 112,
   "metadata": {},
   "outputs": [],
   "source": [
    "# We'll use these later to build arrays to plug into the statistical functions\n",
    "\n",
    "a_positive = chi_squared_data['Version_A'].value_counts()['Satisfied']\n",
    "a_negative = chi_squared_data['Version_A'].value_counts()['Not Satisfied']\n",
    "\n",
    "b_positive = chi_squared_data['Version_B'].value_counts()['Satisfied']\n",
    "b_negative = chi_squared_data['Version_B'].value_counts()['Not Satisfied']"
   ]
  },
  {
   "cell_type": "markdown",
   "metadata": {},
   "source": [
    "### Check Assumptions"
   ]
  },
  {
   "cell_type": "code",
   "execution_count": 113,
   "metadata": {},
   "outputs": [
    {
     "name": "stdout",
     "output_type": "stream",
     "text": [
      "Chi-Squared Test Assumption: Expected counts in each cell are at least 5 - Met\n"
     ]
    }
   ],
   "source": [
    "# Assumption check for chi-squared test\n",
    "observed_counts = pd.crosstab(chi_squared_data['Version_A'], chi_squared_data['Version_B'])\n",
    "min_expected_count = 5\n",
    "\n",
    "# Check if expected counts in each cell are at least > min_expected_count\n",
    "expected_counts = np.outer(observed_counts.sum(axis=1), observed_counts.sum(axis=0)) / chi_squared_data.shape[0]\n",
    "assumption_met = np.all(expected_counts >= min_expected_count)\n",
    "\n",
    "print(f\"Chi-Squared Test Assumption: Expected counts in each cell are at least {min_expected_count} - {'Met' if assumption_met else 'Not Met'}\")\n"
   ]
  },
  {
   "cell_type": "markdown",
   "metadata": {},
   "source": [
    "### Chi-Squared Test (scipy)"
   ]
  },
  {
   "cell_type": "code",
   "execution_count": 114,
   "metadata": {},
   "outputs": [],
   "source": [
    "# Pre-determined alpha value\n",
    "alpha = 0.1"
   ]
  },
  {
   "cell_type": "code",
   "execution_count": 115,
   "metadata": {},
   "outputs": [
    {
     "name": "stdout",
     "output_type": "stream",
     "text": [
      "Chi-Squared Test Statistic: 497.90473558210147\n",
      "p-value: 2.7155602149956693e-110\n",
      "dof: 1\n",
      "expected_freq: [[218.5 281.5]\n",
      " [218.5 281.5]]\n",
      "\n",
      "\n",
      "Reject the null hypothesis. The categories are likely dependent\n",
      "There is a significant difference in satisfaction levels between the two website versions.\n"
     ]
    }
   ],
   "source": [
    "# Assuming chi-squared assumptions are met\n",
    "\n",
    "# Contingency table\n",
    "# observed_counts = np.array([[a_positive, a_negative], [a_positive, a_negative]])\n",
    "observed_counts = np.array([[a_positive, a_negative], [b_positive, b_negative]])\n",
    "\n",
    "# Chi-squared test\n",
    "res = chi2_contingency(observed_counts, correction=True)\n",
    "\n",
    "chi2_stat = res.statistic\n",
    "p_value = res.pvalue\n",
    "dof = res.dof\n",
    "expected_freq = res.expected_freq\n",
    "\n",
    "# Similar categorical variables should present low chi-squared statistic and high p-value.\n",
    "print(f\"Chi-Squared Test Statistic: {chi2_stat}\")\n",
    "print(f\"p-value: {p_value}\")\n",
    "print(f\"dof: {dof}\")\n",
    "print(f\"expected_freq: {expected_freq}\")\n",
    "print(\"\\n\")\n",
    "\n",
    "\n",
    "# Check for statistical significance\n",
    "if p_value < alpha:\n",
    "    conclusion = \"Reject the null hypothesis. The categories are likely dependent\"\n",
    "    interpretation = \"There is a significant difference in satisfaction levels between the two website versions.\"\n",
    "\n",
    "else:\n",
    "    conclusion = \"Fail to reject the null hypothesis. The categories are likely independent\"\n",
    "    interpretation = \"There is no significant difference in satisfaction levels between the two website versions.\"\n",
    "\n",
    "\n",
    "print(conclusion)\n",
    "print(interpretation)\n"
   ]
  },
  {
   "cell_type": "markdown",
   "metadata": {},
   "source": [
    "### Chi-Squared Test (pingouin)"
   ]
  },
  {
   "cell_type": "code",
   "execution_count": 116,
   "metadata": {},
   "outputs": [],
   "source": [
    "# Pre-determined alpha value\n",
    "alpha = 0.1"
   ]
  },
  {
   "cell_type": "code",
   "execution_count": 117,
   "metadata": {},
   "outputs": [],
   "source": [
    "\n",
    "# # Perform chi-squared test for proportions using pingouin (bootstrap)\n",
    "# expected, observed, stats = chi2_independence(chi_squared_data, x='Version_A', y='Version_B', correction=True)\n",
    "\n",
    "# print(f'Expected Counts:')\n",
    "# display(expected)\n",
    "\n",
    "# print(f'\\nObserved Counts:')\n",
    "# display(observed)\n",
    "\n",
    "# # Similar categorical variables should present low chi-squared statistics and high p-values.\n",
    "# print(\"Summary Stats:\")\n",
    "# display(stats.round(3))\n",
    "\n",
    "# avg_p = stats['pval'].mean()\n",
    "\n",
    "# # Check for statistical significance\n",
    "# if avg_p < alpha:\n",
    "#     conclusion = \"Reject the null hypothesis. The categories are likely dependent\"\n",
    "#     interpretation = \"There is a significant difference in satisfaction levels between the two website versions.\"\n",
    "# else:\n",
    "#     conclusion = \"Fail to reject the null hypothesis. The categories are likely independent\"\n",
    "#     interpretation = \"There is no significant difference in satisfaction levels between the two website versions.\"\n",
    "\n",
    "# print(conclusion)\n",
    "# print(interpretation)"
   ]
  },
  {
   "cell_type": "markdown",
   "metadata": {},
   "source": [
    "### Chi-Squared Test (statsmodels)"
   ]
  },
  {
   "cell_type": "code",
   "execution_count": 118,
   "metadata": {},
   "outputs": [],
   "source": [
    "# Pre-determined alpha value\n",
    "alpha = 0.1"
   ]
  },
  {
   "cell_type": "code",
   "execution_count": 119,
   "metadata": {},
   "outputs": [
    {
     "name": "stdout",
     "output_type": "stream",
     "text": [
      "Chi-Squared Test Statistic: 500.75397002816715\n",
      "p-value: 6.515111916280444e-111\n",
      "table: [[394 106]\n",
      " [ 43 457]]\n",
      "expected_freq: [[218.5 281.5]\n",
      " [218.5 281.5]]\n",
      "\n",
      "\n",
      "Reject the null hypothesis. The categories are likely dependent\n",
      "There is a significant difference in satisfaction levels between the two website versions.\n"
     ]
    }
   ],
   "source": [
    "# Contingency table\n",
    "# observed_counts = [a_positive, a_positive]\n",
    "observed_counts = [a_positive, b_positive]\n",
    "\n",
    "# Get the total number of observations for all categories\n",
    "nobs = np.array((chi_squared_data.shape[0], chi_squared_data.shape[0]))\n",
    "\n",
    "\n",
    "\n",
    "# Perform chi-squared test for proportions\n",
    "chi2_stat, p_value, (table, expected)  = proportions_chisquare(observed_counts, nobs=nobs, value=None)\n",
    "\n",
    "# Similar categorical variables should present low chi-squared statistics and high p-values.\n",
    "print(f\"Chi-Squared Test Statistic: {chi2_stat}\")\n",
    "print(f\"p-value: {p_value}\")\n",
    "print(f\"table: {table}\")\n",
    "print(f\"expected_freq: {expected}\")\n",
    "print(\"\\n\")\n",
    "\n",
    "# Check for statistical significance\n",
    "if p_value < alpha:\n",
    "    conclusion = \"Reject the null hypothesis. The categories are likely dependent\"\n",
    "    interpretation = \"There is a significant difference in satisfaction levels between the two website versions.\"\n",
    "else:\n",
    "    conclusion = \"Fail to reject the null hypothesis. The categories are likely independent\"\n",
    "    interpretation = \"There is no significant difference in satisfaction levels between the two website versions.\"\n",
    "\n",
    "print(conclusion)\n",
    "print(interpretation)\n"
   ]
  },
  {
   "cell_type": "markdown",
   "metadata": {},
   "source": [
    "### Summary Table"
   ]
  },
  {
   "cell_type": "code",
   "execution_count": 120,
   "metadata": {},
   "outputs": [],
   "source": [
    "# Count everything up\n",
    "total_count = chi_squared_data.size\n",
    "group_a_count = chi_squared_data['Version_A'].count()\n",
    "group_b_count = chi_squared_data['Version_B'].count()\n",
    "\n",
    "group_a_positive_count = chi_squared_data['Version_A'].value_counts()['Satisfied']\n",
    "group_a_negative_count = chi_squared_data['Version_A'].value_counts()['Not Satisfied']\n",
    "\n",
    "group_b_positive_count = chi_squared_data['Version_B'].value_counts()['Satisfied']\n",
    "group_b_negative_count = chi_squared_data['Version_B'].value_counts()['Not Satisfied']"
   ]
  },
  {
   "cell_type": "code",
   "execution_count": 121,
   "metadata": {},
   "outputs": [
    {
     "data": {
      "text/html": [
       "<div>\n",
       "<style scoped>\n",
       "    .dataframe tbody tr th:only-of-type {\n",
       "        vertical-align: middle;\n",
       "    }\n",
       "\n",
       "    .dataframe tbody tr th {\n",
       "        vertical-align: top;\n",
       "    }\n",
       "\n",
       "    .dataframe thead th {\n",
       "        text-align: right;\n",
       "    }\n",
       "</style>\n",
       "<table border=\"1\" class=\"dataframe\">\n",
       "  <thead>\n",
       "    <tr style=\"text-align: right;\">\n",
       "      <th></th>\n",
       "      <th>Test Group</th>\n",
       "      <th>Total</th>\n",
       "      <th>Satisfied</th>\n",
       "      <th>Not Satisfied</th>\n",
       "      <th>Satisfied Rate</th>\n",
       "    </tr>\n",
       "  </thead>\n",
       "  <tbody>\n",
       "    <tr>\n",
       "      <th>0</th>\n",
       "      <td>Group A</td>\n",
       "      <td>500</td>\n",
       "      <td>394</td>\n",
       "      <td>106</td>\n",
       "      <td>0.788</td>\n",
       "    </tr>\n",
       "    <tr>\n",
       "      <th>1</th>\n",
       "      <td>Group B</td>\n",
       "      <td>500</td>\n",
       "      <td>43</td>\n",
       "      <td>457</td>\n",
       "      <td>0.086</td>\n",
       "    </tr>\n",
       "  </tbody>\n",
       "</table>\n",
       "</div>"
      ],
      "text/plain": [
       "  Test Group  Total  Satisfied  Not Satisfied  Satisfied Rate\n",
       "0    Group A    500        394            106           0.788\n",
       "1    Group B    500         43            457           0.086"
      ]
     },
     "execution_count": 121,
     "metadata": {},
     "output_type": "execute_result"
    }
   ],
   "source": [
    "# Create a new DataFrame for plotting\n",
    "plot_data = pd.DataFrame({\n",
    "    'Test Group': [\"Group A\", \"Group B\"],\n",
    "    'Total': [group_a_count, group_b_count],\n",
    "    'Satisfied': [group_a_positive_count, group_b_positive_count],\n",
    "    'Not Satisfied': [group_a_negative_count, group_b_negative_count],\n",
    "    'Satisfied Rate': [group_a_positive_count/group_a_count, group_b_positive_count/group_b_count],\n",
    "}, index=[0, 1])\n",
    "plot_data"
   ]
  },
  {
   "cell_type": "markdown",
   "metadata": {},
   "source": [
    "### Visualization"
   ]
  },
  {
   "cell_type": "code",
   "execution_count": 122,
   "metadata": {},
   "outputs": [
    {
     "data": {
      "image/png": "[encoded data removed]",
      "text/plain": [
       "<Figure size 432x720 with 1 Axes>"
      ]
     },
     "metadata": {},
     "output_type": "display_data"
    }
   ],
   "source": [
    "# Plot stacked bars\n",
    "plt.figure(figsize=(6, 10))\n",
    "\n",
    "plot_total = sns.barplot(x=plot_data['Test Group'], \n",
    "                        y=plot_data['Total'], color='lightgrey')\n",
    "\n",
    "plot_satisfied = sns.barplot(x=plot_data['Test Group'], \n",
    "                            y=plot_data['Satisfied'], color='slateblue')\n",
    "\n",
    "# Set labels and title\n",
    "plt.title('Percentage of Satisfied per Group', fontsize=15)\n",
    "plt.ylabel('Count')\n",
    "plt.tick_params(left=False,bottom=False,labelleft=True,labelbottom=True)\n",
    "\n",
    "# Put values on top of bars\n",
    "row_list = []\n",
    "for index, row in plot_data[plot_data['Test Group'] == 'Group A'][['Satisfied', 'Satisfied Rate']].iterrows():\n",
    "    plot_total.text(row.name, row['Satisfied']+5, str(round(100 * row['Satisfied Rate'], 2)) + '%', color='slateblue', ha=\"center\", fontsize=15)\n",
    "for index, row in plot_data[plot_data['Test Group'] == 'Group B'][['Satisfied', 'Satisfied Rate']].iterrows():\n",
    "    plot_satisfied.text(row.name, row['Satisfied']+5, str(round(100 * row['Satisfied Rate'], 2)) + '%', color='slateblue', ha=\"center\", fontsize=15)\n",
    "# Show the plot\n",
    "plt.show()"
   ]
  },
  {
   "cell_type": "code",
   "execution_count": null,
   "metadata": {},
   "outputs": [],
   "source": []
  },
  {
   "cell_type": "code",
   "execution_count": null,
   "metadata": {},
   "outputs": [],
   "source": []
  },
  {
   "cell_type": "code",
   "execution_count": null,
   "metadata": {},
   "outputs": [],
   "source": []
  },
  {
   "cell_type": "markdown",
   "metadata": {},
   "source": [
    "# Fisher's Exact Test"
   ]
  },
  {
   "cell_type": "markdown",
   "metadata": {},
   "source": [
    "> Fisher's Exact Test:\n",
    "Purpose: Fisher's Exact Test is used to determine whether there are nonrandom associations between two categorical variables in a contingency table, especially when sample sizes are small.\n",
    "Application: It is commonly used when the sample sizes are small or when the Chi-Squared Test assumptions are violated (e.g., expected cell frequencies are less than 5).\n",
    "Calculation: Fisher's Exact Test calculates the probability of observing a particular arrangement of data, given the marginal totals, under the null hypothesis of independence.\n",
    "Advantage: It provides an exact p-value for the test, making it useful when sample sizes are small.\n",
    "Limitation: Computationally intensive for large contingency tables.\n",
    "\n",
    "> Chi-Squared Test:\n",
    "Purpose: The Chi-Squared Test assesses whether there is a significant association between two categorical variables in a contingency table.\n",
    "Application: It is widely used when analyzing categorical data, especially in larger sample sizes.\n",
    "Calculation: The Chi-Squared Test calculates the discrepancy between the observed and expected frequencies in each cell of the contingency table, and then sums these discrepancies to obtain the Chi-Squared statistic.\n",
    "Advantage: It is relatively straightforward to compute and interpret, making it a popular choice for analyzing categorical data.\n",
    "Limitation: Less accurate for small sample sizes or when expected cell frequencies are low."
   ]
  },
  {
   "cell_type": "code",
   "execution_count": null,
   "metadata": {},
   "outputs": [],
   "source": []
  },
  {
   "cell_type": "markdown",
   "metadata": {},
   "source": [
    "# Chi Sqiared Goodness of Fit"
   ]
  },
  {
   "cell_type": "code",
   "execution_count": 123,
   "metadata": {},
   "outputs": [],
   "source": [
    "# from scipy.stats import chisquare\n",
    "\n",
    "# # Function to run Goodness of Fit test\n",
    "# def run_goodness_of_fit_test(data, expected_distribution):\n",
    "#     # Calculate observed frequencies\n",
    "#     observed_counts = data.sum()\n",
    "\n",
    "#     # Calculate expected counts based on the provided distribution\n",
    "#     total_samples = len(data)\n",
    "#     expected_counts = total_samples * np.array(expected_distribution)\n",
    "\n",
    "#     # Run the Goodness of Fit test\n",
    "#     chi2_stat, p_value = chisquare(observed_counts, f_exp=expected_counts)\n",
    "\n",
    "#     print(f'Goodness of Fit Test: Chi-squared Statistic={chi2_stat}, p-value={p_value}')\n",
    "\n",
    "#     # Interpret the results\n",
    "#     alpha = 0.05\n",
    "#     if p_value < alpha:\n",
    "#         print('Reject the null hypothesis: There is a significant difference between observed and expected distributions.')\n",
    "#     else:\n",
    "#         print('Fail to reject the null hypothesis: There is no significant difference between observed and expected distributions.')\n",
    "\n",
    "# # Example usage for A/B test data and expected distribution\n",
    "# run_goodness_of_fit_test(ab_test_data, expected_distribution)"
   ]
  },
  {
   "cell_type": "code",
   "execution_count": null,
   "metadata": {},
   "outputs": [],
   "source": []
  },
  {
   "cell_type": "code",
   "execution_count": null,
   "metadata": {},
   "outputs": [],
   "source": []
  },
  {
   "cell_type": "code",
   "execution_count": null,
   "metadata": {},
   "outputs": [],
   "source": []
  }
 ],
 "metadata": {
  "kernelspec": {
   "display_name": "base",
   "language": "python",
   "name": "python3"
  },
  "language_info": {
   "codemirror_mode": {
    "name": "ipython",
    "version": 3
   },
   "file_extension": ".py",
   "mimetype": "text/x-python",
   "name": "python",
   "nbconvert_exporter": "python",
   "pygments_lexer": "ipython3",
   "version": "3.9.7"
  }
 },
 "nbformat": 4,
 "nbformat_minor": 2
}
