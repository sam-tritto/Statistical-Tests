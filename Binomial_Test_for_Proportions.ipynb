{
 "cells": [
  {
   "cell_type": "markdown",
   "metadata": {},
   "source": [
    "# Binomial Test"
   ]
  },
  {
   "cell_type": "markdown",
   "metadata": {},
   "source": [
    "> Use Case\n",
    "- Used when dealing with a dichotomous outcome (success/failure) and comparing the proportion of successes between two independent groups.\n",
    "- Useful when the sample size is small.\n",
    "- Can have different sample sizes.\n",
    "> Assumptions\n",
    "- The data must be binary (success/failure).\n",
    "- Each observation must be independent.\n",
    "> Example Scenario\n",
    "- Testing whether the click-through rate (CTR) for a new ad campaign is different from the historical CTR (historical success rate).\n",
    "> Null Hypothesis (H0):\n",
    "- There is no difference in proportions\n",
    "- The click-through rate for the new ad campaign is equal to the historical CTR.\n",
    "> Alternative Hypothesis (H1):\n",
    "- There is a significant difference in proportions\n",
    "- The click-through rate for the new ad campaign is different from the historical CTR."
   ]
  },
  {
   "cell_type": "code",
   "execution_count": 1,
   "metadata": {},
   "outputs": [
    {
     "name": "stderr",
     "output_type": "stream",
     "text": [
      "/Users/sam/opt/anaconda3/envs/ab_env/lib/python3.9/site-packages/pandas/core/computation/expressions.py:21: UserWarning: Pandas requires version '2.8.4' or newer of 'numexpr' (version '2.7.1' currently installed).\n",
      "  from pandas.core.computation.check import NUMEXPR_INSTALLED\n",
      "/Users/sam/opt/anaconda3/envs/ab_env/lib/python3.9/site-packages/pandas/core/arrays/masked.py:60: UserWarning: Pandas requires version '1.3.6' or newer of 'bottleneck' (version '1.3.2' currently installed).\n",
      "  from pandas.core import (\n",
      "/var/folders/r4/fdchq33x2vg7z1_7dstrhrn80000gn/T/ipykernel_68028/1798466471.py:1: DeprecationWarning: \n",
      "Pyarrow will become a required dependency of pandas in the next major release of pandas (pandas 3.0),\n",
      "(to allow more performant data types, such as the Arrow string type, and better interoperability with other libraries)\n",
      "but was not found to be installed on your system.\n",
      "If this would cause problems for you,\n",
      "please provide us feedback at https://github.com/pandas-dev/pandas/issues/54466\n",
      "        \n",
      "  import pandas as pd\n",
      "<frozen importlib._bootstrap>:228: RuntimeWarning: scipy._lib.messagestream.MessageStream size changed, may indicate binary incompatibility. Expected 56 from C header, got 64 from PyObject\n"
     ]
    }
   ],
   "source": [
    "import pandas as pd\n",
    "import numpy as np\n",
    "import matplotlib.pyplot as plt\n",
    "import seaborn as sns\n",
    "\n",
    "# !pip install scipy==1.12.0\n",
    "from scipy.stats import binomtest, norm, binom\n",
    "\n",
    "# !pip install statsmodels==0.12.2\n",
    "from statsmodels.stats.proportion import binom_test, proportion_effectsize\n",
    "\n",
    "# !pip install pingouin==0.5.4\n",
    "from pingouin import bayesfactor_binom"
   ]
  },
  {
   "cell_type": "code",
   "execution_count": 2,
   "metadata": {},
   "outputs": [
    {
     "data": {
      "text/plain": [
       "'0.12.2'"
      ]
     },
     "execution_count": 2,
     "metadata": {},
     "output_type": "execute_result"
    }
   ],
   "source": [
    "import statsmodels\n",
    "statsmodels.__version__"
   ]
  },
  {
   "cell_type": "code",
   "execution_count": 3,
   "metadata": {},
   "outputs": [
    {
     "data": {
      "text/plain": [
       "'1.12.0'"
      ]
     },
     "execution_count": 3,
     "metadata": {},
     "output_type": "execute_result"
    }
   ],
   "source": [
    "import scipy\n",
    "scipy.__version__"
   ]
  },
  {
   "cell_type": "code",
   "execution_count": 4,
   "metadata": {},
   "outputs": [],
   "source": [
    "# Set random seed for reproducibility\n",
    "np.random.seed(42)"
   ]
  },
  {
   "cell_type": "code",
   "execution_count": 5,
   "metadata": {},
   "outputs": [],
   "source": [
    "# set seaborn style\n",
    "sns.set(style=\"white\", palette=\"mako\")\n",
    "\n",
    "# colors\n",
    "color = 'tomato'\n",
    "\n",
    "# remove some borders    \n",
    "plt.rcParams['axes.axisbelow'] = True\n",
    "plt.rcParams['axes.spines.left'] = False\n",
    "plt.rcParams['axes.spines.bottom'] = True\n",
    "plt.rcParams['axes.spines.top'] = False\n",
    "plt.rcParams['axes.spines.right'] = False"
   ]
  },
  {
   "cell_type": "code",
   "execution_count": null,
   "metadata": {},
   "outputs": [],
   "source": []
  },
  {
   "cell_type": "markdown",
   "metadata": {},
   "source": [
    "### Power Analysis"
   ]
  },
  {
   "cell_type": "code",
   "execution_count": 6,
   "metadata": {},
   "outputs": [],
   "source": [
    "# Historical click-through rate\n",
    "historical_ctr = 0.14"
   ]
  },
  {
   "cell_type": "code",
   "execution_count": 7,
   "metadata": {},
   "outputs": [],
   "source": [
    "\n",
    "def plot_power_binom(p1, k=1, confidence_level=0.95, power=0.8):\n",
    "    '''\n",
    "    Reference: \n",
    "        The calculations are the customary ones based on the normal approximation to the binomial distribution. \n",
    "        See for example Hypothesis Testing: Categorical Data - Estimation of Sample Size and Power for Comparing Two Binomial Proportions \n",
    "        in Bernard Rosner's Fundamentals of Biostatistics\n",
    "    \n",
    "    About:\n",
    "        Plots the varying number of samples needed to run a Binomial Test for two groups with different number of samples for each group\n",
    "\n",
    "    Arguments:\n",
    "        p1:(float) = The proportion of successes from Group A \n",
    "        k:(float) = The ratio of samples for Group B compared to Group A (if 2 then Group B requires twice as many samples)\n",
    "        confidence_level:(float) = A value between 0.0 and 1.0 for the confidence level (1-alpha) or False Positive Rate\n",
    "        power:(float) = A value between 0.0 and 1.0 for the statistical power of the test or the True Positive Rate\n",
    "    \n",
    "    Outputs:\n",
    "        A plot of samples sizes needed per varying differences in proportions\n",
    "    '''\n",
    "    # The propotion of failures for group A\n",
    "    q1 = 1 - p1\n",
    "    # An array of posssible propotion of successes in Group B\n",
    "    p2 = np.array([p for p in np.linspace(0.01, 1, 10) + p1 if p < 1 ])\n",
    "    # The propotion of failures for group B\n",
    "    q2 = 1 - p2\n",
    "    # The average of propotions of successes between the two groups\n",
    "    p_avg = ((p1 + p2)/2)\n",
    "    # The avgerage propotion of failures between the two groups\n",
    "    q_avg = 1 - p_avg\n",
    "    # The two-tailed z-score for the confidence level\n",
    "    z_alpha = norm.ppf(1 - (1 - confidence_level) / 2)\n",
    "    # The one-tailed z-score for the power\n",
    "    z_beta = norm.ppf(1 - (1 - power) )\n",
    "    # The difference in proportions\n",
    "    delta = p2 - p1\n",
    "    # An array of sample sizes for group A\n",
    "    n1 = (((np.sqrt((p_avg * q_avg * (1 + (1/k)))) * z_alpha) + ((np.sqrt((p1*q1) + ((p2*q2) / k))) * z_beta))**2) / (delta**2)\n",
    "    # An array of sample sizes for group B\n",
    "    n2 = n1 * k\n",
    "\n",
    "    # Figure size\n",
    "    plt.figure(figsize=(12, 4))\n",
    "    # Plot samples versus effect sizes\n",
    "    plt.plot(delta, n1, color=color, marker='o', label = \"Group A\")\n",
    "    # Shade area below the line with lower opacity\n",
    "    plt.fill_between(delta, n1, color=color, alpha=0.3)\n",
    "    # Plot samples versus effect sizes\n",
    "    plt.plot(delta, n2, color='lightblue', marker='o', label = \"Group B\")\n",
    "    # Shade area below the line with lower opacity\n",
    "    plt.fill_between(delta, n2, color='lightblue', alpha=0.3)\n",
    "    # Add plot labels and title\n",
    "    plt.xlabel('Anticipated Difference in Proportions')\n",
    "    plt.ylabel('Number of Samples')\n",
    "    plt.title('Samples versus Anticipated Difference in Proportions Binomial Test')\n",
    "    plt.legend()\n",
    "    plt.show()"
   ]
  },
  {
   "cell_type": "code",
   "execution_count": 8,
   "metadata": {},
   "outputs": [
    {
     "data": {
      "image/png": "[encoded data removed]",
      "text/plain": [
       "<Figure size 864x288 with 1 Axes>"
      ]
     },
     "metadata": {
      "needs_background": "light"
     },
     "output_type": "display_data"
    }
   ],
   "source": [
    "# the confidence level (1-alpha) or False Positive Rate\n",
    "confidence_level = 0.95\n",
    "# the statistical power of the test or the True Positive Rate\n",
    "power = 0.8\n",
    "# the historical proportion of group A\n",
    "p1 = historical_ctr\n",
    "# how many times more samples for group B\n",
    "k = 2\n",
    "\n",
    "plot_power_binom(p1 = historical_ctr, k=k, confidence_level=confidence_level, power=power)"
   ]
  },
  {
   "cell_type": "code",
   "execution_count": 9,
   "metadata": {},
   "outputs": [],
   "source": [
    "def power_binom(p1, p2, k=1, confidence_level=0.95, power=0.8):\n",
    "    '''\n",
    "    Reference: \n",
    "        The calculations are the customary ones based on the normal approximation to the binomial distribution. \n",
    "        See for example Hypothesis Testing: Categorical Data - Estimation of Sample Size and Power for Comparing Two Binomial Proportions \n",
    "        in Bernard Rosner's Fundamentals of Biostatistics\n",
    "    \n",
    "    About:\n",
    "        Estimates number of samples needed to run a Binomial Test for two groups with different number of samples for each group\n",
    "\n",
    "    Arguments:\n",
    "        p1:(float) = The proportion of successes from Group A \n",
    "        p2:(float) = The estimated proportion of successes from Group B\n",
    "        k:(float) = The ratio of samples for Group B compared to Group A (if 2 then Group B requires twice as many samples)\n",
    "        confidence_level:(float) = A value between 0.0 and 1.0 for the confidence level (1-alpha) or False Positive Rate\n",
    "        power:(float) = A value between 0.0 and 1.0 for the statistical power of the test or the True Positive Rate\n",
    "    \n",
    "    Outputs:\n",
    "        n1:(int) = The number of samples required for Group A\n",
    "        n2:(int) = The number of samples required for Group B\n",
    "    '''\n",
    "    # The propotion of failures for group A\n",
    "    q1 = 1 - p1\n",
    "    # The propotion of failures for group B\n",
    "    q2 = 1 - p2\n",
    "    # The average of propotions of successes between the two groups\n",
    "    p_avg = ((p1 + p2)/2)\n",
    "    # The avgerage propotion of failures between the two groups\n",
    "    q_avg = 1 - p_avg\n",
    "    # The two-tailed z-score for the confidence level\n",
    "    z_alpha = norm.ppf(1 - (1 - confidence_level)/ 2)\n",
    "    # The one-tailed z-score for the power\n",
    "    z_beta = norm.ppf(power)\n",
    "    # The difference in proportions\n",
    "    delta = p1 - p2\n",
    "    # Sample size for group A\n",
    "    n1 = int(np.ceil((((np.sqrt((p_avg * q_avg * (1 + (1/k)))) * z_alpha) + ((np.sqrt((p1*q1) + ((p2*q2) / k))) * z_beta))**2) / (delta**2)))\n",
    "    # Sample size for group B\n",
    "    n2 = int(np.ceil(n1 * k))\n",
    "\n",
    "    print(f\"Samples size for Group A: {n1}\")\n",
    "    print(f\"Samples size for Group B: {n2}\")\n",
    "\n",
    "    return n1, n2"
   ]
  },
  {
   "cell_type": "code",
   "execution_count": 10,
   "metadata": {},
   "outputs": [
    {
     "name": "stdout",
     "output_type": "stream",
     "text": [
      "Samples size for Group A: 455\n",
      "Samples size for Group B: 910\n"
     ]
    }
   ],
   "source": [
    "# the confidence level (1-alpha) or False Positive Rate\n",
    "confidence_level = 0.95\n",
    "# the statistical power of the test or the True Positive Rate\n",
    "power = 0.8\n",
    "# the historical proportion of group A\n",
    "p1 = historical_ctr\n",
    "# the anticipated proportion of group B\n",
    "p2 = 0.2\n",
    "# how many times more samples for group B\n",
    "k = 2\n",
    "\n",
    "n1, n2 = power_binom(p1, p2, k=k, confidence_level=0.95, power=0.8)"
   ]
  },
  {
   "cell_type": "code",
   "execution_count": null,
   "metadata": {},
   "outputs": [],
   "source": []
  },
  {
   "cell_type": "markdown",
   "metadata": {},
   "source": [
    "### Synthetic Data"
   ]
  },
  {
   "cell_type": "code",
   "execution_count": 11,
   "metadata": {},
   "outputs": [
    {
     "data": {
      "text/html": [
       "<div>\n",
       "<style scoped>\n",
       "    .dataframe tbody tr th:only-of-type {\n",
       "        vertical-align: middle;\n",
       "    }\n",
       "\n",
       "    .dataframe tbody tr th {\n",
       "        vertical-align: top;\n",
       "    }\n",
       "\n",
       "    .dataframe thead th {\n",
       "        text-align: right;\n",
       "    }\n",
       "</style>\n",
       "<table border=\"1\" class=\"dataframe\">\n",
       "  <thead>\n",
       "    <tr style=\"text-align: right;\">\n",
       "      <th></th>\n",
       "      <th>Historical_CTR</th>\n",
       "      <th>New_Ad_Campaign</th>\n",
       "    </tr>\n",
       "  </thead>\n",
       "  <tbody>\n",
       "    <tr>\n",
       "      <th>0</th>\n",
       "      <td>0</td>\n",
       "      <td>0</td>\n",
       "    </tr>\n",
       "    <tr>\n",
       "      <th>1</th>\n",
       "      <td>0</td>\n",
       "      <td>1</td>\n",
       "    </tr>\n",
       "    <tr>\n",
       "      <th>2</th>\n",
       "      <td>0</td>\n",
       "      <td>0</td>\n",
       "    </tr>\n",
       "    <tr>\n",
       "      <th>3</th>\n",
       "      <td>0</td>\n",
       "      <td>0</td>\n",
       "    </tr>\n",
       "    <tr>\n",
       "      <th>4</th>\n",
       "      <td>0</td>\n",
       "      <td>0</td>\n",
       "    </tr>\n",
       "    <tr>\n",
       "      <th>...</th>\n",
       "      <td>...</td>\n",
       "      <td>...</td>\n",
       "    </tr>\n",
       "    <tr>\n",
       "      <th>905</th>\n",
       "      <td>1</td>\n",
       "      <td>&lt;NA&gt;</td>\n",
       "    </tr>\n",
       "    <tr>\n",
       "      <th>906</th>\n",
       "      <td>0</td>\n",
       "      <td>&lt;NA&gt;</td>\n",
       "    </tr>\n",
       "    <tr>\n",
       "      <th>907</th>\n",
       "      <td>0</td>\n",
       "      <td>&lt;NA&gt;</td>\n",
       "    </tr>\n",
       "    <tr>\n",
       "      <th>908</th>\n",
       "      <td>0</td>\n",
       "      <td>&lt;NA&gt;</td>\n",
       "    </tr>\n",
       "    <tr>\n",
       "      <th>909</th>\n",
       "      <td>0</td>\n",
       "      <td>&lt;NA&gt;</td>\n",
       "    </tr>\n",
       "  </tbody>\n",
       "</table>\n",
       "<p>910 rows × 2 columns</p>\n",
       "</div>"
      ],
      "text/plain": [
       "     Historical_CTR  New_Ad_Campaign\n",
       "0                 0                0\n",
       "1                 0                1\n",
       "2                 0                0\n",
       "3                 0                0\n",
       "4                 0                0\n",
       "..              ...              ...\n",
       "905               1             <NA>\n",
       "906               0             <NA>\n",
       "907               0             <NA>\n",
       "908               0             <NA>\n",
       "909               0             <NA>\n",
       "\n",
       "[910 rows x 2 columns]"
      ]
     },
     "execution_count": 11,
     "metadata": {},
     "output_type": "execute_result"
    }
   ],
   "source": [
    "n_trials = n2\n",
    "\n",
    "# Generate synthetic data for new ad campaign\n",
    "# Assuming a slightly higher CTR for the new campaign\n",
    "new_ad_campaign = np.random.binomial(n=1, p=0.18, size=n1)  \n",
    "hist_ad_campaign = np.random.binomial(n=1, p=historical_ctr, size=n2)\n",
    "\n",
    "# Ensure the lists are of the same size\n",
    "max_len = max(len(new_ad_campaign), len(hist_ad_campaign))\n",
    "new_ad_campaign = np.append(new_ad_campaign, [np.nan] * (max_len - len(new_ad_campaign)))\n",
    "hist_ad_campaign = np.append(hist_ad_campaign, [np.nan] * (max_len - len(hist_ad_campaign)))\n",
    "\n",
    "\n",
    "# Create pandas data frame\n",
    "binomial_data = pd.DataFrame({'Historical_CTR': hist_ad_campaign,\n",
    "                            'New_Ad_Campaign': new_ad_campaign})\n",
    "\n",
    "binomial_data = binomial_data.astype(\"Int64\")\n",
    "binomial_data"
   ]
  },
  {
   "cell_type": "code",
   "execution_count": null,
   "metadata": {},
   "outputs": [],
   "source": []
  },
  {
   "cell_type": "markdown",
   "metadata": {},
   "source": [
    "### Check Assumptions"
   ]
  },
  {
   "cell_type": "code",
   "execution_count": 12,
   "metadata": {},
   "outputs": [
    {
     "name": "stdout",
     "output_type": "stream",
     "text": [
      "Binomial Test Assumption: At least 5 successes and 5 failures - Met\n",
      "Binomial Test Assumption: Data is numeric and binary - Met\n"
     ]
    }
   ],
   "source": [
    "# Assumption check for binomial test\n",
    "min_successes = 5\n",
    "min_failures = 5\n",
    "\n",
    "# Check if there are enough successes and failures\n",
    "successes_check = (binomial_data['New_Ad_Campaign'].sum() >= min_successes)\n",
    "failures_check = ((n_trials - binomial_data['New_Ad_Campaign'].sum()) >= min_failures)\n",
    "\n",
    "# Check if the data is binary\n",
    "binary_new_check = (binomial_data['New_Ad_Campaign'].isin([0, 1, np.nan, pd.NA]).all())\n",
    "binary_historical_check = (binomial_data['Historical_CTR'].isin([0, 1, np.nan, pd.NA]).all())\n",
    "\n",
    "print(f\"Binomial Test Assumption: At least {min_successes} successes and {min_failures} failures - {'Met' if successes_check and failures_check else 'Not Met'}\")\n",
    "print(f\"Binomial Test Assumption: Data is numeric and binary - {'Met' if binary_new_check and binary_historical_check else 'Not Met'}\")\n"
   ]
  },
  {
   "cell_type": "code",
   "execution_count": null,
   "metadata": {},
   "outputs": [],
   "source": []
  },
  {
   "cell_type": "markdown",
   "metadata": {},
   "source": [
    "### Binomial Test (scipy)"
   ]
  },
  {
   "cell_type": "code",
   "execution_count": 13,
   "metadata": {},
   "outputs": [],
   "source": [
    "# Pre-determined alpha\n",
    "alpha = 0.05"
   ]
  },
  {
   "cell_type": "code",
   "execution_count": 14,
   "metadata": {},
   "outputs": [
    {
     "name": "stdout",
     "output_type": "stream",
     "text": [
      "P-value for Binomial Test: 2.072541580973687e-06\n",
      "\n",
      "\n",
      "Reject the null hypothesis.\n",
      "The click-through rate for the new ad campaign is significantly different from the historical CTR.\n"
     ]
    }
   ],
   "source": [
    "# Assuming binomial test assumptions are met\n",
    "\n",
    "# Binomial test\n",
    "result = binomtest(binomial_data['New_Ad_Campaign'].sum(), n_trials, p=historical_ctr)\n",
    "\n",
    "# p-value\n",
    "p_value = result.pvalue\n",
    "\n",
    "print(f\"P-value for Binomial Test: {p_value}\")\n",
    "\n",
    "# Check for statistical significance\n",
    "if p_value < alpha:\n",
    "    conclusion = \"Reject the null hypothesis.\"\n",
    "    interpretation = \"The click-through rate for the new ad campaign is significantly different from the historical CTR.\"\n",
    "else:\n",
    "    conclusion = \"Fail to reject the null hypothesis.\"\n",
    "    interpretation = \"There is no significant difference in click-through rates between the new ad campaign and historical CTR.\"\n",
    "print(\"\\n\")\n",
    "print(conclusion)\n",
    "print(interpretation)"
   ]
  },
  {
   "cell_type": "code",
   "execution_count": null,
   "metadata": {},
   "outputs": [],
   "source": []
  },
  {
   "cell_type": "markdown",
   "metadata": {},
   "source": [
    "### Binomial Test (statsmodels)"
   ]
  },
  {
   "cell_type": "code",
   "execution_count": 31,
   "metadata": {},
   "outputs": [],
   "source": [
    "# Pre-determined alpha\n",
    "alpha = 0.05"
   ]
  },
  {
   "cell_type": "code",
   "execution_count": 32,
   "metadata": {},
   "outputs": [
    {
     "ename": "AttributeError",
     "evalue": "module 'scipy.stats' has no attribute 'binom_test'",
     "output_type": "error",
     "traceback": [
      "\u001b[0;31m---------------------------------------------------------------------------\u001b[0m",
      "\u001b[0;31mAttributeError\u001b[0m                            Traceback (most recent call last)",
      "Cell \u001b[0;32mIn [32], line 4\u001b[0m\n\u001b[1;32m      1\u001b[0m count \u001b[38;5;241m=\u001b[39m binomial_data[\u001b[38;5;124m'\u001b[39m\u001b[38;5;124mNew_Ad_Campaign\u001b[39m\u001b[38;5;124m'\u001b[39m]\u001b[38;5;241m.\u001b[39msum()\n\u001b[1;32m      2\u001b[0m nobs \u001b[38;5;241m=\u001b[39m \u001b[38;5;28mlen\u001b[39m(binomial_data[\u001b[38;5;124m'\u001b[39m\u001b[38;5;124mNew_Ad_Campaign\u001b[39m\u001b[38;5;124m'\u001b[39m])\n\u001b[0;32m----> 4\u001b[0m \u001b[43mbinom_test\u001b[49m\u001b[43m(\u001b[49m\u001b[43mcount\u001b[49m\u001b[43m \u001b[49m\u001b[38;5;241;43m=\u001b[39;49m\u001b[43mcount\u001b[49m\u001b[43m,\u001b[49m\u001b[43m \u001b[49m\u001b[43mnobs\u001b[49m\u001b[38;5;241;43m=\u001b[39;49m\u001b[43mnobs\u001b[49m\u001b[43m,\u001b[49m\u001b[43m \u001b[49m\u001b[43mprop\u001b[49m\u001b[38;5;241;43m=\u001b[39;49m\u001b[43mhistorical_ctr\u001b[49m\u001b[43m,\u001b[49m\u001b[43m \u001b[49m\u001b[43malternative\u001b[49m\u001b[38;5;241;43m=\u001b[39;49m\u001b[38;5;124;43m'\u001b[39;49m\u001b[38;5;124;43mtwo-sided\u001b[39;49m\u001b[38;5;124;43m'\u001b[39;49m\u001b[43m)\u001b[49m\n",
      "File \u001b[0;32m~/opt/anaconda3/envs/ab_env/lib/python3.9/site-packages/statsmodels/stats/proportion.py:626\u001b[0m, in \u001b[0;36mbinom_test\u001b[0;34m(count, nobs, prop, alternative)\u001b[0m\n\u001b[1;32m    624\u001b[0m     \u001b[38;5;28;01mraise\u001b[39;00m \u001b[38;5;167;01mValueError\u001b[39;00m(\u001b[38;5;124m\"\u001b[39m\u001b[38;5;124mp must be in range [0,1]\u001b[39m\u001b[38;5;124m\"\u001b[39m)\n\u001b[1;32m    625\u001b[0m \u001b[38;5;28;01mif\u001b[39;00m alternative \u001b[38;5;129;01min\u001b[39;00m [\u001b[38;5;124m'\u001b[39m\u001b[38;5;124m2s\u001b[39m\u001b[38;5;124m'\u001b[39m, \u001b[38;5;124m'\u001b[39m\u001b[38;5;124mtwo-sided\u001b[39m\u001b[38;5;124m'\u001b[39m]:\n\u001b[0;32m--> 626\u001b[0m     pval \u001b[38;5;241m=\u001b[39m \u001b[43mstats\u001b[49m\u001b[38;5;241;43m.\u001b[39;49m\u001b[43mbinom_test\u001b[49m(count, n\u001b[38;5;241m=\u001b[39mnobs, p\u001b[38;5;241m=\u001b[39mprop)\n\u001b[1;32m    627\u001b[0m \u001b[38;5;28;01melif\u001b[39;00m alternative \u001b[38;5;129;01min\u001b[39;00m [\u001b[38;5;124m'\u001b[39m\u001b[38;5;124ml\u001b[39m\u001b[38;5;124m'\u001b[39m, \u001b[38;5;124m'\u001b[39m\u001b[38;5;124mlarger\u001b[39m\u001b[38;5;124m'\u001b[39m]:\n\u001b[1;32m    628\u001b[0m     pval \u001b[38;5;241m=\u001b[39m stats\u001b[38;5;241m.\u001b[39mbinom\u001b[38;5;241m.\u001b[39msf(count\u001b[38;5;241m-\u001b[39m\u001b[38;5;241m1\u001b[39m, nobs, prop)\n",
      "\u001b[0;31mAttributeError\u001b[0m: module 'scipy.stats' has no attribute 'binom_test'"
     ]
    }
   ],
   "source": [
    "count = binomial_data['New_Ad_Campaign'].sum()\n",
    "nobs = len(binomial_data['New_Ad_Campaign'])\n",
    "\n",
    "binom_test(count =count, nobs=nobs, prop=historical_ctr, alternative='two-sided')"
   ]
  },
  {
   "cell_type": "code",
   "execution_count": null,
   "metadata": {},
   "outputs": [],
   "source": []
  },
  {
   "cell_type": "markdown",
   "metadata": {},
   "source": [
    "# Binomial Test - Bayes Factor (pingouin)"
   ]
  },
  {
   "cell_type": "code",
   "execution_count": 15,
   "metadata": {},
   "outputs": [
    {
     "name": "stdout",
     "output_type": "stream",
     "text": [
      "Bayes Factor of the Alternative Hypothesis: 0.4332\n",
      "Bayes Factor of the Null Hypothesis: 2.3082\n",
      "\n",
      "\n",
      "There is more evidence to support the Null Hypothesis than the Alternative Hypothesis\n",
      "There is weak evidence for the Null Hypothesis, there probably is no difference in proportions\n"
     ]
    }
   ],
   "source": [
    "# The number of successes\n",
    "k = int(binomial_data['New_Ad_Campaign'].sum())\n",
    "# The number of trials\n",
    "n = int(binomial_data['New_Ad_Campaign'].count())\n",
    "# The historical probability\n",
    "p = historical_ctr\n",
    "# The alpha shape parameter of the Beta Distribution (a=a and b=1 is an uninformed prior)\n",
    "a = 1\n",
    "# The beta shape parameter of the Beta Distribution (a=a and b=1 is an uninformed prior)\n",
    "b = 1 \n",
    "\n",
    "# Evaluate Bayes Factor\n",
    "bf = bayesfactor_binom(k=k, n=n, p=p, a=a, b=b)\n",
    "\n",
    "print(f\"Bayes Factor of the Alternative Hypothesis: {round(bf, 4)}\")\n",
    "print(f\"Bayes Factor of the Null Hypothesis: {round(1/bf, 4)}\")\n",
    "print(\"\\n\")\n",
    "if bf > (1/bf):\n",
    "    print(\"There is more evidence to support the Alternative Hypothesis than the Null Hypothesis\")\n",
    "else:\n",
    "    print(\"There is more evidence to support the Null Hypothesis than the Alternative Hypothesis\")\n",
    "if bf < 1/10:\n",
    "    print(\"There is strong evidence for the Null Hypothesis, there is absolutely no difference in proportions\")\n",
    "elif bf < 1:\n",
    "    print(\"There is weak evidence for the Null Hypothesis, there probably is no difference in proportions\")\n",
    "elif bf < 10:\n",
    "    print(\"There is weak evidence for the Alternative Hypothesis, there is a probably a significant difference in proportions\")\n",
    "else:\n",
    "    print(\"There is strong evidence for the Alternative Hypothesis, there is absolutely a significant difference in proportions\")"
   ]
  },
  {
   "cell_type": "code",
   "execution_count": null,
   "metadata": {},
   "outputs": [],
   "source": []
  },
  {
   "cell_type": "markdown",
   "metadata": {},
   "source": [
    "### Summary Table"
   ]
  },
  {
   "cell_type": "code",
   "execution_count": 16,
   "metadata": {},
   "outputs": [],
   "source": [
    "# Count everything up\n",
    "total_count = binomial_data.size\n",
    "group_a_count = binomial_data['New_Ad_Campaign'].count()\n",
    "group_b_count = binomial_data['Historical_CTR'].count()\n",
    "\n",
    "group_a_positive_count = binomial_data['New_Ad_Campaign'].sum()\n",
    "group_a_negative_count = group_a_count - group_a_positive_count\n",
    "\n",
    "group_b_positive_count = binomial_data['Historical_CTR'].sum()\n",
    "group_b_negative_count = group_b_count - group_b_positive_count\n",
    "\n",
    "group_a_proportion = group_a_positive_count/group_a_count\n",
    "\n",
    "group_b_proportion = group_b_positive_count/group_b_count"
   ]
  },
  {
   "cell_type": "code",
   "execution_count": 17,
   "metadata": {},
   "outputs": [
    {
     "data": {
      "text/html": [
       "<div>\n",
       "<style scoped>\n",
       "    .dataframe tbody tr th:only-of-type {\n",
       "        vertical-align: middle;\n",
       "    }\n",
       "\n",
       "    .dataframe tbody tr th {\n",
       "        vertical-align: top;\n",
       "    }\n",
       "\n",
       "    .dataframe thead th {\n",
       "        text-align: right;\n",
       "    }\n",
       "</style>\n",
       "<table border=\"1\" class=\"dataframe\">\n",
       "  <thead>\n",
       "    <tr style=\"text-align: right;\">\n",
       "      <th></th>\n",
       "      <th>Test Group</th>\n",
       "      <th>Total</th>\n",
       "      <th>Click</th>\n",
       "      <th>No Click</th>\n",
       "      <th>Click Through Rate</th>\n",
       "    </tr>\n",
       "  </thead>\n",
       "  <tbody>\n",
       "    <tr>\n",
       "      <th>0</th>\n",
       "      <td>Group A: New Ad Campaign</td>\n",
       "      <td>455</td>\n",
       "      <td>80</td>\n",
       "      <td>375</td>\n",
       "      <td>0.175824</td>\n",
       "    </tr>\n",
       "    <tr>\n",
       "      <th>1</th>\n",
       "      <td>Group B: Historical CTR</td>\n",
       "      <td>910</td>\n",
       "      <td>145</td>\n",
       "      <td>765</td>\n",
       "      <td>0.159341</td>\n",
       "    </tr>\n",
       "  </tbody>\n",
       "</table>\n",
       "</div>"
      ],
      "text/plain": [
       "                 Test Group  Total  Click  No Click  Click Through Rate\n",
       "0  Group A: New Ad Campaign    455     80       375            0.175824\n",
       "1   Group B: Historical CTR    910    145       765            0.159341"
      ]
     },
     "execution_count": 17,
     "metadata": {},
     "output_type": "execute_result"
    }
   ],
   "source": [
    "# Create a new DataFrame for plotting\n",
    "plot_data = pd.DataFrame({\n",
    "    'Test Group': [\"Group A: New Ad Campaign\", \"Group B: Historical CTR\"],\n",
    "    'Total': [group_a_count, group_b_count],\n",
    "    'Click': [group_a_positive_count, group_b_positive_count],\n",
    "    'No Click': [group_a_negative_count, group_b_negative_count],\n",
    "    'Click Through Rate': [group_a_proportion, group_b_proportion],\n",
    "}, index=[0, 1])\n",
    "plot_data"
   ]
  },
  {
   "cell_type": "code",
   "execution_count": null,
   "metadata": {},
   "outputs": [],
   "source": []
  },
  {
   "cell_type": "markdown",
   "metadata": {},
   "source": [
    "### 95% Confidence Interval"
   ]
  },
  {
   "cell_type": "code",
   "execution_count": 18,
   "metadata": {},
   "outputs": [
    {
     "name": "stdout",
     "output_type": "stream",
     "text": [
      "Difference in Proportions: 0.016483516483516508\n",
      "95% Confidence Interval of Difference in Proportions: [-0.0190119037835845, 0.051978936750617516]\n"
     ]
    }
   ],
   "source": [
    "# Confidence interval\n",
    "confidence_interval = 0.95\n",
    "\n",
    "# Proportions\n",
    "prop_A = group_a_positive_count / group_a_count\n",
    "prop_B = group_b_positive_count / group_b_count\n",
    "\n",
    "# Standard errors\n",
    "se_A = np.sqrt(prop_A * (1 - prop_A) / group_a_count)\n",
    "se_B = np.sqrt(prop_B * (1 - prop_B) / group_b_count)\n",
    "\n",
    "# Difference in proportions\n",
    "prop_diff = prop_A - prop_B\n",
    "\n",
    "# Standard error of the difference\n",
    "se_diff = np.sqrt(se_A**2 + se_B**2)\n",
    "\n",
    "# Z-score for confidence interval (two-tailed)\n",
    "z_score = norm.ppf(confidence_interval)\n",
    "\n",
    "# Margin of error\n",
    "margin_of_error = z_score * se_diff\n",
    "\n",
    "# Confidence interval\n",
    "lower_ci = prop_diff - margin_of_error\n",
    "upper_ci = prop_diff + margin_of_error\n",
    "\n",
    "print(f\"Difference in Proportions: {prop_diff}\")\n",
    "print(f\"95% Confidence Interval of Difference in Proportions: [{lower_ci}, {upper_ci}]\")"
   ]
  },
  {
   "cell_type": "code",
   "execution_count": null,
   "metadata": {},
   "outputs": [],
   "source": []
  },
  {
   "cell_type": "markdown",
   "metadata": {},
   "source": [
    "### Effect Size"
   ]
  },
  {
   "cell_type": "code",
   "execution_count": 19,
   "metadata": {},
   "outputs": [
    {
     "name": "stdout",
     "output_type": "stream",
     "text": [
      "Cohen's h Effect Size: 0.04414526525022766\n",
      "\n",
      "\n",
      "There is no difference between the two groups.\n"
     ]
    }
   ],
   "source": [
    "# Cohen's h effect size\n",
    "h = abs(proportion_effectsize(prop_A, prop_B, method='normal'))\n",
    "\n",
    "print(f\"Cohen's h Effect Size: {h}\")\n",
    "print(\"\\n\")\n",
    "\n",
    "\n",
    "if h >= 0.8:\n",
    "    print(\"There is a large difference between the two groups.\")\n",
    "elif h >= 0.5:\n",
    "    print(\"There is a moderate difference between the two groups.\")\n",
    "elif h >= 0.2:\n",
    "    print(\"There is a small difference between the two groups.\")\n",
    "else:\n",
    "    print(\"There is no difference between the two groups.\")"
   ]
  },
  {
   "cell_type": "code",
   "execution_count": null,
   "metadata": {},
   "outputs": [],
   "source": []
  },
  {
   "cell_type": "markdown",
   "metadata": {},
   "source": [
    "### Odds Ratio"
   ]
  },
  {
   "cell_type": "code",
   "execution_count": 40,
   "metadata": {},
   "outputs": [
    {
     "name": "stdout",
     "output_type": "stream",
     "text": [
      "The odds ratio is 1.1255\n",
      "The odds of the outcome are 1.1255 times as high in the exposed group compared to the unexposed group.\n",
      "\n",
      "\n",
      "This suggests a positive association between the exposure and the outcome.\n",
      "It means that the odds of the outcome occurring in the exposed group are higher than the odds of the outcome occurring in the unexposed group. \n"
     ]
    }
   ],
   "source": [
    "\n",
    "# Odds Ratio\n",
    "odd_ratio = (group_a_positive_count * group_b_negative_count) / (group_b_positive_count * group_a_negative_count)\n",
    "\n",
    "print(f\"The odds ratio is {round(odd_ratio, 4)}\")\n",
    "print(f\"The odds of the outcome are {round(odd_ratio, 4)} times as high in the exposed group compared to the unexposed group.\")\n",
    "print(\"\\n\")\n",
    "\n",
    "if odd_ratio > 1:\n",
    "    print(\"This suggests a positive association between the exposure and the outcome.\\nIt means that the odds of the outcome occurring in the exposed group are higher than the odds of the outcome occurring in the unexposed group. \")\n",
    "elif odd_ratio < 1:\n",
    "    print(\"This implies a negative association between the exposure and the outcome.\\nIt indicates that the odds of the outcome occurring in the exposed group are lower than the odds of the outcome occurring in the unexposed group.\")\n",
    "else:\n",
    "    print(\"This indicates no association between the exposure and the outcome.\\nIn other words, the odds of the outcome occurring in the exposed group are the same as the odds of the outcome occurring in the unexposed group.\")"
   ]
  },
  {
   "cell_type": "code",
   "execution_count": null,
   "metadata": {},
   "outputs": [],
   "source": []
  },
  {
   "cell_type": "markdown",
   "metadata": {},
   "source": [
    "### Visualization"
   ]
  },
  {
   "cell_type": "code",
   "execution_count": 41,
   "metadata": {},
   "outputs": [
    {
     "data": {
      "image/png": "[encoded data removed]",
      "text/plain": [
       "<Figure size 432x720 with 1 Axes>"
      ]
     },
     "metadata": {},
     "output_type": "display_data"
    }
   ],
   "source": [
    "# Plot stacked bars\n",
    "plt.figure(figsize=(6, 10))\n",
    "\n",
    "plot_total = sns.barplot(x=plot_data['Test Group'], \n",
    "                        y=plot_data['Total'], color='lightgrey')\n",
    "\n",
    "plot_satisfied = sns.barplot(x=plot_data['Test Group'], \n",
    "                            y=plot_data['Click'], color=color)\n",
    "\n",
    "# Set labels and title\n",
    "plt.title('Click Through Rate per Ad Campaign', fontsize=15)\n",
    "plt.ylabel('Count')\n",
    "plt.tick_params(left=False,bottom=False,labelleft=True,labelbottom=True)\n",
    "\n",
    "# Put values on top of bars\n",
    "row_list = []\n",
    "for index, row in plot_data[plot_data['Test Group'] == 'Group A: New Ad Campaign'][['Click', 'Click Through Rate']].iterrows():\n",
    "    plot_total.text(row.name, row['Click']+5, str(round(100 * row['Click Through Rate'], 2)) + '%', color=color, ha=\"center\", fontsize=15)\n",
    "for index, row in plot_data[plot_data['Test Group'] == 'Group B: Historical CTR'][['Click', 'Click Through Rate']].iterrows():\n",
    "    plot_satisfied.text(row.name, row['Click']+5, str(round(100 * row['Click Through Rate'], 2)) + '%', color=color, ha=\"center\", fontsize=15)\n",
    "\n",
    "\n",
    "# Show the plot\n",
    "plt.show()"
   ]
  },
  {
   "cell_type": "code",
   "execution_count": null,
   "metadata": {},
   "outputs": [],
   "source": []
  },
  {
   "cell_type": "code",
   "execution_count": null,
   "metadata": {},
   "outputs": [],
   "source": []
  }
 ],
 "metadata": {
  "kernelspec": {
   "display_name": "base",
   "language": "python",
   "name": "python3"
  },
  "language_info": {
   "codemirror_mode": {
    "name": "ipython",
    "version": 3
   },
   "file_extension": ".py",
   "mimetype": "text/x-python",
   "name": "python",
   "nbconvert_exporter": "python",
   "pygments_lexer": "ipython3",
   "version": "3.9.7"
  }
 },
 "nbformat": 4,
 "nbformat_minor": 2
}
