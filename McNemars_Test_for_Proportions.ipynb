{
 "cells": [
  {
   "cell_type": "markdown",
   "metadata": {},
   "source": [
    "# McNemar's Test for Proportions\n",
    "> Use Case\n",
    "- McNemar's Test is used to analyze paired categorical data where the same subjects are measured twice under different conditions or treatments (paired samples).\n",
    "- Useful when dealing with paired or repeated measures data, such as before-and-after treatment comparisons or matched case-control studies.\n",
    "> Assumptions\n",
    "- The data is paired, meaning each subject contributes to both categories being compared.\n",
    "- The data is categorical with two levels or categories.\n",
    "- The observations are dependent within each pair.\n",
    "> Example Scenario\n",
    "- Suppose we want to assess whether a new teaching method improves students' performance compared to a traditional method. Each student's performance is assessed twice: once with the traditional method and once with the new method.\n",
    "> Null Hypothesis (H0):\n",
    "- The null hypothesis states that there is no difference in proportions between the two conditions or treatments.\n",
    "> Alternative Hypothesis (H1):\n",
    "- The alternative hypothesis states that there is a difference in proportions between the two conditions or treatments."
   ]
  },
  {
   "cell_type": "code",
   "execution_count": 159,
   "metadata": {},
   "outputs": [],
   "source": [
    "import pandas as pd\n",
    "import numpy as np\n",
    "import matplotlib.pyplot as plt\n",
    "import seaborn as sns\n",
    "\n",
    "# !pip install scipy==1.12.0\n",
    "from scipy.stats import norm\n",
    "\n",
    "# !pip install statsmodels==0.12.2\n",
    "from statsmodels.stats.power import NormalIndPower\n",
    "from statsmodels.stats.contingency_tables import mcnemar\n",
    "from statsmodels.stats.proportion import proportion_effectsize\n",
    "\n",
    "# !pip install pingouin==0.5.4\n",
    "from pingouin import chi2_mcnemar\n"
   ]
  },
  {
   "cell_type": "code",
   "execution_count": 160,
   "metadata": {},
   "outputs": [],
   "source": [
    "# Set random seed for reproducibility\n",
    "np.random.seed(42)"
   ]
  },
  {
   "cell_type": "code",
   "execution_count": 161,
   "metadata": {},
   "outputs": [],
   "source": [
    "# set seaborn style\n",
    "sns.set(style=\"white\", palette=\"mako\")\n",
    "\n",
    "# colors\n",
    "color = 'cadetblue'\n",
    "\n",
    "# remove some borders    \n",
    "plt.rcParams['axes.axisbelow'] = True\n",
    "plt.rcParams['axes.spines.left'] = False\n",
    "plt.rcParams['axes.spines.bottom'] = True\n",
    "plt.rcParams['axes.spines.top'] = False\n",
    "plt.rcParams['axes.spines.right'] = False "
   ]
  },
  {
   "cell_type": "code",
   "execution_count": null,
   "metadata": {},
   "outputs": [],
   "source": []
  },
  {
   "cell_type": "markdown",
   "metadata": {},
   "source": [
    "### Power Analysis"
   ]
  },
  {
   "cell_type": "code",
   "execution_count": 162,
   "metadata": {},
   "outputs": [
    {
     "data": {
      "image/png": "[encoded data removed]",
      "text/plain": [
       "<Figure size 864x288 with 1 Axes>"
      ]
     },
     "metadata": {},
     "output_type": "display_data"
    }
   ],
   "source": [
    "confidence_level = 0.95\n",
    "power = 0.8\n",
    "\n",
    "# Group A failure & Group B success proportion\n",
    "p01 = np.linspace(0.01, 0.5 ,50) \n",
    "# Group B failure & Group A success proportion\n",
    "p10 = np.linspace(0.01, 0.5, 50)\n",
    "p10 = p10[::-1]\n",
    "\n",
    "# Difference in proportions\n",
    "pdiff = p10 - p01\n",
    "# pdiff = pdiff[pdiff > 0] \n",
    "\n",
    "# Sum of proportions\n",
    "pdisc = p10 + p01\n",
    "\n",
    "# *2 to convert cited example's 1-sided test to 2-sided test\n",
    "alpha = (1-confidence_level) * 2  \n",
    "beta = (1-power)\n",
    "\n",
    "# Calculate samples\n",
    "samples = ((norm.ppf(1 - alpha/2) * np.sqrt(pdisc) + norm.ppf(1 - beta) * np.sqrt(pdisc - pdiff**2)) / pdiff)**2\n",
    "samples = np.ceil(samples) \n",
    "x1 = (pdiff * np.sqrt(samples) - norm.ppf(1 - alpha/2) * np.sqrt(pdisc)) / np.sqrt(pdisc - pdiff**2)\n",
    "x2 = (-pdiff * np.sqrt(samples) - norm.ppf(1 - alpha/2) * np.sqrt(pdisc)) / np.sqrt(pdisc - pdiff**2)\n",
    "power = norm.cdf(x1) + norm.cdf(x2)\n",
    "\n",
    "# We only need the positive difference, as the negative difference is the same\n",
    "pdiff = pdiff[pdiff>0]\n",
    "samples = samples[:len(pdiff[pdiff>0])]\n",
    "\n",
    "# Figure size\n",
    "plt.figure(figsize=(12, 4))\n",
    "# Plot samples versus effect size\n",
    "plt.plot(pdiff, samples, color=color, marker='o')\n",
    "# Shade area below the line with lower opacity\n",
    "plt.fill_between(pdiff, samples, color=color, alpha=0.3)\n",
    "# Add plot labels and title\n",
    "plt.xlabel('Difference in Proportions P(A and ~B) - P(B and ~A)')\n",
    "plt.ylabel('Number of Samples')\n",
    "plt.title(\"Samples versus Effect Size for McNemar's Test\")\n",
    "plt.show()\n"
   ]
  },
  {
   "cell_type": "code",
   "execution_count": 163,
   "metadata": {},
   "outputs": [
    {
     "name": "stdout",
     "output_type": "stream",
     "text": [
      "Difference in proportions: 0.1\n",
      "Required sample size: 246 pairs of samples\n"
     ]
    }
   ],
   "source": [
    "confidence_level = 0.95\n",
    "power = 0.8\n",
    "\n",
    "# Group A failure & Group B success proportion\n",
    "p01 = 0.15\n",
    "# Group B failure & Group A success proportion\n",
    "p10 = 0.25\n",
    "\n",
    "pdisc = p10 + p01\n",
    "pdiff = p10 - p01\n",
    "\n",
    "alpha = (1-confidence_level) * 2  # *2 to convert cited example's 1-sided test to 2-sided test\n",
    "beta = (1-power)\n",
    "\n",
    "\n",
    "samples = ((norm.ppf(1 - alpha/2) * np.sqrt(pdisc) + norm.ppf(1 - beta) * np.sqrt(pdisc - pdiff**2)) / pdiff)**2\n",
    "# Round up to nearest integer\n",
    "samples = int(np.ceil(samples))\n",
    "\n",
    "x1 = (pdiff * np.sqrt(samples) - norm.ppf(1 - alpha/2) * np.sqrt(pdisc)) / np.sqrt(pdisc - pdiff**2)\n",
    "x2 = (-pdiff * np.sqrt(samples) - norm.ppf(1 - alpha/2) * np.sqrt(pdisc)) / np.sqrt(pdisc - pdiff**2)\n",
    "power = norm.cdf(x1) + norm.cdf(x2)\n",
    "\n",
    "print(f\"Difference in proportions: {round(pdiff, 4)}\")\n",
    "print(f\"Required sample size: {samples} pairs of samples\")"
   ]
  },
  {
   "cell_type": "code",
   "execution_count": null,
   "metadata": {},
   "outputs": [],
   "source": []
  },
  {
   "cell_type": "markdown",
   "metadata": {},
   "source": [
    "### Synthetic Data"
   ]
  },
  {
   "cell_type": "code",
   "execution_count": 164,
   "metadata": {},
   "outputs": [
    {
     "data": {
      "text/html": [
       "<div>\n",
       "<style scoped>\n",
       "    .dataframe tbody tr th:only-of-type {\n",
       "        vertical-align: middle;\n",
       "    }\n",
       "\n",
       "    .dataframe tbody tr th {\n",
       "        vertical-align: top;\n",
       "    }\n",
       "\n",
       "    .dataframe thead th {\n",
       "        text-align: right;\n",
       "    }\n",
       "</style>\n",
       "<table border=\"1\" class=\"dataframe\">\n",
       "  <thead>\n",
       "    <tr style=\"text-align: right;\">\n",
       "      <th></th>\n",
       "      <th>Student_ID</th>\n",
       "      <th>Traditional_Method_Score</th>\n",
       "      <th>New_Method_Score</th>\n",
       "    </tr>\n",
       "  </thead>\n",
       "  <tbody>\n",
       "    <tr>\n",
       "      <th>0</th>\n",
       "      <td>1</td>\n",
       "      <td>69.967142</td>\n",
       "      <td>65.501094</td>\n",
       "    </tr>\n",
       "    <tr>\n",
       "      <th>1</th>\n",
       "      <td>2</td>\n",
       "      <td>63.617357</td>\n",
       "      <td>61.933415</td>\n",
       "    </tr>\n",
       "    <tr>\n",
       "      <th>2</th>\n",
       "      <td>3</td>\n",
       "      <td>71.476885</td>\n",
       "      <td>110.309085</td>\n",
       "    </tr>\n",
       "    <tr>\n",
       "      <th>3</th>\n",
       "      <td>4</td>\n",
       "      <td>80.230299</td>\n",
       "      <td>83.099634</td>\n",
       "    </tr>\n",
       "    <tr>\n",
       "      <th>4</th>\n",
       "      <td>5</td>\n",
       "      <td>62.658466</td>\n",
       "      <td>49.782321</td>\n",
       "    </tr>\n",
       "    <tr>\n",
       "      <th>...</th>\n",
       "      <td>...</td>\n",
       "      <td>...</td>\n",
       "      <td>...</td>\n",
       "    </tr>\n",
       "    <tr>\n",
       "      <th>241</th>\n",
       "      <td>242</td>\n",
       "      <td>63.852636</td>\n",
       "      <td>53.369040</td>\n",
       "    </tr>\n",
       "    <tr>\n",
       "      <th>242</th>\n",
       "      <td>243</td>\n",
       "      <td>70.049873</td>\n",
       "      <td>108.742833</td>\n",
       "    </tr>\n",
       "    <tr>\n",
       "      <th>243</th>\n",
       "      <td>244</td>\n",
       "      <td>73.657552</td>\n",
       "      <td>92.632795</td>\n",
       "    </tr>\n",
       "    <tr>\n",
       "      <th>244</th>\n",
       "      <td>245</td>\n",
       "      <td>52.997036</td>\n",
       "      <td>74.840547</td>\n",
       "    </tr>\n",
       "    <tr>\n",
       "      <th>245</th>\n",
       "      <td>246</td>\n",
       "      <td>61.654988</td>\n",
       "      <td>104.598883</td>\n",
       "    </tr>\n",
       "  </tbody>\n",
       "</table>\n",
       "<p>246 rows × 3 columns</p>\n",
       "</div>"
      ],
      "text/plain": [
       "     Student_ID  Traditional_Method_Score  New_Method_Score\n",
       "0             1                 69.967142         65.501094\n",
       "1             2                 63.617357         61.933415\n",
       "2             3                 71.476885        110.309085\n",
       "3             4                 80.230299         83.099634\n",
       "4             5                 62.658466         49.782321\n",
       "..          ...                       ...               ...\n",
       "241         242                 63.852636         53.369040\n",
       "242         243                 70.049873        108.742833\n",
       "243         244                 73.657552         92.632795\n",
       "244         245                 52.997036         74.840547\n",
       "245         246                 61.654988        104.598883\n",
       "\n",
       "[246 rows x 3 columns]"
      ]
     },
     "execution_count": 164,
     "metadata": {},
     "output_type": "execute_result"
    }
   ],
   "source": [
    "\n",
    "# Generate synthetic data for student performance\n",
    "traditional_method_scores = np.random.normal(loc=65, scale=10, size=samples)\n",
    "new_method_scores = np.random.normal(loc=75, scale=20, size=samples)\n",
    "\n",
    "# Create a pandas DataFrame\n",
    "mcnemars_data = pd.DataFrame({\n",
    "    'Student_ID': range(1, samples + 1),\n",
    "    'Traditional_Method_Score': traditional_method_scores,\n",
    "    'New_Method_Score': new_method_scores\n",
    "})\n",
    "\n",
    "mcnemars_data\n"
   ]
  },
  {
   "cell_type": "code",
   "execution_count": 165,
   "metadata": {},
   "outputs": [
    {
     "name": "stdout",
     "output_type": "stream",
     "text": [
      "Traditional_Method_Score\n",
      "1    170\n",
      "0     76\n",
      "Name: count, dtype: int64\n",
      "\n",
      "\n",
      "New_Method_Score\n",
      "1    190\n",
      "0     56\n",
      "Name: count, dtype: int64\n"
     ]
    },
    {
     "data": {
      "text/html": [
       "<div>\n",
       "<style scoped>\n",
       "    .dataframe tbody tr th:only-of-type {\n",
       "        vertical-align: middle;\n",
       "    }\n",
       "\n",
       "    .dataframe tbody tr th {\n",
       "        vertical-align: top;\n",
       "    }\n",
       "\n",
       "    .dataframe thead th {\n",
       "        text-align: right;\n",
       "    }\n",
       "</style>\n",
       "<table border=\"1\" class=\"dataframe\">\n",
       "  <thead>\n",
       "    <tr style=\"text-align: right;\">\n",
       "      <th></th>\n",
       "      <th>Student_ID</th>\n",
       "      <th>Traditional_Method_Score</th>\n",
       "      <th>New_Method_Score</th>\n",
       "    </tr>\n",
       "  </thead>\n",
       "  <tbody>\n",
       "    <tr>\n",
       "      <th>0</th>\n",
       "      <td>1</td>\n",
       "      <td>1</td>\n",
       "      <td>1</td>\n",
       "    </tr>\n",
       "    <tr>\n",
       "      <th>1</th>\n",
       "      <td>2</td>\n",
       "      <td>1</td>\n",
       "      <td>1</td>\n",
       "    </tr>\n",
       "    <tr>\n",
       "      <th>2</th>\n",
       "      <td>3</td>\n",
       "      <td>1</td>\n",
       "      <td>1</td>\n",
       "    </tr>\n",
       "    <tr>\n",
       "      <th>3</th>\n",
       "      <td>4</td>\n",
       "      <td>1</td>\n",
       "      <td>1</td>\n",
       "    </tr>\n",
       "    <tr>\n",
       "      <th>4</th>\n",
       "      <td>5</td>\n",
       "      <td>1</td>\n",
       "      <td>0</td>\n",
       "    </tr>\n",
       "    <tr>\n",
       "      <th>...</th>\n",
       "      <td>...</td>\n",
       "      <td>...</td>\n",
       "      <td>...</td>\n",
       "    </tr>\n",
       "    <tr>\n",
       "      <th>241</th>\n",
       "      <td>242</td>\n",
       "      <td>1</td>\n",
       "      <td>0</td>\n",
       "    </tr>\n",
       "    <tr>\n",
       "      <th>242</th>\n",
       "      <td>243</td>\n",
       "      <td>1</td>\n",
       "      <td>1</td>\n",
       "    </tr>\n",
       "    <tr>\n",
       "      <th>243</th>\n",
       "      <td>244</td>\n",
       "      <td>1</td>\n",
       "      <td>1</td>\n",
       "    </tr>\n",
       "    <tr>\n",
       "      <th>244</th>\n",
       "      <td>245</td>\n",
       "      <td>0</td>\n",
       "      <td>1</td>\n",
       "    </tr>\n",
       "    <tr>\n",
       "      <th>245</th>\n",
       "      <td>246</td>\n",
       "      <td>1</td>\n",
       "      <td>1</td>\n",
       "    </tr>\n",
       "  </tbody>\n",
       "</table>\n",
       "<p>246 rows × 3 columns</p>\n",
       "</div>"
      ],
      "text/plain": [
       "     Student_ID  Traditional_Method_Score  New_Method_Score\n",
       "0             1                         1                 1\n",
       "1             2                         1                 1\n",
       "2             3                         1                 1\n",
       "3             4                         1                 1\n",
       "4             5                         1                 0\n",
       "..          ...                       ...               ...\n",
       "241         242                         1                 0\n",
       "242         243                         1                 1\n",
       "243         244                         1                 1\n",
       "244         245                         0                 1\n",
       "245         246                         1                 1\n",
       "\n",
       "[246 rows x 3 columns]"
      ]
     },
     "execution_count": 165,
     "metadata": {},
     "output_type": "execute_result"
    }
   ],
   "source": [
    "passing_score = 60\n",
    "\n",
    "mcnemars_data['Traditional_Method_Score'] = np.where(mcnemars_data['Traditional_Method_Score'] >= passing_score, 1, 0)\n",
    "mcnemars_data['New_Method_Score'] = np.where(mcnemars_data['New_Method_Score'] >= passing_score, 1, 0)\n",
    "\n",
    "print(mcnemars_data['Traditional_Method_Score'].value_counts())\n",
    "print(\"\\n\")\n",
    "print(mcnemars_data['New_Method_Score'].value_counts())\n",
    "\n",
    "mcnemars_data"
   ]
  },
  {
   "cell_type": "code",
   "execution_count": 166,
   "metadata": {},
   "outputs": [
    {
     "data": {
      "text/html": [
       "<div>\n",
       "<style scoped>\n",
       "    .dataframe tbody tr th:only-of-type {\n",
       "        vertical-align: middle;\n",
       "    }\n",
       "\n",
       "    .dataframe tbody tr th {\n",
       "        vertical-align: top;\n",
       "    }\n",
       "\n",
       "    .dataframe thead th {\n",
       "        text-align: right;\n",
       "    }\n",
       "</style>\n",
       "<table border=\"1\" class=\"dataframe\">\n",
       "  <thead>\n",
       "    <tr style=\"text-align: right;\">\n",
       "      <th>Traditional_Method_Score</th>\n",
       "      <th>0</th>\n",
       "      <th>1</th>\n",
       "    </tr>\n",
       "    <tr>\n",
       "      <th>New_Method_Score</th>\n",
       "      <th></th>\n",
       "      <th></th>\n",
       "    </tr>\n",
       "  </thead>\n",
       "  <tbody>\n",
       "    <tr>\n",
       "      <th>0</th>\n",
       "      <td>17</td>\n",
       "      <td>39</td>\n",
       "    </tr>\n",
       "    <tr>\n",
       "      <th>1</th>\n",
       "      <td>59</td>\n",
       "      <td>131</td>\n",
       "    </tr>\n",
       "  </tbody>\n",
       "</table>\n",
       "</div>"
      ],
      "text/plain": [
       "Traditional_Method_Score   0    1\n",
       "New_Method_Score                 \n",
       "0                         17   39\n",
       "1                         59  131"
      ]
     },
     "execution_count": 166,
     "metadata": {},
     "output_type": "execute_result"
    }
   ],
   "source": [
    "# Contingency table\n",
    "observed_counts = pd.crosstab(mcnemars_data['New_Method_Score'], mcnemars_data['Traditional_Method_Score'])\n",
    "observed_counts"
   ]
  },
  {
   "cell_type": "code",
   "execution_count": 167,
   "metadata": {},
   "outputs": [
    {
     "data": {
      "text/html": [
       "<div>\n",
       "<style scoped>\n",
       "    .dataframe tbody tr th:only-of-type {\n",
       "        vertical-align: middle;\n",
       "    }\n",
       "\n",
       "    .dataframe tbody tr th {\n",
       "        vertical-align: top;\n",
       "    }\n",
       "\n",
       "    .dataframe thead th {\n",
       "        text-align: right;\n",
       "    }\n",
       "</style>\n",
       "<table border=\"1\" class=\"dataframe\">\n",
       "  <thead>\n",
       "    <tr style=\"text-align: right;\">\n",
       "      <th>Traditional_Method_Score</th>\n",
       "      <th>0</th>\n",
       "      <th>1</th>\n",
       "    </tr>\n",
       "    <tr>\n",
       "      <th>New_Method_Score</th>\n",
       "      <th></th>\n",
       "      <th></th>\n",
       "    </tr>\n",
       "  </thead>\n",
       "  <tbody>\n",
       "    <tr>\n",
       "      <th>0</th>\n",
       "      <td>0.069106</td>\n",
       "      <td>0.158537</td>\n",
       "    </tr>\n",
       "    <tr>\n",
       "      <th>1</th>\n",
       "      <td>0.239837</td>\n",
       "      <td>0.532520</td>\n",
       "    </tr>\n",
       "  </tbody>\n",
       "</table>\n",
       "</div>"
      ],
      "text/plain": [
       "Traditional_Method_Score         0         1\n",
       "New_Method_Score                            \n",
       "0                         0.069106  0.158537\n",
       "1                         0.239837  0.532520"
      ]
     },
     "execution_count": 167,
     "metadata": {},
     "output_type": "execute_result"
    }
   ],
   "source": [
    "# Contingency table normalized\n",
    "observed_counts = pd.crosstab(mcnemars_data['New_Method_Score'], mcnemars_data['Traditional_Method_Score'], normalize=True)\n",
    "observed_counts"
   ]
  },
  {
   "cell_type": "code",
   "execution_count": null,
   "metadata": {},
   "outputs": [],
   "source": []
  },
  {
   "cell_type": "markdown",
   "metadata": {},
   "source": [
    "### Check Assumptions"
   ]
  },
  {
   "cell_type": "code",
   "execution_count": 169,
   "metadata": {},
   "outputs": [
    {
     "name": "stdout",
     "output_type": "stream",
     "text": [
      "McNemar's Test for Proportions Assumption: Successes and failures are sufficiently large - Met\n",
      "McNemar's Test for Proportions Assumption: Data is numeric and binary - Met\n"
     ]
    }
   ],
   "source": [
    "# Assumption check for z-test for proportions\n",
    "successes_group_A = mcnemars_data['New_Method_Score'].sum()\n",
    "failures_group_A = mcnemars_data['New_Method_Score'].count() - successes_group_A\n",
    "successes_group_B = mcnemars_data['Traditional_Method_Score'].sum()\n",
    "failures_group_B = mcnemars_data['Traditional_Method_Score'].count() - successes_group_B\n",
    "\n",
    "min_sample_size = 5\n",
    "\n",
    "# Check if successes and failures are sufficiently large\n",
    "mcnemar_test_assumption_met = all(n > min_sample_size for n in [successes_group_A, failures_group_A, successes_group_B, failures_group_B])\n",
    "\n",
    "# Check if the data is binary\n",
    "binary_A_check = (mcnemars_data['New_Method_Score'].isin([0, 1, np.nan, pd.NA]).all())\n",
    "binary_B_check = (mcnemars_data['Traditional_Method_Score'].isin([0, 1, np.nan, pd.NA]).all())\n",
    "\n",
    "print(f\"McNemar's Test for Proportions Assumption: Successes and failures are sufficiently large - {'Met' if mcnemar_test_assumption_met else 'Not Met'}\")\n",
    "print(f\"McNemar's Test for Proportions Assumption: Data is numeric and binary - {'Met' if binary_A_check and binary_B_check else 'Not Met'}\")\n"
   ]
  },
  {
   "cell_type": "code",
   "execution_count": null,
   "metadata": {},
   "outputs": [],
   "source": []
  },
  {
   "cell_type": "markdown",
   "metadata": {},
   "source": [
    "### McNemar's Test (statsmodels)"
   ]
  },
  {
   "cell_type": "code",
   "execution_count": 170,
   "metadata": {},
   "outputs": [],
   "source": [
    "# Pre-determined alpha\n",
    "alpha = 0.05  "
   ]
  },
  {
   "cell_type": "code",
   "execution_count": 171,
   "metadata": {},
   "outputs": [
    {
     "data": {
      "text/html": [
       "<div>\n",
       "<style scoped>\n",
       "    .dataframe tbody tr th:only-of-type {\n",
       "        vertical-align: middle;\n",
       "    }\n",
       "\n",
       "    .dataframe tbody tr th {\n",
       "        vertical-align: top;\n",
       "    }\n",
       "\n",
       "    .dataframe thead th {\n",
       "        text-align: right;\n",
       "    }\n",
       "</style>\n",
       "<table border=\"1\" class=\"dataframe\">\n",
       "  <thead>\n",
       "    <tr style=\"text-align: right;\">\n",
       "      <th>Traditional_Method_Score</th>\n",
       "      <th>0</th>\n",
       "      <th>1</th>\n",
       "    </tr>\n",
       "    <tr>\n",
       "      <th>New_Method_Score</th>\n",
       "      <th></th>\n",
       "      <th></th>\n",
       "    </tr>\n",
       "  </thead>\n",
       "  <tbody>\n",
       "    <tr>\n",
       "      <th>0</th>\n",
       "      <td>17</td>\n",
       "      <td>39</td>\n",
       "    </tr>\n",
       "    <tr>\n",
       "      <th>1</th>\n",
       "      <td>59</td>\n",
       "      <td>131</td>\n",
       "    </tr>\n",
       "  </tbody>\n",
       "</table>\n",
       "</div>"
      ],
      "text/plain": [
       "Traditional_Method_Score   0    1\n",
       "New_Method_Score                 \n",
       "0                         17   39\n",
       "1                         59  131"
      ]
     },
     "execution_count": 171,
     "metadata": {},
     "output_type": "execute_result"
    }
   ],
   "source": [
    "# Contingency table\n",
    "observed_counts = pd.crosstab(mcnemars_data['New_Method_Score'], mcnemars_data['Traditional_Method_Score'])\n",
    "observed_counts"
   ]
  },
  {
   "cell_type": "code",
   "execution_count": 174,
   "metadata": {},
   "outputs": [
    {
     "name": "stdout",
     "output_type": "stream",
     "text": [
      "Performing the Approximate Chi-Squared McNemar's Test\n",
      "Without Edwards' Continuity Correction\n",
      "McNemar's test statistic: 4.081632653061225\n",
      "p-value: 0.04335175126086287\n",
      "\n",
      "\n",
      "Reject the null hypothesis.\n",
      "There is a significant difference in the proportions between Group A and Group B.\n"
     ]
    }
   ],
   "source": [
    "\n",
    "# exact: If exact is true, then the binomial distribution will be used. If exact is false, then the Chi-Square distribution will be used\n",
    "if successes_group_A + successes_group_B < 25:\n",
    "    print(\"Performing the Exact Binomial McNemar's Test\")\n",
    "    exact = True\n",
    "else:\n",
    "    print(\"Performing the Approximate Chi-Squared McNemar's Test\")\n",
    "    exact = False\n",
    "\n",
    "# correction: If true, a continuity correction is used. As a rule of thumb, this correction is typically applied when any of the cell counts in the table are less than 5.\n",
    "if (successes_group_A  <  5 ) | (successes_group_B  <  5 ) | (failures_group_A  <  5 ) | (failures_group_B  <  5 ):\n",
    "    print(\"With Edwards' Continuity Correction\")\n",
    "    correction = True\n",
    "else:\n",
    "    print(\"Without Edwards' Continuity Correction\")\n",
    "    correction = False\n",
    "\n",
    "# Performing McNemar's Test\n",
    "result = mcnemar(table = observed_counts, exact=exact, correction=correction)\n",
    "p_value = result.pvalue\n",
    "\n",
    "# Print the test statistic and p-value\n",
    "print(\"McNemar's test statistic:\", result.statistic)\n",
    "print(\"p-value:\", p_value)\n",
    "\n",
    "# Check for statistical significance\n",
    "if p_value < alpha:\n",
    "    conclusion = \"Reject the null hypothesis.\"\n",
    "    interpretation = \"There is a significant difference in the proportions between Group A and Group B.\"\n",
    "else:\n",
    "    conclusion = \"Fail to reject the null hypothesis.\"\n",
    "    interpretation = \"There is no significant difference in proportions between Group A and Group B.\"\n",
    "print(\"\\n\")\n",
    "print(conclusion)\n",
    "print(interpretation)"
   ]
  },
  {
   "cell_type": "code",
   "execution_count": null,
   "metadata": {},
   "outputs": [],
   "source": []
  },
  {
   "cell_type": "markdown",
   "metadata": {},
   "source": [
    "### McNemar's (pingouin)"
   ]
  },
  {
   "cell_type": "code",
   "execution_count": 175,
   "metadata": {},
   "outputs": [
    {
     "name": "stdout",
     "output_type": "stream",
     "text": [
      "Performing the Approximate Chi-Squared McNemar's Test without Edwards' Continuity Correction\n",
      "McNemar's test statistic: 4.081632653061225\n",
      "Degrees of Freedom: 1\n",
      "Approximate p-value: 0.04335175126086287\n",
      "Exact p-value: 0.05439055827708824\n",
      "\n",
      "\n",
      "Reject the null hypothesis.\n",
      "There is a significant difference in the proportions between Group A and Group B.\n"
     ]
    }
   ],
   "source": [
    "# correction: If true, a continuity correction is used. As a rule of thumb, this correction is typically applied when any of the cell counts in the table are less than 5.\n",
    "if (successes_group_A  <  5 ) | (successes_group_B  <  5 ) | (failures_group_A  <  5 ) | (failures_group_B  <  5 ):\n",
    "    print(\"Performing the Approximate Chi-Squared McNemar's Test with Edwards' Continuity Correction\")\n",
    "    correction = True\n",
    "else:\n",
    "    print(\"Performing the Approximate Chi-Squared McNemar's Test without Edwards' Continuity Correction\")\n",
    "    correction = False\n",
    "\n",
    "\n",
    "# Perform McNemar's test\n",
    "observed, stats = chi2_mcnemar(mcnemars_data, 'Traditional_Method_Score', 'New_Method_Score', correction=correction)\n",
    "\n",
    "# Print the result\n",
    "chi2 = stats['chi2'].mcnemar\n",
    "dof = stats['dof'].mcnemar\n",
    "p_value_approx = stats['p-approx'].mcnemar\n",
    "p_value_exact= stats['p-exact'].mcnemar\n",
    "\n",
    "# Print the test statistic and p-value\n",
    "print(f\"McNemar's test statistic: {chi2}\")\n",
    "print(f\"Degrees of Freedom: {dof}\")\n",
    "print(f\"Approximate p-value: {p_value_approx}\")\n",
    "print(f\"Exact p-value: {p_value_exact}\")\n",
    "\n",
    "\n",
    "# Check for statistical significance\n",
    "if p_value_approx < alpha:\n",
    "    conclusion = \"Reject the null hypothesis.\"\n",
    "    interpretation = \"There is a significant difference in the proportions between Group A and Group B.\"\n",
    "else:\n",
    "    conclusion = \"Fail to reject the null hypothesis.\"\n",
    "    interpretation = \"There is no significant difference in proportions between Group A and Group B.\"\n",
    "print(\"\\n\")\n",
    "print(conclusion)\n",
    "print(interpretation)"
   ]
  },
  {
   "cell_type": "code",
   "execution_count": null,
   "metadata": {},
   "outputs": [],
   "source": []
  },
  {
   "cell_type": "markdown",
   "metadata": {},
   "source": [
    "### 95% Confidence Interval"
   ]
  },
  {
   "cell_type": "code",
   "execution_count": 176,
   "metadata": {},
   "outputs": [
    {
     "name": "stdout",
     "output_type": "stream",
     "text": [
      "Difference in Proportions: 0.08130081300813008\n",
      "95% Confidence Interval of the Difference in Proportions: [0.0033298185346878756, 0.15927180748157227]\n"
     ]
    }
   ],
   "source": [
    "confidence_level = 0.95\n",
    "\n",
    "prop_A = mcnemars_data['New_Method_Score'].sum() / mcnemars_data['New_Method_Score'].count()\n",
    "prop_B = mcnemars_data['Traditional_Method_Score'].sum() / mcnemars_data['Traditional_Method_Score'].count()\n",
    "pdiff = prop_A - prop_B\n",
    "\n",
    "# Calculate standard error of the difference\n",
    "se_diff = np.sqrt(prop_A * (1 - prop_A) / samples + prop_B * (1 - prop_B) / samples)\n",
    "\n",
    "# Critical value for 95% confidence interval\n",
    "critical_value = norm.ppf(1 - ((1-confidence_level)/2))  \n",
    "\n",
    "# Margin of error\n",
    "margin_of_error = critical_value * se_diff\n",
    "\n",
    "# Calculate confidence interval\n",
    "lower_bound = pdiff - margin_of_error\n",
    "upper_bound = pdiff + margin_of_error\n",
    "\n",
    "# Print results\n",
    "print(f\"Difference in Proportions: {pdiff}\")\n",
    "print(f\"95% Confidence Interval of the Difference in Proportions: [{lower_bound}, {upper_bound}]\")\n"
   ]
  },
  {
   "cell_type": "code",
   "execution_count": null,
   "metadata": {},
   "outputs": [],
   "source": []
  },
  {
   "cell_type": "markdown",
   "metadata": {},
   "source": [
    "### Effect Size"
   ]
  },
  {
   "cell_type": "code",
   "execution_count": 177,
   "metadata": {},
   "outputs": [
    {
     "name": "stdout",
     "output_type": "stream",
     "text": [
      "Cohen's h Effect Size: 0.18396714926718016\n",
      "\n",
      "\n",
      "There is a small difference between the two groups.\n"
     ]
    }
   ],
   "source": [
    "# Cohen's h effect size\n",
    "h = proportion_effectsize(prop_A, prop_B, method='normal')\n",
    "# h = np.abs((2*np.arcsin(np.sqrt(prop_A))) - (2*np.arcsin(np.sqrt(prop_B))))\n",
    "\n",
    "print(f\"Cohen's h Effect Size: {h}\")\n",
    "print(\"\\n\")\n",
    "\n",
    "if h == 0:\n",
    "    print(\"There is no difference between the two groups.\")\n",
    "elif h <= 0.2:\n",
    "    print(\"There is a small difference between the two groups.\")\n",
    "elif h <= 0.5:\n",
    "    print(\"There is a moderate difference between the two groups.\")\n",
    "elif h <= 0.8:\n",
    "    print(\"There is a large difference between the two groups.\")\n",
    "else:\n",
    "    print(\"There is a very large difference between the two groups.\")\n"
   ]
  },
  {
   "cell_type": "code",
   "execution_count": null,
   "metadata": {},
   "outputs": [],
   "source": []
  },
  {
   "cell_type": "markdown",
   "metadata": {},
   "source": [
    "### Odds Ratio"
   ]
  },
  {
   "cell_type": "code",
   "execution_count": 178,
   "metadata": {},
   "outputs": [
    {
     "name": "stdout",
     "output_type": "stream",
     "text": [
      "The odds ratio is 1.5168\n",
      "The odds of the outcome are 1.5168 times as high in the exposed group compared to the unexposed group.\n",
      "\n",
      "\n",
      "This suggests a positive association between the exposure and the outcome.\n",
      "It means that the odds of the outcome occurring in the exposed group are higher than the odds of the outcome occurring in the unexposed group. \n"
     ]
    }
   ],
   "source": [
    "\n",
    "# Odds Ratio\n",
    "odd_ratio = (successes_group_A * failures_group_B) / (successes_group_B * failures_group_A)\n",
    "\n",
    "print(f\"The odds ratio is {round(odd_ratio, 4)}\")\n",
    "print(f\"The odds of the outcome are {round(odd_ratio, 4)} times as high in the exposed group compared to the unexposed group.\")\n",
    "print(\"\\n\")\n",
    "\n",
    "if odd_ratio > 1:\n",
    "    print(\"This suggests a positive association between the exposure and the outcome.\\nIt means that the odds of the outcome occurring in the exposed group are higher than the odds of the outcome occurring in the unexposed group. \")\n",
    "elif odd_ratio < 1:\n",
    "    print(\"This implies a negative association between the exposure and the outcome.\\nIt indicates that the odds of the outcome occurring in the exposed group are lower than the odds of the outcome occurring in the unexposed group.\")\n",
    "else:\n",
    "    print(\"This indicates no association between the exposure and the outcome.\\nIn other words, the odds of the outcome occurring in the exposed group are the same as the odds of the outcome occurring in the unexposed group.\")"
   ]
  },
  {
   "cell_type": "code",
   "execution_count": null,
   "metadata": {},
   "outputs": [],
   "source": []
  },
  {
   "cell_type": "markdown",
   "metadata": {},
   "source": [
    "### Summary Table"
   ]
  },
  {
   "cell_type": "code",
   "execution_count": 179,
   "metadata": {},
   "outputs": [],
   "source": [
    "# Count everything up\n",
    "total_count = mcnemars_data.size\n",
    "group_a_count = mcnemars_data['Traditional_Method_Score'].count()\n",
    "group_b_count = mcnemars_data['New_Method_Score'].count()\n",
    "group_a_positive_count = mcnemars_data['Traditional_Method_Score'].value_counts()[1]\n",
    "group_a_negative_count = mcnemars_data['Traditional_Method_Score'].value_counts()[0]\n",
    "group_b_positive_count = mcnemars_data['New_Method_Score'].value_counts()[1]\n",
    "group_b_negative_count = mcnemars_data['New_Method_Score'].value_counts()[0]"
   ]
  },
  {
   "cell_type": "code",
   "execution_count": 180,
   "metadata": {},
   "outputs": [
    {
     "data": {
      "text/html": [
       "<div>\n",
       "<style scoped>\n",
       "    .dataframe tbody tr th:only-of-type {\n",
       "        vertical-align: middle;\n",
       "    }\n",
       "\n",
       "    .dataframe tbody tr th {\n",
       "        vertical-align: top;\n",
       "    }\n",
       "\n",
       "    .dataframe thead th {\n",
       "        text-align: right;\n",
       "    }\n",
       "</style>\n",
       "<table border=\"1\" class=\"dataframe\">\n",
       "  <thead>\n",
       "    <tr style=\"text-align: right;\">\n",
       "      <th></th>\n",
       "      <th>Test Group</th>\n",
       "      <th>Total</th>\n",
       "      <th>Pass</th>\n",
       "      <th>Fail</th>\n",
       "      <th>Pass Rate</th>\n",
       "    </tr>\n",
       "  </thead>\n",
       "  <tbody>\n",
       "    <tr>\n",
       "      <th>0</th>\n",
       "      <td>Traditional Method</td>\n",
       "      <td>246</td>\n",
       "      <td>170</td>\n",
       "      <td>76</td>\n",
       "      <td>0.691057</td>\n",
       "    </tr>\n",
       "    <tr>\n",
       "      <th>1</th>\n",
       "      <td>New Method</td>\n",
       "      <td>246</td>\n",
       "      <td>190</td>\n",
       "      <td>56</td>\n",
       "      <td>0.772358</td>\n",
       "    </tr>\n",
       "  </tbody>\n",
       "</table>\n",
       "</div>"
      ],
      "text/plain": [
       "           Test Group  Total  Pass  Fail  Pass Rate\n",
       "0  Traditional Method    246   170    76   0.691057\n",
       "1          New Method    246   190    56   0.772358"
      ]
     },
     "execution_count": 180,
     "metadata": {},
     "output_type": "execute_result"
    }
   ],
   "source": [
    "# Create a new DataFrame for plotting\n",
    "plot_data = pd.DataFrame({\n",
    "    'Test Group': [\"Traditional Method\", \"New Method\"],\n",
    "    'Total': [group_a_count, group_b_count],\n",
    "    'Pass': [group_a_positive_count, group_b_positive_count],\n",
    "    'Fail': [group_a_negative_count, group_b_negative_count],\n",
    "    'Pass Rate': [group_a_positive_count/group_a_count, group_b_positive_count/group_b_count],\n",
    "}, index=[0, 1])\n",
    "plot_data"
   ]
  },
  {
   "cell_type": "code",
   "execution_count": null,
   "metadata": {},
   "outputs": [],
   "source": []
  },
  {
   "cell_type": "markdown",
   "metadata": {},
   "source": [
    "### Visualization"
   ]
  },
  {
   "cell_type": "code",
   "execution_count": 181,
   "metadata": {},
   "outputs": [
    {
     "data": {
      "image/png": "[encoded data removed]",
      "text/plain": [
       "<Figure size 432x720 with 1 Axes>"
      ]
     },
     "metadata": {},
     "output_type": "display_data"
    }
   ],
   "source": [
    "# Plot stacked bars\n",
    "plt.figure(figsize=(6, 10))\n",
    "\n",
    "plot_total = sns.barplot(x=plot_data['Test Group'], \n",
    "                        y=plot_data['Total'], color='lightgrey')\n",
    "\n",
    "plot_satisfied = sns.barplot(x=plot_data['Test Group'], \n",
    "                            y=plot_data['Pass'], color=color)\n",
    "\n",
    "# Set labels and title\n",
    "plt.title('Pass Rate per Group', fontsize=15)\n",
    "plt.ylabel('Count')\n",
    "plt.tick_params(left=False,bottom=False,labelleft=True,labelbottom=True)\n",
    "\n",
    "# Put values on top of bars\n",
    "row_list = []\n",
    "for index, row in plot_data[plot_data['Test Group'] == 'Traditional Method'][['Pass', 'Pass Rate']].iterrows():\n",
    "    plot_total.text(row.name, row['Pass']+5, str(round(100 * row['Pass Rate'], 2)) + '%', color=color, ha=\"center\", fontsize=15)\n",
    "for index, row in plot_data[plot_data['Test Group'] == 'New Method'][['Pass', 'Pass Rate']].iterrows():\n",
    "    plot_satisfied.text(row.name, row['Pass']+5, str(round(100 * row['Pass Rate'], 2)) + '%', color=color, ha=\"center\", fontsize=15)\n",
    "\n",
    "\n",
    "# Show the plot\n",
    "plt.show()"
   ]
  },
  {
   "cell_type": "code",
   "execution_count": null,
   "metadata": {},
   "outputs": [],
   "source": []
  },
  {
   "cell_type": "code",
   "execution_count": null,
   "metadata": {},
   "outputs": [],
   "source": []
  },
  {
   "cell_type": "code",
   "execution_count": null,
   "metadata": {},
   "outputs": [],
   "source": []
  },
  {
   "cell_type": "code",
   "execution_count": null,
   "metadata": {},
   "outputs": [],
   "source": []
  }
 ],
 "metadata": {
  "kernelspec": {
   "display_name": "base",
   "language": "python",
   "name": "python3"
  },
  "language_info": {
   "codemirror_mode": {
    "name": "ipython",
    "version": 3
   },
   "file_extension": ".py",
   "mimetype": "text/x-python",
   "name": "python",
   "nbconvert_exporter": "python",
   "pygments_lexer": "ipython3",
   "version": "3.9.7"
  }
 },
 "nbformat": 4,
 "nbformat_minor": 2
}
