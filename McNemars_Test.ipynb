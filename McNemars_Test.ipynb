{
 "cells": [
  {
   "cell_type": "markdown",
   "metadata": {},
   "source": [
    "# McNemar's Test for Proportions\n",
    "> Use Case\n",
    "- McNemar's Test is used to analyze paired categorical data where the same subjects are measured twice under different conditions or treatments (paired samples).\n",
    "> Assumptions\n",
    "- The data is paired, meaning each subject contributes to both categories being compared.\n",
    "- The data is categorical with two levels or categories.\n",
    "- The observations are independent within each pair.\n",
    "> Example Scenario\n",
    "- Suppose we want to assess whether a new teaching method improves students' performance compared to a traditional method. Each student's performance is assessed twice: once with the traditional method and once with the new method.\n",
    "> Null Hypothesis (H0):\n",
    "- The null hypothesis states that there is no difference in proportions between the two conditions or treatments.\n",
    "> Alternative Hypothesis (H1):\n",
    "- The alternative hypothesis states that there is a difference in proportions between the two conditions or treatments."
   ]
  },
  {
   "cell_type": "code",
   "execution_count": 211,
   "metadata": {},
   "outputs": [],
   "source": [
    "# McNemar's Test is a statistical test used to determine whether there is a significant difference in proportions between two related groups, typically in a binary outcome scenario. It is specifically designed for paired data, where each observation in one group is paired with an observation in the other group.\n",
    "\n",
    "# Here's how McNemar's Test relates to other tests:\n",
    "\n",
    "# Binomial Test: McNemar's Test is similar to a Binomial Test in that it evaluates whether the proportion of successes (or failures) differs significantly from an expected proportion. However, McNemar's Test is specifically tailored for paired data, whereas the Binomial Test is more general and can be used for independent samples.\n",
    "# Chi-Squared Test: While both McNemar's Test and the Chi-Squared Test are used to analyze categorical data, they differ in their application. The Chi-Squared Test assesses the independence of two categorical variables in a contingency table, whereas McNemar's Test evaluates changes in proportions within a paired sample.\n",
    "# Z-test for Proportions: McNemar's Test can also be compared to a Z-test for proportions. However, the Z-test is typically used for independent samples, while McNemar's Test is specifically designed for dependent or paired samples.\n",
    "# Sample Use Case:\n",
    "# Consider a study evaluating the effectiveness of a new medication for migraine relief. The study involves 50 participants who suffer from migraines. Each participant undergoes two treatments: Treatment A and Treatment B. After completing both treatments, the participants report whether they experienced migraine relief (Yes/No) for each treatment.\n",
    "\n",
    "# McNemar's Test can be used to assess whether there is a significant difference in the proportion of participants who experienced migraine relief between Treatment A and Treatment B.\n",
    "# Null Hypothesis (H0): There is no difference in the proportion of participants experiencing migraine relief between Treatment A and Treatment B.\n",
    "# Alternative Hypothesis (H1): There is a difference in the proportion of participants experiencing migraine relief between Treatment A and Treatment B.\n",
    "# The test involves constructing a contingency table of the paired data (e.g., the number of participants who experienced relief with Treatment A but not with Treatment B, vice versa).\n",
    "# McNemar's Test is then applied to this contingency table to determine if the observed differences are statistically significant.\n",
    "# Overall, McNemar's Test is particularly useful when dealing with paired or repeated measures data, such as before-and-after treatment comparisons or matched case-control studies. It provides a specific approach to evaluate changes in proportions within related groups."
   ]
  },
  {
   "cell_type": "code",
   "execution_count": null,
   "metadata": {},
   "outputs": [],
   "source": []
  },
  {
   "cell_type": "code",
   "execution_count": 251,
   "metadata": {},
   "outputs": [],
   "source": [
    "import pandas as pd\n",
    "import numpy as np\n",
    "import matplotlib.pyplot as plt\n",
    "import seaborn as sns\n",
    "\n",
    "# !pip install scipy==1.12.0\n",
    "from scipy.stats import norm\n",
    "\n",
    "# !pip install statsmodels==0.12.2\n",
    "from statsmodels.stats.power import NormalIndPower\n",
    "from statsmodels.stats.contingency_tables import mcnemar\n",
    "from statsmodels.stats.proportion import proportion_effectsize\n",
    "\n",
    "# !pip install pingouin==0.5.4\n",
    "from pingouin import chi2_mcnemar\n"
   ]
  },
  {
   "cell_type": "code",
   "execution_count": 213,
   "metadata": {},
   "outputs": [],
   "source": [
    "# Set random seed for reproducibility\n",
    "np.random.seed(42)"
   ]
  },
  {
   "cell_type": "code",
   "execution_count": 214,
   "metadata": {},
   "outputs": [],
   "source": [
    "# set seaborn style\n",
    "sns.set(style=\"white\", palette=\"mako\")\n",
    "\n",
    "# colors\n",
    "color = 'olivedrab'\n",
    "\n",
    "# remove some borders    \n",
    "plt.rcParams['axes.axisbelow'] = True\n",
    "plt.rcParams['axes.spines.left'] = False\n",
    "plt.rcParams['axes.spines.bottom'] = True\n",
    "plt.rcParams['axes.spines.top'] = False\n",
    "plt.rcParams['axes.spines.right'] = False"
   ]
  },
  {
   "cell_type": "markdown",
   "metadata": {},
   "source": [
    "### Power Analysis"
   ]
  },
  {
   "cell_type": "code",
   "execution_count": 215,
   "metadata": {},
   "outputs": [
    {
     "data": {
      "image/png": "[encoded data removed]",
      "text/plain": [
       "<Figure size 864x288 with 1 Axes>"
      ]
     },
     "metadata": {},
     "output_type": "display_data"
    }
   ],
   "source": [
    "\n",
    "confidence_level = 0.95\n",
    "power = 0.8\n",
    "\n",
    "# Group A failure & Group B success proportion\n",
    "p01 = np.linspace(0.01, 1, 50) \n",
    "# Group B failure & Group A success proportion\n",
    "p10 = np.linspace(0.01, 1, 50)\n",
    "p10 = p10[::-1]\n",
    "\n",
    "# Difference in proportions\n",
    "pdiff = p10 - p01\n",
    "# pdiff = pdiff[pdiff > 0]\n",
    "\n",
    "# Sum of proportions\n",
    "pdisc = p10 + p01\n",
    "\n",
    "# *2 to convert cited example's 1-sided test to 2-sided test\n",
    "alpha = (1-confidence_level) * 2  \n",
    "beta = (1-power)\n",
    "\n",
    "# Calculate samples\n",
    "samples = ((norm.ppf(1 - alpha/2) * np.sqrt(pdisc) + norm.ppf(1 - beta) * np.sqrt(pdisc - pdiff**2)) / pdiff)**2\n",
    "samples = np.ceil(samples) \n",
    "x1 = (pdiff * np.sqrt(samples) - norm.ppf(1 - alpha/2) * np.sqrt(pdisc)) / np.sqrt(pdisc - pdiff**2)\n",
    "x2 = (-pdiff * np.sqrt(samples) - norm.ppf(1 - alpha/2) * np.sqrt(pdisc)) / np.sqrt(pdisc - pdiff**2)\n",
    "power = norm.cdf(x1) + norm.cdf(x2)\n",
    "\n",
    "# We only need the positive difference, as the negative difference is the same\n",
    "pdiff = pdiff[pdiff>0]\n",
    "samples = samples[:len(pdiff[pdiff>0])]\n",
    "\n",
    "# Figure size\n",
    "plt.figure(figsize=(12, 4))\n",
    "# Plot samples versus effect size\n",
    "plt.plot(pdiff, samples, color=color, marker='o')\n",
    "# Shade area below the line with lower opacity\n",
    "plt.fill_between(pdiff, samples, color=color, alpha=0.3)\n",
    "# Add plot labels and title\n",
    "plt.xlabel('Difference in Proportions')\n",
    "plt.ylabel('Number of Samples')\n",
    "plt.title(\"Samples versus Effect Size for McNemar's Test\")\n",
    "plt.show()\n"
   ]
  },
  {
   "cell_type": "code",
   "execution_count": 241,
   "metadata": {},
   "outputs": [
    {
     "name": "stdout",
     "output_type": "stream",
     "text": [
      "Difference in proportions: 0.1\n",
      "Required sample size: 864 pairs of samples\n"
     ]
    }
   ],
   "source": [
    "confidence_level = 0.95\n",
    "power = 0.8\n",
    "\n",
    "# Group B success proportion\n",
    "p01 = 0.65\n",
    "# Group A success proportion\n",
    "p10 = 0.75\n",
    "\n",
    "pdisc = p10 + p01\n",
    "pdiff = p10 - p01\n",
    "\n",
    "alpha = (1-confidence_level) * 2  # *2 to convert cited example's 1-sided test to 2-sided test\n",
    "beta = (1-power)\n",
    "\n",
    "\n",
    "samples = ((norm.ppf(1 - alpha/2) * np.sqrt(pdisc) + norm.ppf(1 - beta) * np.sqrt(pdisc - pdiff**2)) / pdiff)**2\n",
    "# Round up to nearest integer\n",
    "samples = int(np.ceil(samples))\n",
    "\n",
    "x1 = (pdiff * np.sqrt(samples) - norm.ppf(1 - alpha/2) * np.sqrt(pdisc)) / np.sqrt(pdisc - pdiff**2)\n",
    "x2 = (-pdiff * np.sqrt(samples) - norm.ppf(1 - alpha/2) * np.sqrt(pdisc)) / np.sqrt(pdisc - pdiff**2)\n",
    "power = norm.cdf(x1) + norm.cdf(x2)\n",
    "\n",
    "print(f\"Difference in proportions: {round(pdiff, 4)}\")\n",
    "print(f\"Required sample size: {samples} pairs of samples\")"
   ]
  },
  {
   "cell_type": "code",
   "execution_count": null,
   "metadata": {},
   "outputs": [],
   "source": []
  },
  {
   "cell_type": "markdown",
   "metadata": {},
   "source": [
    "### Synthetic Data"
   ]
  },
  {
   "cell_type": "code",
   "execution_count": 242,
   "metadata": {},
   "outputs": [
    {
     "data": {
      "text/html": [
       "<div>\n",
       "<style scoped>\n",
       "    .dataframe tbody tr th:only-of-type {\n",
       "        vertical-align: middle;\n",
       "    }\n",
       "\n",
       "    .dataframe tbody tr th {\n",
       "        vertical-align: top;\n",
       "    }\n",
       "\n",
       "    .dataframe thead th {\n",
       "        text-align: right;\n",
       "    }\n",
       "</style>\n",
       "<table border=\"1\" class=\"dataframe\">\n",
       "  <thead>\n",
       "    <tr style=\"text-align: right;\">\n",
       "      <th></th>\n",
       "      <th>Student_ID</th>\n",
       "      <th>Traditional_Method_Score</th>\n",
       "      <th>New_Method_Score</th>\n",
       "    </tr>\n",
       "  </thead>\n",
       "  <tbody>\n",
       "    <tr>\n",
       "      <th>0</th>\n",
       "      <td>1</td>\n",
       "      <td>75.852223</td>\n",
       "      <td>103.227137</td>\n",
       "    </tr>\n",
       "    <tr>\n",
       "      <th>1</th>\n",
       "      <td>2</td>\n",
       "      <td>65.385552</td>\n",
       "      <td>90.706912</td>\n",
       "    </tr>\n",
       "    <tr>\n",
       "      <th>2</th>\n",
       "      <td>3</td>\n",
       "      <td>60.163414</td>\n",
       "      <td>68.467724</td>\n",
       "    </tr>\n",
       "    <tr>\n",
       "      <th>3</th>\n",
       "      <td>4</td>\n",
       "      <td>62.532756</td>\n",
       "      <td>114.707608</td>\n",
       "    </tr>\n",
       "    <tr>\n",
       "      <th>4</th>\n",
       "      <td>5</td>\n",
       "      <td>63.315803</td>\n",
       "      <td>43.939294</td>\n",
       "    </tr>\n",
       "    <tr>\n",
       "      <th>...</th>\n",
       "      <td>...</td>\n",
       "      <td>...</td>\n",
       "      <td>...</td>\n",
       "    </tr>\n",
       "    <tr>\n",
       "      <th>859</th>\n",
       "      <td>860</td>\n",
       "      <td>65.599053</td>\n",
       "      <td>85.617343</td>\n",
       "    </tr>\n",
       "    <tr>\n",
       "      <th>860</th>\n",
       "      <td>861</td>\n",
       "      <td>48.748787</td>\n",
       "      <td>56.283375</td>\n",
       "    </tr>\n",
       "    <tr>\n",
       "      <th>861</th>\n",
       "      <td>862</td>\n",
       "      <td>65.829119</td>\n",
       "      <td>53.482123</td>\n",
       "    </tr>\n",
       "    <tr>\n",
       "      <th>862</th>\n",
       "      <td>863</td>\n",
       "      <td>60.850837</td>\n",
       "      <td>52.536099</td>\n",
       "    </tr>\n",
       "    <tr>\n",
       "      <th>863</th>\n",
       "      <td>864</td>\n",
       "      <td>80.019530</td>\n",
       "      <td>115.913091</td>\n",
       "    </tr>\n",
       "  </tbody>\n",
       "</table>\n",
       "<p>864 rows × 3 columns</p>\n",
       "</div>"
      ],
      "text/plain": [
       "     Student_ID  Traditional_Method_Score  New_Method_Score\n",
       "0             1                 75.852223        103.227137\n",
       "1             2                 65.385552         90.706912\n",
       "2             3                 60.163414         68.467724\n",
       "3             4                 62.532756        114.707608\n",
       "4             5                 63.315803         43.939294\n",
       "..          ...                       ...               ...\n",
       "859         860                 65.599053         85.617343\n",
       "860         861                 48.748787         56.283375\n",
       "861         862                 65.829119         53.482123\n",
       "862         863                 60.850837         52.536099\n",
       "863         864                 80.019530        115.913091\n",
       "\n",
       "[864 rows x 3 columns]"
      ]
     },
     "execution_count": 242,
     "metadata": {},
     "output_type": "execute_result"
    }
   ],
   "source": [
    "\n",
    "# Generate synthetic data for student performance\n",
    "traditional_method_scores = np.random.normal(loc=65, scale=10, size=samples)\n",
    "new_method_scores = np.random.normal(loc=75, scale=20, size=samples)\n",
    "\n",
    "# Create a pandas DataFrame\n",
    "mcnemars_data = pd.DataFrame({\n",
    "    'Student_ID': range(1, samples + 1),\n",
    "    'Traditional_Method_Score': traditional_method_scores,\n",
    "    'New_Method_Score': new_method_scores\n",
    "})\n",
    "\n",
    "mcnemars_data\n"
   ]
  },
  {
   "cell_type": "code",
   "execution_count": 243,
   "metadata": {},
   "outputs": [
    {
     "name": "stdout",
     "output_type": "stream",
     "text": [
      "Traditional_Method_Score\n",
      "1    597\n",
      "0    267\n",
      "Name: count, dtype: int64\n",
      "\n",
      "\n",
      "New_Method_Score\n",
      "1    670\n",
      "0    194\n",
      "Name: count, dtype: int64\n"
     ]
    },
    {
     "data": {
      "text/html": [
       "<div>\n",
       "<style scoped>\n",
       "    .dataframe tbody tr th:only-of-type {\n",
       "        vertical-align: middle;\n",
       "    }\n",
       "\n",
       "    .dataframe tbody tr th {\n",
       "        vertical-align: top;\n",
       "    }\n",
       "\n",
       "    .dataframe thead th {\n",
       "        text-align: right;\n",
       "    }\n",
       "</style>\n",
       "<table border=\"1\" class=\"dataframe\">\n",
       "  <thead>\n",
       "    <tr style=\"text-align: right;\">\n",
       "      <th></th>\n",
       "      <th>Student_ID</th>\n",
       "      <th>Traditional_Method_Score</th>\n",
       "      <th>New_Method_Score</th>\n",
       "    </tr>\n",
       "  </thead>\n",
       "  <tbody>\n",
       "    <tr>\n",
       "      <th>0</th>\n",
       "      <td>1</td>\n",
       "      <td>1</td>\n",
       "      <td>1</td>\n",
       "    </tr>\n",
       "    <tr>\n",
       "      <th>1</th>\n",
       "      <td>2</td>\n",
       "      <td>1</td>\n",
       "      <td>1</td>\n",
       "    </tr>\n",
       "    <tr>\n",
       "      <th>2</th>\n",
       "      <td>3</td>\n",
       "      <td>1</td>\n",
       "      <td>1</td>\n",
       "    </tr>\n",
       "    <tr>\n",
       "      <th>3</th>\n",
       "      <td>4</td>\n",
       "      <td>1</td>\n",
       "      <td>1</td>\n",
       "    </tr>\n",
       "    <tr>\n",
       "      <th>4</th>\n",
       "      <td>5</td>\n",
       "      <td>1</td>\n",
       "      <td>0</td>\n",
       "    </tr>\n",
       "    <tr>\n",
       "      <th>...</th>\n",
       "      <td>...</td>\n",
       "      <td>...</td>\n",
       "      <td>...</td>\n",
       "    </tr>\n",
       "    <tr>\n",
       "      <th>859</th>\n",
       "      <td>860</td>\n",
       "      <td>1</td>\n",
       "      <td>1</td>\n",
       "    </tr>\n",
       "    <tr>\n",
       "      <th>860</th>\n",
       "      <td>861</td>\n",
       "      <td>0</td>\n",
       "      <td>0</td>\n",
       "    </tr>\n",
       "    <tr>\n",
       "      <th>861</th>\n",
       "      <td>862</td>\n",
       "      <td>1</td>\n",
       "      <td>0</td>\n",
       "    </tr>\n",
       "    <tr>\n",
       "      <th>862</th>\n",
       "      <td>863</td>\n",
       "      <td>1</td>\n",
       "      <td>0</td>\n",
       "    </tr>\n",
       "    <tr>\n",
       "      <th>863</th>\n",
       "      <td>864</td>\n",
       "      <td>1</td>\n",
       "      <td>1</td>\n",
       "    </tr>\n",
       "  </tbody>\n",
       "</table>\n",
       "<p>864 rows × 3 columns</p>\n",
       "</div>"
      ],
      "text/plain": [
       "     Student_ID  Traditional_Method_Score  New_Method_Score\n",
       "0             1                         1                 1\n",
       "1             2                         1                 1\n",
       "2             3                         1                 1\n",
       "3             4                         1                 1\n",
       "4             5                         1                 0\n",
       "..          ...                       ...               ...\n",
       "859         860                         1                 1\n",
       "860         861                         0                 0\n",
       "861         862                         1                 0\n",
       "862         863                         1                 0\n",
       "863         864                         1                 1\n",
       "\n",
       "[864 rows x 3 columns]"
      ]
     },
     "execution_count": 243,
     "metadata": {},
     "output_type": "execute_result"
    }
   ],
   "source": [
    "passing_score = 60\n",
    "\n",
    "mcnemars_data['Traditional_Method_Score'] = np.where(mcnemars_data['Traditional_Method_Score'] >= passing_score, 1, 0)\n",
    "mcnemars_data['New_Method_Score'] = np.where(mcnemars_data['New_Method_Score'] >= passing_score, 1, 0)\n",
    "\n",
    "print(mcnemars_data['Traditional_Method_Score'].value_counts())\n",
    "print(\"\\n\")\n",
    "print(mcnemars_data['New_Method_Score'].value_counts())\n",
    "\n",
    "mcnemars_data"
   ]
  },
  {
   "cell_type": "code",
   "execution_count": null,
   "metadata": {},
   "outputs": [],
   "source": []
  },
  {
   "cell_type": "markdown",
   "metadata": {},
   "source": [
    "### Check Assumptions"
   ]
  },
  {
   "cell_type": "code",
   "execution_count": 244,
   "metadata": {},
   "outputs": [
    {
     "name": "stdout",
     "output_type": "stream",
     "text": [
      "McNemar's Test for Proportions Assumption: Successes and failures are sufficiently large - Met\n"
     ]
    }
   ],
   "source": [
    "# Assumption check for z-test for proportions\n",
    "successes_group_A = mcnemars_data['New_Method_Score'].sum()\n",
    "failures_group_A = mcnemars_data['New_Method_Score'].count() - successes_group_A\n",
    "successes_group_B = mcnemars_data['Traditional_Method_Score'].sum()\n",
    "failures_group_B = mcnemars_data['Traditional_Method_Score'].count() - successes_group_B\n",
    "\n",
    "min_sample_size = 5\n",
    "\n",
    "# Check if successes and failures are sufficiently large\n",
    "mcnemar_test_assumption_met = all(n > min_sample_size for n in [successes_group_A, failures_group_A, successes_group_B, failures_group_B])\n",
    "\n",
    "print(f\"McNemar's Test for Proportions Assumption: Successes and failures are sufficiently large - {'Met' if mcnemar_test_assumption_met else 'Not Met'}\")\n"
   ]
  },
  {
   "cell_type": "code",
   "execution_count": null,
   "metadata": {},
   "outputs": [],
   "source": []
  },
  {
   "cell_type": "markdown",
   "metadata": {},
   "source": [
    "### McNemar's Test (statsmodels)"
   ]
  },
  {
   "cell_type": "code",
   "execution_count": 245,
   "metadata": {},
   "outputs": [],
   "source": [
    "# Pre-determined alpha\n",
    "alpha = 0.05  "
   ]
  },
  {
   "cell_type": "code",
   "execution_count": 246,
   "metadata": {},
   "outputs": [
    {
     "data": {
      "text/html": [
       "<div>\n",
       "<style scoped>\n",
       "    .dataframe tbody tr th:only-of-type {\n",
       "        vertical-align: middle;\n",
       "    }\n",
       "\n",
       "    .dataframe tbody tr th {\n",
       "        vertical-align: top;\n",
       "    }\n",
       "\n",
       "    .dataframe thead th {\n",
       "        text-align: right;\n",
       "    }\n",
       "</style>\n",
       "<table border=\"1\" class=\"dataframe\">\n",
       "  <thead>\n",
       "    <tr style=\"text-align: right;\">\n",
       "      <th>Traditional_Method_Score</th>\n",
       "      <th>0</th>\n",
       "      <th>1</th>\n",
       "    </tr>\n",
       "    <tr>\n",
       "      <th>New_Method_Score</th>\n",
       "      <th></th>\n",
       "      <th></th>\n",
       "    </tr>\n",
       "  </thead>\n",
       "  <tbody>\n",
       "    <tr>\n",
       "      <th>0</th>\n",
       "      <td>55</td>\n",
       "      <td>139</td>\n",
       "    </tr>\n",
       "    <tr>\n",
       "      <th>1</th>\n",
       "      <td>212</td>\n",
       "      <td>458</td>\n",
       "    </tr>\n",
       "  </tbody>\n",
       "</table>\n",
       "</div>"
      ],
      "text/plain": [
       "Traditional_Method_Score    0    1\n",
       "New_Method_Score                  \n",
       "0                          55  139\n",
       "1                         212  458"
      ]
     },
     "execution_count": 246,
     "metadata": {},
     "output_type": "execute_result"
    }
   ],
   "source": [
    "# Contingency table\n",
    "observed_counts = pd.crosstab(mcnemars_data['New_Method_Score'], mcnemars_data['Traditional_Method_Score'])\n",
    "observed_counts"
   ]
  },
  {
   "cell_type": "code",
   "execution_count": 247,
   "metadata": {},
   "outputs": [
    {
     "name": "stdout",
     "output_type": "stream",
     "text": [
      "Performing the Approximate Chi-Squared McNemar's Test\n",
      "Without Yate's Continuity Correction\n",
      "McNemar's test statistic: 15.182336182336183\n",
      "p-value: 9.761224597632137e-05\n",
      "\n",
      "\n",
      "Reject the null hypothesis.\n",
      "There is a significant difference in the proportions between Group A and Group B.\n"
     ]
    }
   ],
   "source": [
    "\n",
    "# exact: If exact is true, then the binomial distribution will be used. If exact is false, then the Chi-Square distribution will be used\n",
    "if successes_group_A + successes_group_B < 25:\n",
    "    print(\"Performing the Exact Binomial McNemar's Test\")\n",
    "    exact = True\n",
    "else:\n",
    "    print(\"Performing the Approximate Chi-Squared McNemar's Test\")\n",
    "    exact = False\n",
    "\n",
    "# correction: If true, a continuity correction is used. As a rule of thumb, this correction is typically applied when any of the cell counts in the table are less than 5.\n",
    "if (successes_group_A  <  5 ) | (successes_group_B  <  5 ) | (failures_group_A  <  5 ) | (failures_group_B  <  5 ):\n",
    "    print(\"With Yate's Continuity Correction\")\n",
    "    correction = True\n",
    "else:\n",
    "    print(\"Without Yate's Continuity Correction\")\n",
    "    correction = False\n",
    "\n",
    "\n",
    "# Performing McNemar's Test\n",
    "# result = mcnemar(observed_counts, exact=exact, correction=correction)\n",
    "result = mcnemar(table = observed_counts, exact=exact, correction=correction)\n",
    "p_value = result.pvalue\n",
    "\n",
    "\n",
    "# Print the test statistic and p-value\n",
    "print(\"McNemar's test statistic:\", result.statistic)\n",
    "print(\"p-value:\", p_value)\n",
    "\n",
    "# Check for statistical significance\n",
    "if p_value < alpha:\n",
    "    conclusion = \"Reject the null hypothesis.\"\n",
    "    interpretation = \"There is a significant difference in the proportions between Group A and Group B.\"\n",
    "else:\n",
    "    conclusion = \"Fail to reject the null hypothesis.\"\n",
    "    interpretation = \"There is no significant difference in proportions between Group A and Group B.\"\n",
    "print(\"\\n\")\n",
    "print(conclusion)\n",
    "print(interpretation)\n",
    "\n"
   ]
  },
  {
   "cell_type": "code",
   "execution_count": null,
   "metadata": {},
   "outputs": [],
   "source": []
  },
  {
   "cell_type": "markdown",
   "metadata": {},
   "source": [
    "### McNemar's (pingouin)"
   ]
  },
  {
   "cell_type": "code",
   "execution_count": 248,
   "metadata": {},
   "outputs": [
    {
     "name": "stdout",
     "output_type": "stream",
     "text": [
      "Performing the Approximate Chi-Squared McNemar's Test without Yate's Continuity Correction\n",
      "McNemar's test statistic: 15.182336182336183\n",
      "Degrees of Freedom: 1\n",
      "Approximate p-value: 9.761224597632137e-05\n",
      "Exact p-value: 0.00011533593971222029\n",
      "\n",
      "\n",
      "Reject the null hypothesis.\n",
      "There is a significant difference in the proportions between Group A and Group B.\n"
     ]
    }
   ],
   "source": [
    "# correction: If true, a continuity correction is used. As a rule of thumb, this correction is typically applied when any of the cell counts in the table are less than 5.\n",
    "if (successes_group_A  <  5 ) | (successes_group_B  <  5 ) | (failures_group_A  <  5 ) | (failures_group_B  <  5 ):\n",
    "    print(\"Performing the Approximate Chi-Squared McNemar's Test with Yate's Continuity Correction\")\n",
    "    correction = True\n",
    "else:\n",
    "    print(\"Performing the Approximate Chi-Squared McNemar's Test without Yate's Continuity Correction\")\n",
    "    correction = False\n",
    "\n",
    "\n",
    "# Perform McNemar's test\n",
    "observed, stats = chi2_mcnemar(mcnemars_data, 'Traditional_Method_Score', 'New_Method_Score', correction=correction)\n",
    "\n",
    "# Print the result\n",
    "chi2 = stats['chi2'].mcnemar\n",
    "dof = stats['dof'].mcnemar\n",
    "p_value_approx = stats['p-approx'].mcnemar\n",
    "p_value_exact= stats['p-exact'].mcnemar\n",
    "\n",
    "# Print the test statistic and p-value\n",
    "print(f\"McNemar's test statistic: {chi2}\")\n",
    "print(f\"Degrees of Freedom: {dof}\")\n",
    "print(f\"Approximate p-value: {p_value_approx}\")\n",
    "print(f\"Exact p-value: {p_value_exact}\")\n",
    "\n",
    "\n",
    "# Check for statistical significance\n",
    "if p_value_approx < alpha:\n",
    "    conclusion = \"Reject the null hypothesis.\"\n",
    "    interpretation = \"There is a significant difference in the proportions between Group A and Group B.\"\n",
    "else:\n",
    "    conclusion = \"Fail to reject the null hypothesis.\"\n",
    "    interpretation = \"There is no significant difference in proportions between Group A and Group B.\"\n",
    "print(\"\\n\")\n",
    "print(conclusion)\n",
    "print(interpretation)"
   ]
  },
  {
   "cell_type": "code",
   "execution_count": null,
   "metadata": {},
   "outputs": [],
   "source": []
  },
  {
   "cell_type": "markdown",
   "metadata": {},
   "source": [
    "### 95% Confidence Interval"
   ]
  },
  {
   "cell_type": "code",
   "execution_count": 249,
   "metadata": {},
   "outputs": [
    {
     "name": "stdout",
     "output_type": "stream",
     "text": [
      "Difference in Proportions: 0.0844907407407407\n",
      "95% Confidence Interval of the Difference in Proportions: [0.042975172844385824, 0.12600630863709558]\n"
     ]
    }
   ],
   "source": [
    "confidence_level = 0.95\n",
    "\n",
    "p01 = mcnemars_data['New_Method_Score'].sum() / mcnemars_data['New_Method_Score'].count()\n",
    "p10 = mcnemars_data['Traditional_Method_Score'].sum() / mcnemars_data['Traditional_Method_Score'].count()\n",
    "pdiff = p01 - p10\n",
    "\n",
    "# Calculate standard error of the difference\n",
    "se_diff = np.sqrt(p01 * (1 - p01) / samples + p10 * (1 - p10) / samples)\n",
    "\n",
    "# Critical value for 95% confidence interval\n",
    "critical_value = norm.ppf(1 - ((1-confidence_level)/2))  \n",
    "\n",
    "# Margin of error\n",
    "margin_of_error = critical_value * se_diff\n",
    "\n",
    "# Calculate confidence interval\n",
    "lower_bound = pdiff - margin_of_error\n",
    "upper_bound = pdiff + margin_of_error\n",
    "\n",
    "# Print results\n",
    "print(f\"Difference in Proportions: {pdiff}\")\n",
    "print(f\"95% Confidence Interval of the Difference in Proportions: [{lower_bound}, {upper_bound}]\")\n"
   ]
  },
  {
   "cell_type": "code",
   "execution_count": null,
   "metadata": {},
   "outputs": [],
   "source": []
  },
  {
   "cell_type": "markdown",
   "metadata": {},
   "source": [
    "### Effect Size"
   ]
  },
  {
   "cell_type": "code",
   "execution_count": 252,
   "metadata": {},
   "outputs": [
    {
     "name": "stdout",
     "output_type": "stream",
     "text": [
      "Cohen's h Effect Size: 0.19157397851407865\n",
      "\n",
      "\n",
      "There is a small difference between the two groups.\n"
     ]
    }
   ],
   "source": [
    "# Cohen's h effect size\n",
    "h = proportion_effectsize(p01, p10, method='normal')\n",
    "# h = np.abs((2*np.arcsin(np.sqrt(p01))) - (2*np.arcsin(np.sqrt(p10))))\n",
    "\n",
    "print(f\"Cohen's h Effect Size: {h}\")\n",
    "print(\"\\n\")\n",
    "\n",
    "if h == 0:\n",
    "    print(\"There is no difference between the two groups.\")\n",
    "elif h <= 0.2:\n",
    "    print(\"There is a small difference between the two groups.\")\n",
    "elif h <= 0.5:\n",
    "    print(\"There is a moderate difference between the two groups.\")\n",
    "elif h <= 0.8:\n",
    "    print(\"There is a large difference between the two groups.\")\n",
    "else:\n",
    "    print(\"There is a very large difference between the two groups.\")\n"
   ]
  },
  {
   "cell_type": "code",
   "execution_count": null,
   "metadata": {},
   "outputs": [],
   "source": []
  },
  {
   "cell_type": "markdown",
   "metadata": {},
   "source": [
    "### Odds Ratio"
   ]
  },
  {
   "cell_type": "code",
   "execution_count": 270,
   "metadata": {},
   "outputs": [
    {
     "name": "stdout",
     "output_type": "stream",
     "text": [
      "The odds ratio is 1.5446\n",
      "The odds of the outcome are 1.5446 times as high in the exposed group compared to the unexposed group.\n",
      "\n",
      "\n",
      "This suggests a positive association between the exposure and the outcome.\n",
      "It means that the odds of the outcome occurring in the exposed group are higher than the odds of the outcome occurring in the unexposed group. \n"
     ]
    }
   ],
   "source": [
    "\n",
    "# Odds Ratio\n",
    "odd_ratio = (successes_group_A * failures_group_B) / (successes_group_B * failures_group_A)\n",
    "\n",
    "print(f\"The odds ratio is {round(odd_ratio, 4)}\")\n",
    "print(f\"The odds of the outcome are {round(odd_ratio, 4)} times as high in the exposed group compared to the unexposed group.\")\n",
    "print(\"\\n\")\n",
    "\n",
    "if odd_ratio > 1:\n",
    "    print(\"This suggests a positive association between the exposure and the outcome.\\nIt means that the odds of the outcome occurring in the exposed group are higher than the odds of the outcome occurring in the unexposed group. \")\n",
    "elif odd_ratio < 1:\n",
    "    print(\"This implies a negative association between the exposure and the outcome.\\nIt indicates that the odds of the outcome occurring in the exposed group are lower than the odds of the outcome occurring in the unexposed group.\")\n",
    "else:\n",
    "    print(\"This indicates no association between the exposure and the outcome.\\nIn other words, the odds of the outcome occurring in the exposed group are the same as the odds of the outcome occurring in the unexposed group.\")"
   ]
  },
  {
   "cell_type": "code",
   "execution_count": null,
   "metadata": {},
   "outputs": [],
   "source": []
  },
  {
   "cell_type": "markdown",
   "metadata": {},
   "source": [
    "### Summary Table"
   ]
  },
  {
   "cell_type": "code",
   "execution_count": 267,
   "metadata": {},
   "outputs": [],
   "source": [
    "# Count everything up\n",
    "total_count = mcnemars_data.size\n",
    "group_a_count = mcnemars_data['Traditional_Method_Score'].count()\n",
    "group_b_count = mcnemars_data['New_Method_Score'].count()\n",
    "group_a_positive_count = mcnemars_data['Traditional_Method_Score'].value_counts()[1]\n",
    "group_a_negative_count = mcnemars_data['Traditional_Method_Score'].value_counts()[0]\n",
    "group_b_positive_count = mcnemars_data['New_Method_Score'].value_counts()[1]\n",
    "group_b_negative_count = mcnemars_data['New_Method_Score'].value_counts()[0]"
   ]
  },
  {
   "cell_type": "code",
   "execution_count": 268,
   "metadata": {},
   "outputs": [
    {
     "data": {
      "text/html": [
       "<div>\n",
       "<style scoped>\n",
       "    .dataframe tbody tr th:only-of-type {\n",
       "        vertical-align: middle;\n",
       "    }\n",
       "\n",
       "    .dataframe tbody tr th {\n",
       "        vertical-align: top;\n",
       "    }\n",
       "\n",
       "    .dataframe thead th {\n",
       "        text-align: right;\n",
       "    }\n",
       "</style>\n",
       "<table border=\"1\" class=\"dataframe\">\n",
       "  <thead>\n",
       "    <tr style=\"text-align: right;\">\n",
       "      <th></th>\n",
       "      <th>Test Group</th>\n",
       "      <th>Total</th>\n",
       "      <th>Pass</th>\n",
       "      <th>Fail</th>\n",
       "      <th>Pass Rate</th>\n",
       "    </tr>\n",
       "  </thead>\n",
       "  <tbody>\n",
       "    <tr>\n",
       "      <th>0</th>\n",
       "      <td>Traditional Method</td>\n",
       "      <td>864</td>\n",
       "      <td>597</td>\n",
       "      <td>267</td>\n",
       "      <td>0.690972</td>\n",
       "    </tr>\n",
       "    <tr>\n",
       "      <th>1</th>\n",
       "      <td>New Method</td>\n",
       "      <td>864</td>\n",
       "      <td>670</td>\n",
       "      <td>194</td>\n",
       "      <td>0.775463</td>\n",
       "    </tr>\n",
       "  </tbody>\n",
       "</table>\n",
       "</div>"
      ],
      "text/plain": [
       "           Test Group  Total  Pass  Fail  Pass Rate\n",
       "0  Traditional Method    864   597   267   0.690972\n",
       "1          New Method    864   670   194   0.775463"
      ]
     },
     "execution_count": 268,
     "metadata": {},
     "output_type": "execute_result"
    }
   ],
   "source": [
    "# Create a new DataFrame for plotting\n",
    "plot_data = pd.DataFrame({\n",
    "    'Test Group': [\"Traditional Method\", \"New Method\"],\n",
    "    'Total': [group_a_count, group_b_count],\n",
    "    'Pass': [group_a_positive_count, group_b_positive_count],\n",
    "    'Fail': [group_a_negative_count, group_b_negative_count],\n",
    "    'Pass Rate': [group_a_positive_count/group_a_count, group_b_positive_count/group_b_count],\n",
    "}, index=[0, 1])\n",
    "plot_data"
   ]
  },
  {
   "cell_type": "code",
   "execution_count": null,
   "metadata": {},
   "outputs": [],
   "source": []
  },
  {
   "cell_type": "markdown",
   "metadata": {},
   "source": [
    "### Visualization"
   ]
  },
  {
   "cell_type": "code",
   "execution_count": 269,
   "metadata": {},
   "outputs": [
    {
     "data": {
      "image/png": "[encoded data removed]",
      "text/plain": [
       "<Figure size 432x720 with 1 Axes>"
      ]
     },
     "metadata": {},
     "output_type": "display_data"
    }
   ],
   "source": [
    "# Plot stacked bars\n",
    "plt.figure(figsize=(6, 10))\n",
    "\n",
    "plot_total = sns.barplot(x=plot_data['Test Group'], \n",
    "                        y=plot_data['Total'], color='lightgrey')\n",
    "\n",
    "plot_satisfied = sns.barplot(x=plot_data['Test Group'], \n",
    "                            y=plot_data['Pass'], color=color)\n",
    "\n",
    "# Set labels and title\n",
    "plt.title('Pass Rate per Group', fontsize=15)\n",
    "plt.ylabel('Count')\n",
    "plt.tick_params(left=False,bottom=False,labelleft=True,labelbottom=True)\n",
    "\n",
    "# Put values on top of bars\n",
    "row_list = []\n",
    "for index, row in plot_data[plot_data['Test Group'] == 'Traditional Method'][['Pass', 'Pass Rate']].iterrows():\n",
    "    plot_total.text(row.name, row['Pass']+5, str(round(100 * row['Pass Rate'], 2)) + '%', color=color, ha=\"center\", fontsize=15)\n",
    "for index, row in plot_data[plot_data['Test Group'] == 'New Method'][['Pass', 'Pass Rate']].iterrows():\n",
    "    plot_satisfied.text(row.name, row['Pass']+5, str(round(100 * row['Pass Rate'], 2)) + '%', color=color, ha=\"center\", fontsize=15)\n",
    "\n",
    "\n",
    "# Show the plot\n",
    "plt.show()"
   ]
  },
  {
   "cell_type": "code",
   "execution_count": null,
   "metadata": {},
   "outputs": [],
   "source": []
  },
  {
   "cell_type": "code",
   "execution_count": null,
   "metadata": {},
   "outputs": [],
   "source": []
  },
  {
   "cell_type": "code",
   "execution_count": null,
   "metadata": {},
   "outputs": [],
   "source": []
  },
  {
   "cell_type": "code",
   "execution_count": null,
   "metadata": {},
   "outputs": [],
   "source": []
  }
 ],
 "metadata": {
  "kernelspec": {
   "display_name": "base",
   "language": "python",
   "name": "python3"
  },
  "language_info": {
   "codemirror_mode": {
    "name": "ipython",
    "version": 3
   },
   "file_extension": ".py",
   "mimetype": "text/x-python",
   "name": "python",
   "nbconvert_exporter": "python",
   "pygments_lexer": "ipython3",
   "version": "3.9.7"
  }
 },
 "nbformat": 4,
 "nbformat_minor": 2
}
