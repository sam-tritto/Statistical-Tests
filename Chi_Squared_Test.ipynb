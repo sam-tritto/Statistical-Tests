{
 "cells": [
  {
   "cell_type": "markdown",
   "metadata": {},
   "source": [
    "# The Chi-Squared Test for Proportions (or Independence)"
   ]
  },
  {
   "cell_type": "code",
   "execution_count": null,
   "metadata": {},
   "outputs": [],
   "source": []
  },
  {
   "cell_type": "markdown",
   "metadata": {},
   "source": [
    "\n",
    "> Use Case\n",
    "- Used to compare observed and expected frequencies of categorical data, particularly when comparing proportions across different categorical groups.\n",
    "- Used for feature selection, to determine if a feature is a good predictor.\n",
    "> Assumptions\n",
    "- The data must be categorical and fit into a contingency table.\n",
    "- The expected frequency in each cell of the contingency table should be at least 5 (to ensure the validity of the test).\n",
    "> Example Scenario\n",
    "- Comparing the satisfaction levels of customers (Satisfied/Not Satisfied) between two different versions of a website.\n",
    "> Null Hypothesis (H0):\n",
    "- Feature Selection: The categories are independent\n",
    "- Proportions: The proportion of successes is the same for both groups.\n",
    "> Alternative Hypothesis (H1):\n",
    "- Feature Selection: The categories are dependent\n",
    "- Proportions: The proportion of successes is different for both groups."
   ]
  },
  {
   "cell_type": "code",
   "execution_count": 76,
   "metadata": {},
   "outputs": [],
   "source": [
    "import pandas as pd\n",
    "import numpy as np\n",
    "import matplotlib.pyplot as plt\n",
    "import seaborn as sns\n",
    "\n",
    "# !pip install statsmodels==0.12.2\n",
    "from statsmodels.stats.power import GofChisquarePower\n",
    "from statsmodels.stats.proportion import proportions_chisquare, proportion_effectsize\n",
    "\n",
    "# !pip install scipy==1.12.0\n",
    "from scipy.stats import chi2_contingency, chi2\n",
    "\n",
    "# !pip install pingouin==0.5.4\n",
    "from pingouin import chi2_independence, power_chi2 \n"
   ]
  },
  {
   "cell_type": "code",
   "execution_count": 2,
   "metadata": {},
   "outputs": [
    {
     "data": {
      "text/plain": [
       "'0.12.2'"
      ]
     },
     "execution_count": 2,
     "metadata": {},
     "output_type": "execute_result"
    }
   ],
   "source": [
    "import statsmodels\n",
    "statsmodels.__version__"
   ]
  },
  {
   "cell_type": "code",
   "execution_count": 3,
   "metadata": {},
   "outputs": [
    {
     "data": {
      "text/plain": [
       "'1.12.0'"
      ]
     },
     "execution_count": 3,
     "metadata": {},
     "output_type": "execute_result"
    }
   ],
   "source": [
    "import scipy\n",
    "scipy.__version__"
   ]
  },
  {
   "cell_type": "code",
   "execution_count": 4,
   "metadata": {},
   "outputs": [
    {
     "data": {
      "text/plain": [
       "'0.5.4'"
      ]
     },
     "execution_count": 4,
     "metadata": {},
     "output_type": "execute_result"
    }
   ],
   "source": [
    "import pingouin\n",
    "pingouin.__version__"
   ]
  },
  {
   "cell_type": "code",
   "execution_count": 5,
   "metadata": {},
   "outputs": [],
   "source": [
    "# Set random seed for reproducibility\n",
    "np.random.seed(42)"
   ]
  },
  {
   "cell_type": "code",
   "execution_count": 6,
   "metadata": {},
   "outputs": [],
   "source": [
    "# set seaborn style\n",
    "sns.set(style=\"white\", palette=\"mako\")\n",
    "\n",
    "# colors\n",
    "color = 'slateblue'\n",
    "\n",
    "# remove some borders    \n",
    "plt.rcParams['axes.axisbelow'] = True\n",
    "plt.rcParams['axes.spines.left'] = False\n",
    "plt.rcParams['axes.spines.bottom'] = True\n",
    "plt.rcParams['axes.spines.top'] = False\n",
    "plt.rcParams['axes.spines.right'] = False"
   ]
  },
  {
   "cell_type": "markdown",
   "metadata": {},
   "source": [
    "### Power Analysis"
   ]
  },
  {
   "cell_type": "code",
   "execution_count": 7,
   "metadata": {},
   "outputs": [
    {
     "data": {
      "image/png": "[encoded data removed]",
      "text/plain": [
       "<Figure size 864x288 with 1 Axes>"
      ]
     },
     "metadata": {
      "needs_background": "light"
     },
     "output_type": "display_data"
    }
   ],
   "source": [
    "# Initialize GofChisquarePower\n",
    "gof_power = GofChisquarePower()\n",
    "\n",
    "# Given power and alpha\n",
    "alpha=0.05\n",
    "power=0.8\n",
    "\n",
    "# Define effect sizes\n",
    "effect_sizes = np.linspace(0.05, 1, 20) \n",
    "# Calculate number of samples for each effect size\n",
    "samples = [gof_power.solve_power(effect_size=effect_size, nobs=None, alpha=alpha, power=power) for effect_size in effect_sizes]\n",
    "\n",
    "# Figure size\n",
    "plt.figure(figsize=(12, 4))\n",
    "\n",
    "# Plot samples versus effect sizes\n",
    "plt.plot(effect_sizes, samples, color=color, marker='o')\n",
    "\n",
    "# Shade area below the line with lower opacity\n",
    "plt.fill_between(effect_sizes, samples, color=color, alpha=0.3)\n",
    "\n",
    "# Add plot labels and title\n",
    "plt.xlabel('Effect Size')\n",
    "plt.ylabel('Number of Samples')\n",
    "plt.title('Samples versus Effect Size for Chi-Squared GOF Test')\n",
    "plt.show()\n"
   ]
  },
  {
   "cell_type": "code",
   "execution_count": 8,
   "metadata": {},
   "outputs": [
    {
     "name": "stdout",
     "output_type": "stream",
     "text": [
      "There are 785 samples required per group\n"
     ]
    }
   ],
   "source": [
    "# Chi-Squared Power Analysis (scipy)\n",
    "\n",
    "# Degree of freedom (depends on the chosen test).\n",
    "# A 2x2 contingency table has 1 degree of freedom. \n",
    "dof=1\n",
    "# Cohen’s w effect size\n",
    "# For a 2 x 2 table, the absolute value of the phi statistic is the same as Cohen's w. \n",
    "# The value of Cohen's w is not bound by 1 on the upper end.\n",
    "w=0.1\n",
    "# Test power (= 1 - type II error).\n",
    "power=0.8\n",
    "# Significance level (type I error probability).\n",
    "alpha=0.05\n",
    "# Exactly ONE of the parameters w, n, power and alpha must be passed as None, and that parameter is determined from the others. \n",
    "n=None\n",
    "\n",
    "# The degrees of freedom dof must always be specified\n",
    "sample_size = power_chi2(dof=dof, w=w, n=n, power=power, alpha=alpha)\n",
    "\n",
    "print(f\"There are {int(np.ceil(sample_size))} samples required per group\")"
   ]
  },
  {
   "cell_type": "code",
   "execution_count": 9,
   "metadata": {},
   "outputs": [
    {
     "name": "stdout",
     "output_type": "stream",
     "text": [
      "There are 785 samples required per group\n"
     ]
    }
   ],
   "source": [
    "# Chi-Squared Power Analysis (statsmodels)\n",
    "\n",
    "# Cohen’s w effect size\n",
    "# For a 2 x 2 table, the absolute value of the phi statistic is the same as Cohen's w. \n",
    "# The value of Cohen's w is not bound by 1 on the upper end.\n",
    "effect_size = 0.1\n",
    "# Significance level (type I error probability).\n",
    "alpha = 0.05\n",
    "# Test power (= 1 - type II error).\n",
    "power = 0.8\n",
    "# Degree of freedom + 1 (depends on the chosen test).\n",
    "# A 2x2 contingency table has 1 degree of freedom. \n",
    "n_bins=2\n",
    "# Exactly ONE of the parameters must be passed as None, and that parameter is determined from the others. \n",
    "nobs = None\n",
    "\n",
    "# The degrees of freedom dof must always be specified\n",
    "sample_size = GofChisquarePower().solve_power(effect_size=effect_size, nobs=nobs, alpha=alpha, power=power, n_bins=n_bins)\n",
    "\n",
    "print(f\"There are {int(np.ceil(sample_size))} samples required per group\")"
   ]
  },
  {
   "cell_type": "code",
   "execution_count": 10,
   "metadata": {},
   "outputs": [
    {
     "name": "stdout",
     "output_type": "stream",
     "text": [
      "There are 785 samples required per group\n"
     ]
    }
   ],
   "source": [
    "# Chi-Squared Power Analysis (pingouin)\n",
    "\n",
    "# Degree of freedom (depends on the chosen test).\n",
    "# A 2x2 contingency table has 1 degree of freedom. \n",
    "dof=1\n",
    "# Cohen’s w effect size\n",
    "# For a 2 x 2 table, the absolute value of the phi statistic is the same as Cohen's w. \n",
    "# The value of Cohen's w is not bound by 1 on the upper end.\n",
    "w=0.1\n",
    "# Significance level (type I error probability).\n",
    "alpha = 0.05\n",
    "# Test power (= 1 - type II error).\n",
    "power = 0.8\n",
    "# Exactly ONE of the parameters must be passed as None, and that parameter is determined from the others. \n",
    "n = None\n",
    "\n",
    "# The degrees of freedom dof must always be specified\n",
    "sample_size = power_chi2(dof=dof, w=w, power=power, alpha=alpha, n=n)\n",
    "\n",
    "print(f\"There are {int(np.ceil(sample_size))} samples required per group\")"
   ]
  },
  {
   "cell_type": "code",
   "execution_count": 11,
   "metadata": {},
   "outputs": [
    {
     "data": {
      "image/png": "[encoded data removed]",
      "text/plain": [
       "<Figure size 864x288 with 1 Axes>"
      ]
     },
     "metadata": {
      "needs_background": "light"
     },
     "output_type": "display_data"
    }
   ],
   "source": [
    "# Initialize GofChisquarePower\n",
    "gof_power = GofChisquarePower()\n",
    "\n",
    "# Given alpha \n",
    "alpha=0.05\n",
    "# Given prior determined sample size\n",
    "nobs = 785\n",
    "\n",
    "# Define effect sizes\n",
    "effect_sizes = np.linspace(0.05, 1, 20)  \n",
    "# Calculate power for each effect size\n",
    "powers = [gof_power.solve_power(effect_size=effect_size, nobs=nobs, alpha=alpha) for effect_size in effect_sizes]\n",
    "\n",
    "# Figure size\n",
    "plt.figure(figsize=(12, 4))\n",
    "\n",
    "# Plot power versus effect sizes\n",
    "plt.plot(effect_sizes, powers, color=color, marker='o')\n",
    "\n",
    "# Shade area below the line with lower opacity\n",
    "plt.fill_between(effect_sizes, powers, color=color, alpha=0.3)\n",
    "\n",
    "# Add plot labels and title\n",
    "plt.xlabel('Effect Size')\n",
    "plt.ylabel('Power')\n",
    "plt.title('Power versus Effect Size for Chi-Squared GOF Test')\n",
    "plt.show()\n"
   ]
  },
  {
   "cell_type": "code",
   "execution_count": null,
   "metadata": {},
   "outputs": [],
   "source": []
  },
  {
   "cell_type": "markdown",
   "metadata": {},
   "source": [
    "### Synthetic Data"
   ]
  },
  {
   "cell_type": "code",
   "execution_count": 12,
   "metadata": {},
   "outputs": [
    {
     "data": {
      "text/html": [
       "<div>\n",
       "<style scoped>\n",
       "    .dataframe tbody tr th:only-of-type {\n",
       "        vertical-align: middle;\n",
       "    }\n",
       "\n",
       "    .dataframe tbody tr th {\n",
       "        vertical-align: top;\n",
       "    }\n",
       "\n",
       "    .dataframe thead th {\n",
       "        text-align: right;\n",
       "    }\n",
       "</style>\n",
       "<table border=\"1\" class=\"dataframe\">\n",
       "  <thead>\n",
       "    <tr style=\"text-align: right;\">\n",
       "      <th></th>\n",
       "      <th>Version_A</th>\n",
       "      <th>Version_B</th>\n",
       "    </tr>\n",
       "  </thead>\n",
       "  <tbody>\n",
       "    <tr>\n",
       "      <th>0</th>\n",
       "      <td>Not Satisfied</td>\n",
       "      <td>Not Satisfied</td>\n",
       "    </tr>\n",
       "    <tr>\n",
       "      <th>1</th>\n",
       "      <td>Not Satisfied</td>\n",
       "      <td>Not Satisfied</td>\n",
       "    </tr>\n",
       "    <tr>\n",
       "      <th>2</th>\n",
       "      <td>Not Satisfied</td>\n",
       "      <td>Not Satisfied</td>\n",
       "    </tr>\n",
       "    <tr>\n",
       "      <th>3</th>\n",
       "      <td>Not Satisfied</td>\n",
       "      <td>Not Satisfied</td>\n",
       "    </tr>\n",
       "    <tr>\n",
       "      <th>4</th>\n",
       "      <td>Satisfied</td>\n",
       "      <td>Not Satisfied</td>\n",
       "    </tr>\n",
       "    <tr>\n",
       "      <th>...</th>\n",
       "      <td>...</td>\n",
       "      <td>...</td>\n",
       "    </tr>\n",
       "    <tr>\n",
       "      <th>780</th>\n",
       "      <td>Not Satisfied</td>\n",
       "      <td>Not Satisfied</td>\n",
       "    </tr>\n",
       "    <tr>\n",
       "      <th>781</th>\n",
       "      <td>Not Satisfied</td>\n",
       "      <td>Not Satisfied</td>\n",
       "    </tr>\n",
       "    <tr>\n",
       "      <th>782</th>\n",
       "      <td>Not Satisfied</td>\n",
       "      <td>Satisfied</td>\n",
       "    </tr>\n",
       "    <tr>\n",
       "      <th>783</th>\n",
       "      <td>Not Satisfied</td>\n",
       "      <td>Not Satisfied</td>\n",
       "    </tr>\n",
       "    <tr>\n",
       "      <th>784</th>\n",
       "      <td>Satisfied</td>\n",
       "      <td>Not Satisfied</td>\n",
       "    </tr>\n",
       "  </tbody>\n",
       "</table>\n",
       "<p>785 rows × 2 columns</p>\n",
       "</div>"
      ],
      "text/plain": [
       "         Version_A      Version_B\n",
       "0    Not Satisfied  Not Satisfied\n",
       "1    Not Satisfied  Not Satisfied\n",
       "2    Not Satisfied  Not Satisfied\n",
       "3    Not Satisfied  Not Satisfied\n",
       "4        Satisfied  Not Satisfied\n",
       "..             ...            ...\n",
       "780  Not Satisfied  Not Satisfied\n",
       "781  Not Satisfied  Not Satisfied\n",
       "782  Not Satisfied      Satisfied\n",
       "783  Not Satisfied  Not Satisfied\n",
       "784      Satisfied  Not Satisfied\n",
       "\n",
       "[785 rows x 2 columns]"
      ]
     },
     "execution_count": 12,
     "metadata": {},
     "output_type": "execute_result"
    }
   ],
   "source": [
    "# Number of samples for each version\n",
    "n_samples = 785\n",
    "\n",
    "# Generate synthetic data for two website versions\n",
    "version_A = np.random.choice(['Satisfied', 'Not Satisfied'], size=n_samples, p=[0.25, 0.75])\n",
    "version_B = np.random.choice(['Satisfied', 'Not Satisfied'], size=n_samples, p=[0.15, 0.85])\n",
    "\n",
    "\n",
    "# Create pandas dataframe\n",
    "chi_squared_data = pd.DataFrame({'Version_A': version_A, 'Version_B': version_B})\n",
    "chi_squared_data"
   ]
  },
  {
   "cell_type": "code",
   "execution_count": 13,
   "metadata": {},
   "outputs": [],
   "source": [
    "# We'll use these later to build arrays to plug into the statistical functions\n",
    "\n",
    "a_positive = chi_squared_data['Version_A'].value_counts()['Satisfied']\n",
    "a_negative = chi_squared_data['Version_A'].value_counts()['Not Satisfied']\n",
    "\n",
    "b_positive = chi_squared_data['Version_B'].value_counts()['Satisfied']\n",
    "b_negative = chi_squared_data['Version_B'].value_counts()['Not Satisfied']\n"
   ]
  },
  {
   "cell_type": "code",
   "execution_count": null,
   "metadata": {},
   "outputs": [],
   "source": []
  },
  {
   "cell_type": "markdown",
   "metadata": {},
   "source": [
    "### Check Assumptions"
   ]
  },
  {
   "cell_type": "code",
   "execution_count": 68,
   "metadata": {},
   "outputs": [
    {
     "name": "stdout",
     "output_type": "stream",
     "text": [
      "Chi-Squared Test Assumption: Expected counts in each cell are at least 5 - Met\n"
     ]
    }
   ],
   "source": [
    "# Assumption check for chi-squared test\n",
    "observed_counts = pd.crosstab(chi_squared_data['Version_A'], chi_squared_data['Version_B'])\n",
    "min_expected_count = 5\n",
    "\n",
    "# Check if expected counts in each cell are at least > min_expected_count\n",
    "expected_counts = np.outer(observed_counts.sum(axis=1), observed_counts.sum(axis=0)) / chi_squared_data.shape[0]\n",
    "assumption_met = np.all(expected_counts >= min_expected_count)\n",
    "\n",
    "print(f\"Chi-Squared Test Assumption: Expected counts in each cell are at least {min_expected_count} - {'Met' if assumption_met else 'Not Met'}\")\n"
   ]
  },
  {
   "cell_type": "code",
   "execution_count": null,
   "metadata": {},
   "outputs": [],
   "source": []
  },
  {
   "cell_type": "markdown",
   "metadata": {},
   "source": [
    "### Chi-Squared Test (SciPy)"
   ]
  },
  {
   "cell_type": "code",
   "execution_count": 51,
   "metadata": {},
   "outputs": [],
   "source": [
    "# Pre-determined alpha value\n",
    "alpha = 0.05"
   ]
  },
  {
   "cell_type": "code",
   "execution_count": 73,
   "metadata": {},
   "outputs": [
    {
     "name": "stdout",
     "output_type": "stream",
     "text": [
      "Chi-Squared Test Statistic: 30.59572751137255\n",
      "p-value: 3.1779278783127937e-08\n",
      "dof: 1\n",
      "expected_freq: [[163.5 621.5]\n",
      " [163.5 621.5]]\n",
      "\n",
      "\n",
      "Reject the null hypothesis. The categories are likely dependent\n",
      "There is a significant difference in satisfaction levels between the two website versions.\n"
     ]
    }
   ],
   "source": [
    "# Contingency table\n",
    "observed_counts = np.array([[a_positive, a_negative], [b_positive, b_negative]])\n",
    "# Chi-squared test\n",
    "res = chi2_contingency(observed_counts, correction=False)\n",
    "\n",
    "chi2_stat = res.statistic\n",
    "p_value = res.pvalue\n",
    "dof = res.dof\n",
    "expected_freq = res.expected_freq\n",
    "\n",
    "# Similar categorical variables should present low chi-squared statistic and high p-value.\n",
    "print(f\"Chi-Squared Test Statistic: {chi2_stat}\")\n",
    "print(f\"p-value: {p_value}\")\n",
    "print(f\"dof: {dof}\")\n",
    "print(f\"expected_freq: {expected_freq}\")\n",
    "\n",
    "# Check for statistical significance\n",
    "if p_value < alpha:\n",
    "    conclusion = \"Reject the null hypothesis. The categories are likely dependent\"\n",
    "    interpretation = \"There is a significant difference in satisfaction levels between the two website versions.\"\n",
    "else:\n",
    "    conclusion = \"Fail to reject the null hypothesis. The categories are likely independent\"\n",
    "    interpretation = \"There is no significant difference in satisfaction levels between the two website versions.\"\n",
    "print(\"\\n\")\n",
    "print(conclusion)\n",
    "print(interpretation)\n"
   ]
  },
  {
   "cell_type": "code",
   "execution_count": null,
   "metadata": {},
   "outputs": [],
   "source": []
  },
  {
   "cell_type": "markdown",
   "metadata": {},
   "source": [
    "### Chi-Squared Test (pingouin)"
   ]
  },
  {
   "cell_type": "code",
   "execution_count": 53,
   "metadata": {},
   "outputs": [],
   "source": [
    "# Pre-determined alpha value\n",
    "alpha = 0.05"
   ]
  },
  {
   "cell_type": "code",
   "execution_count": 74,
   "metadata": {},
   "outputs": [
    {
     "name": "stdout",
     "output_type": "stream",
     "text": [
      "Summary Stats:\n"
     ]
    },
    {
     "data": {
      "text/html": [
       "<div>\n",
       "<style scoped>\n",
       "    .dataframe tbody tr th:only-of-type {\n",
       "        vertical-align: middle;\n",
       "    }\n",
       "\n",
       "    .dataframe tbody tr th {\n",
       "        vertical-align: top;\n",
       "    }\n",
       "\n",
       "    .dataframe thead th {\n",
       "        text-align: right;\n",
       "    }\n",
       "</style>\n",
       "<table border=\"1\" class=\"dataframe\">\n",
       "  <thead>\n",
       "    <tr style=\"text-align: right;\">\n",
       "      <th></th>\n",
       "      <th>test</th>\n",
       "      <th>lambda</th>\n",
       "      <th>chi2</th>\n",
       "      <th>dof</th>\n",
       "      <th>pval</th>\n",
       "      <th>cramer</th>\n",
       "      <th>power</th>\n",
       "    </tr>\n",
       "  </thead>\n",
       "  <tbody>\n",
       "    <tr>\n",
       "      <th>0</th>\n",
       "      <td>pearson</td>\n",
       "      <td>1.000</td>\n",
       "      <td>30.596</td>\n",
       "      <td>1.0</td>\n",
       "      <td>0.0</td>\n",
       "      <td>0.140</td>\n",
       "      <td>1.0</td>\n",
       "    </tr>\n",
       "    <tr>\n",
       "      <th>1</th>\n",
       "      <td>cressie-read</td>\n",
       "      <td>0.667</td>\n",
       "      <td>30.665</td>\n",
       "      <td>1.0</td>\n",
       "      <td>0.0</td>\n",
       "      <td>0.140</td>\n",
       "      <td>1.0</td>\n",
       "    </tr>\n",
       "    <tr>\n",
       "      <th>2</th>\n",
       "      <td>log-likelihood</td>\n",
       "      <td>0.000</td>\n",
       "      <td>30.909</td>\n",
       "      <td>1.0</td>\n",
       "      <td>0.0</td>\n",
       "      <td>0.140</td>\n",
       "      <td>1.0</td>\n",
       "    </tr>\n",
       "    <tr>\n",
       "      <th>3</th>\n",
       "      <td>freeman-tukey</td>\n",
       "      <td>-0.500</td>\n",
       "      <td>31.190</td>\n",
       "      <td>1.0</td>\n",
       "      <td>0.0</td>\n",
       "      <td>0.141</td>\n",
       "      <td>1.0</td>\n",
       "    </tr>\n",
       "    <tr>\n",
       "      <th>4</th>\n",
       "      <td>mod-log-likelihood</td>\n",
       "      <td>-1.000</td>\n",
       "      <td>31.556</td>\n",
       "      <td>1.0</td>\n",
       "      <td>0.0</td>\n",
       "      <td>0.142</td>\n",
       "      <td>1.0</td>\n",
       "    </tr>\n",
       "    <tr>\n",
       "      <th>5</th>\n",
       "      <td>neyman</td>\n",
       "      <td>-2.000</td>\n",
       "      <td>32.567</td>\n",
       "      <td>1.0</td>\n",
       "      <td>0.0</td>\n",
       "      <td>0.144</td>\n",
       "      <td>1.0</td>\n",
       "    </tr>\n",
       "  </tbody>\n",
       "</table>\n",
       "</div>"
      ],
      "text/plain": [
       "                 test  lambda    chi2  dof  pval  cramer  power\n",
       "0             pearson   1.000  30.596  1.0   0.0   0.140    1.0\n",
       "1        cressie-read   0.667  30.665  1.0   0.0   0.140    1.0\n",
       "2      log-likelihood   0.000  30.909  1.0   0.0   0.140    1.0\n",
       "3       freeman-tukey  -0.500  31.190  1.0   0.0   0.141    1.0\n",
       "4  mod-log-likelihood  -1.000  31.556  1.0   0.0   0.142    1.0\n",
       "5              neyman  -2.000  32.567  1.0   0.0   0.144    1.0"
      ]
     },
     "metadata": {},
     "output_type": "display_data"
    },
    {
     "name": "stdout",
     "output_type": "stream",
     "text": [
      "Expected Counts:\n"
     ]
    },
    {
     "data": {
      "text/html": [
       "<div>\n",
       "<style scoped>\n",
       "    .dataframe tbody tr th:only-of-type {\n",
       "        vertical-align: middle;\n",
       "    }\n",
       "\n",
       "    .dataframe tbody tr th {\n",
       "        vertical-align: top;\n",
       "    }\n",
       "\n",
       "    .dataframe thead th {\n",
       "        text-align: right;\n",
       "    }\n",
       "</style>\n",
       "<table border=\"1\" class=\"dataframe\">\n",
       "  <thead>\n",
       "    <tr style=\"text-align: right;\">\n",
       "      <th>Satisfied</th>\n",
       "      <th>Not Satisfied</th>\n",
       "      <th>Satisfied</th>\n",
       "    </tr>\n",
       "    <tr>\n",
       "      <th>Group</th>\n",
       "      <th></th>\n",
       "      <th></th>\n",
       "    </tr>\n",
       "  </thead>\n",
       "  <tbody>\n",
       "    <tr>\n",
       "      <th>Version_A</th>\n",
       "      <td>621.5</td>\n",
       "      <td>163.5</td>\n",
       "    </tr>\n",
       "    <tr>\n",
       "      <th>Version_B</th>\n",
       "      <td>621.5</td>\n",
       "      <td>163.5</td>\n",
       "    </tr>\n",
       "  </tbody>\n",
       "</table>\n",
       "</div>"
      ],
      "text/plain": [
       "Satisfied  Not Satisfied  Satisfied\n",
       "Group                              \n",
       "Version_A          621.5      163.5\n",
       "Version_B          621.5      163.5"
      ]
     },
     "metadata": {},
     "output_type": "display_data"
    },
    {
     "name": "stdout",
     "output_type": "stream",
     "text": [
      "\n",
      "Observed Counts:\n"
     ]
    },
    {
     "data": {
      "text/html": [
       "<div>\n",
       "<style scoped>\n",
       "    .dataframe tbody tr th:only-of-type {\n",
       "        vertical-align: middle;\n",
       "    }\n",
       "\n",
       "    .dataframe tbody tr th {\n",
       "        vertical-align: top;\n",
       "    }\n",
       "\n",
       "    .dataframe thead th {\n",
       "        text-align: right;\n",
       "    }\n",
       "</style>\n",
       "<table border=\"1\" class=\"dataframe\">\n",
       "  <thead>\n",
       "    <tr style=\"text-align: right;\">\n",
       "      <th>Satisfied</th>\n",
       "      <th>Not Satisfied</th>\n",
       "      <th>Satisfied</th>\n",
       "    </tr>\n",
       "    <tr>\n",
       "      <th>Group</th>\n",
       "      <th></th>\n",
       "      <th></th>\n",
       "    </tr>\n",
       "  </thead>\n",
       "  <tbody>\n",
       "    <tr>\n",
       "      <th>Version_A</th>\n",
       "      <td>577</td>\n",
       "      <td>208</td>\n",
       "    </tr>\n",
       "    <tr>\n",
       "      <th>Version_B</th>\n",
       "      <td>666</td>\n",
       "      <td>119</td>\n",
       "    </tr>\n",
       "  </tbody>\n",
       "</table>\n",
       "</div>"
      ],
      "text/plain": [
       "Satisfied  Not Satisfied  Satisfied\n",
       "Group                              \n",
       "Version_A            577        208\n",
       "Version_B            666        119"
      ]
     },
     "metadata": {},
     "output_type": "display_data"
    },
    {
     "name": "stdout",
     "output_type": "stream",
     "text": [
      "Reject the null hypothesis. The categories are likely dependent\n",
      "There is a significant difference in satisfaction levels between the two website versions.\n"
     ]
    }
   ],
   "source": [
    "\n",
    "# Melt the dataframe\n",
    "melted_chi_squared_data = chi_squared_data.melt().rename(columns = {'variable':'Group', 'value':'Satisfied'})\n",
    "\n",
    "# Perform chi-squared test for proportions using pingouin (bootstrap)\n",
    "expected, observed, stats = chi2_independence(melted_chi_squared_data, x='Group', y='Satisfied', correction=False)\n",
    "\n",
    "# Similar categorical variables should present low chi-squared statistics and high p-values.\n",
    "print(\"Summary Stats:\")\n",
    "display(stats.round(3))\n",
    "\n",
    "print(f'Expected Counts:')\n",
    "display(expected)\n",
    "\n",
    "print(f'\\nObserved Counts:')\n",
    "display(observed)\n",
    "\n",
    "avg_p = stats['pval'].mean()\n",
    "\n",
    "# Check for statistical significance\n",
    "if avg_p < alpha:\n",
    "    conclusion = \"Reject the null hypothesis. The categories are likely dependent\"\n",
    "    interpretation = \"There is a significant difference in satisfaction levels between the two website versions.\"\n",
    "else:\n",
    "    conclusion = \"Fail to reject the null hypothesis. The categories are likely independent\"\n",
    "    interpretation = \"There is no significant difference in satisfaction levels between the two website versions.\"\n",
    "\n",
    "print(conclusion)\n",
    "print(interpretation)"
   ]
  },
  {
   "cell_type": "code",
   "execution_count": null,
   "metadata": {},
   "outputs": [],
   "source": []
  },
  {
   "cell_type": "markdown",
   "metadata": {},
   "source": [
    "### Chi-Squared Test (statsmodels)"
   ]
  },
  {
   "cell_type": "code",
   "execution_count": 30,
   "metadata": {},
   "outputs": [],
   "source": [
    "# Pre-determined alpha value\n",
    "alpha = 0.05"
   ]
  },
  {
   "cell_type": "code",
   "execution_count": 67,
   "metadata": {},
   "outputs": [
    {
     "name": "stdout",
     "output_type": "stream",
     "text": [
      "Chi-Squared Test Statistic: 30.59572751137255\n",
      "p-value: 3.1779278783127937e-08\n",
      "table: [[208 577]\n",
      " [119 666]]\n",
      "expected_freq: [[163.5 621.5]\n",
      " [163.5 621.5]]\n",
      "\n",
      "\n",
      "Reject the null hypothesis. The categories are likely dependent\n",
      "There is a significant difference in satisfaction levels between the two website versions.\n"
     ]
    }
   ],
   "source": [
    "# Contingency table\n",
    "observed_counts = np.array([a_positive, b_positive])\n",
    "\n",
    "# Get the total number of observations for all categories\n",
    "nobs = np.array([chi_squared_data.shape[0], chi_squared_data.shape[0]])\n",
    "\n",
    "# Perform chi-squared test for proportions\n",
    "chi2_stat, p_value, (table, expected)  = proportions_chisquare(count = observed_counts, nobs = nobs, value=None)\n",
    "# chi2_stat, p_value, (table, expected)  = proportions_chisquare(count = observed_counts, nobs = nobs, value=b_positive/chi_squared_data.shape[0])\n",
    "\n",
    "# chi2_stat, p_value, (table, expected)  = proportions_chisquare(count = a_positive, nobs = chi_squared_data.shape[0], value=b_positive/chi_squared_data.shape[0])\n",
    "\n",
    "\n",
    "\n",
    "# Similar categorical variables should present low chi-squared statistics and high p-values.\n",
    "print(f\"Chi-Squared Test Statistic: {chi2_stat}\")\n",
    "print(f\"p-value: {p_value}\")\n",
    "print(f\"table: {table}\")\n",
    "print(f\"expected_freq: {expected}\")\n",
    "\n",
    "# Check for statistical significance\n",
    "if p_value < alpha:\n",
    "    conclusion = \"Reject the null hypothesis. The categories are likely dependent\"\n",
    "    interpretation = \"There is a significant difference in satisfaction levels between the two website versions.\"\n",
    "else:\n",
    "    conclusion = \"Fail to reject the null hypothesis. The categories are likely independent\"\n",
    "    interpretation = \"There is no significant difference in satisfaction levels between the two website versions.\"\n",
    "print(\"\\n\")\n",
    "print(conclusion)\n",
    "print(interpretation)\n"
   ]
  },
  {
   "cell_type": "code",
   "execution_count": null,
   "metadata": {},
   "outputs": [],
   "source": []
  },
  {
   "cell_type": "markdown",
   "metadata": {},
   "source": [
    "### Difference in Proportions and 95% Confidence Interval"
   ]
  },
  {
   "cell_type": "code",
   "execution_count": 78,
   "metadata": {},
   "outputs": [
    {
     "name": "stdout",
     "output_type": "stream",
     "text": [
      "\n",
      "\n",
      "Difference in Proportions: -0.11337579617834395\n",
      "95% Confidence Interval of Difference in Proportions: [-0.15315577671538486, -0.07359581564130305]\n"
     ]
    }
   ],
   "source": [
    "# Confidence interval\n",
    "confidence_interval = 0.95\n",
    "\n",
    "# Calculate proportions\n",
    "n_a = a_positive + a_negative\n",
    "n_b = b_positive + b_negative\n",
    "prop_a = a_positive / n_a\n",
    "prop_b = b_positive / n_b\n",
    "\n",
    "# Calculate standard errors\n",
    "se_a = np.sqrt(prop_a * (1 - prop_a) / n_a)\n",
    "se_b = np.sqrt(prop_b * (1 - prop_b) / n_b)\n",
    "\n",
    "# Calculate standard error of the difference\n",
    "se_diff = np.sqrt(se_a**2 + se_b**2)\n",
    "\n",
    "# Critical value for confidence interval\n",
    "critical_value = chi2.ppf(confidence_interval, df=dof)\n",
    "\n",
    "# Margin of error\n",
    "margin_of_error =   np.sqrt(critical_value / dof) * se_diff\n",
    "\n",
    "# Calculate confidence interval\n",
    "diff_proportion = prop_b - prop_a\n",
    "lower_bound = diff_proportion - margin_of_error\n",
    "upper_bound = diff_proportion + margin_of_error\n",
    "\n",
    "# Print results\n",
    "print(\"\\n\")\n",
    "print(f\"Difference in Proportions: {diff_proportion}\")\n",
    "print(f\"{int(confidence_interval*100)}% Confidence Interval of Difference in Proportions: [{lower_bound}, {upper_bound}]\")"
   ]
  },
  {
   "cell_type": "code",
   "execution_count": null,
   "metadata": {},
   "outputs": [],
   "source": []
  },
  {
   "cell_type": "markdown",
   "metadata": {},
   "source": [
    "### Effect Size"
   ]
  },
  {
   "cell_type": "code",
   "execution_count": 79,
   "metadata": {},
   "outputs": [
    {
     "name": "stdout",
     "output_type": "stream",
     "text": [
      "Phi: 0.1974220075348068\n",
      "There is a moderate association between the variables.\n"
     ]
    }
   ],
   "source": [
    "# Number of observations\n",
    "n = len(chi_squared_data)\n",
    "\n",
    "# Calculate Phi (for 2x2 tables)\n",
    "phi = np.sqrt(chi2_stat / n)\n",
    "\n",
    "print(f\"Phi: {phi}\")\n",
    "\n",
    "if phi == 0:\n",
    "    print(\"There is no association between the variables.\")\n",
    "elif phi <= 0.1:\n",
    "    print(\"There is a small association between the variables.\")\n",
    "elif phi <= 0.3:\n",
    "    print(\"There is a moderate association between the variables.\")\n",
    "else:\n",
    "    print(\"There is a strong association between the variables.\")"
   ]
  },
  {
   "cell_type": "code",
   "execution_count": 81,
   "metadata": {},
   "outputs": [
    {
     "name": "stdout",
     "output_type": "stream",
     "text": [
      "Cohen's h Effect Size: 0.28158475489475054\n",
      "\n",
      "\n",
      "There is a moderate difference between the two groups.\n"
     ]
    }
   ],
   "source": [
    "# Cohen's h effect size\n",
    "h = proportion_effectsize(prop_a, prop_b, method='normal')\n",
    "# h = np.abs((2*np.arcsin(np.sqrt(prop_a))) - (2*np.arcsin(np.sqrt(prop_b))))\n",
    "\n",
    "print(f\"Cohen's h Effect Size: {h}\")\n",
    "print(\"\\n\")\n",
    "\n",
    "if h == 0:\n",
    "    print(\"There is no difference between the two groups.\")\n",
    "elif h <= 0.2:\n",
    "    print(\"There is a small difference between the two groups.\")\n",
    "elif h <= 0.5:\n",
    "    print(\"There is a moderate difference between the two groups.\")\n",
    "elif h <= 0.8:\n",
    "    print(\"There is a large difference between the two groups.\")\n",
    "else:\n",
    "    print(\"There is a very large difference between the two groups.\")"
   ]
  },
  {
   "cell_type": "code",
   "execution_count": null,
   "metadata": {},
   "outputs": [],
   "source": []
  },
  {
   "cell_type": "markdown",
   "metadata": {},
   "source": [
    "### Odds Ratio"
   ]
  },
  {
   "cell_type": "code",
   "execution_count": 82,
   "metadata": {},
   "outputs": [
    {
     "name": "stdout",
     "output_type": "stream",
     "text": [
      "The odds ratio is 2.0175\n",
      "The odds of the outcome are 2.0175 times as high in the exposed group compared to the unexposed group.\n",
      "\n",
      "\n",
      "This suggests a positive association between the exposure and the outcome.\n",
      "It means that the odds of the outcome occurring in the exposed group are higher than the odds of the outcome occurring in the unexposed group. \n"
     ]
    }
   ],
   "source": [
    "\n",
    "# Odds Ratio\n",
    "odd_ratio = (a_positive * b_negative) / (b_positive * a_negative)\n",
    "\n",
    "print(f\"The odds ratio is {round(odd_ratio, 4)}\")\n",
    "print(f\"The odds of the outcome are {round(odd_ratio, 4)} times as high in the exposed group compared to the unexposed group.\")\n",
    "print(\"\\n\")\n",
    "\n",
    "if odd_ratio > 1:\n",
    "    print(\"This suggests a positive association between the exposure and the outcome.\\nIt means that the odds of the outcome occurring in the exposed group are higher than the odds of the outcome occurring in the unexposed group. \")\n",
    "elif odd_ratio < 1:\n",
    "    print(\"This implies a negative association between the exposure and the outcome.\\nIt indicates that the odds of the outcome occurring in the exposed group are lower than the odds of the outcome occurring in the unexposed group.\")\n",
    "else:\n",
    "    print(\"This indicates no association between the exposure and the outcome.\\nIn other words, the odds of the outcome occurring in the exposed group are the same as the odds of the outcome occurring in the unexposed group.\")"
   ]
  },
  {
   "cell_type": "code",
   "execution_count": null,
   "metadata": {},
   "outputs": [],
   "source": []
  },
  {
   "cell_type": "markdown",
   "metadata": {},
   "source": [
    "### Summary Table"
   ]
  },
  {
   "cell_type": "code",
   "execution_count": 83,
   "metadata": {},
   "outputs": [],
   "source": [
    "# Count everything up\n",
    "total_count = chi_squared_data.size\n",
    "group_a_count = chi_squared_data['Version_A'].count()\n",
    "group_b_count = chi_squared_data['Version_B'].count()\n",
    "\n",
    "group_a_positive_count = chi_squared_data['Version_A'].value_counts()['Satisfied']\n",
    "group_a_negative_count = chi_squared_data['Version_A'].value_counts()['Not Satisfied']\n",
    "\n",
    "group_b_positive_count = chi_squared_data['Version_B'].value_counts()['Satisfied']\n",
    "group_b_negative_count = chi_squared_data['Version_B'].value_counts()['Not Satisfied']"
   ]
  },
  {
   "cell_type": "code",
   "execution_count": 84,
   "metadata": {},
   "outputs": [
    {
     "data": {
      "text/html": [
       "<div>\n",
       "<style scoped>\n",
       "    .dataframe tbody tr th:only-of-type {\n",
       "        vertical-align: middle;\n",
       "    }\n",
       "\n",
       "    .dataframe tbody tr th {\n",
       "        vertical-align: top;\n",
       "    }\n",
       "\n",
       "    .dataframe thead th {\n",
       "        text-align: right;\n",
       "    }\n",
       "</style>\n",
       "<table border=\"1\" class=\"dataframe\">\n",
       "  <thead>\n",
       "    <tr style=\"text-align: right;\">\n",
       "      <th></th>\n",
       "      <th>Test Group</th>\n",
       "      <th>Total</th>\n",
       "      <th>Satisfied</th>\n",
       "      <th>Not Satisfied</th>\n",
       "      <th>Satisfied Rate</th>\n",
       "    </tr>\n",
       "  </thead>\n",
       "  <tbody>\n",
       "    <tr>\n",
       "      <th>0</th>\n",
       "      <td>Group A</td>\n",
       "      <td>785</td>\n",
       "      <td>208</td>\n",
       "      <td>577</td>\n",
       "      <td>0.264968</td>\n",
       "    </tr>\n",
       "    <tr>\n",
       "      <th>1</th>\n",
       "      <td>Group B</td>\n",
       "      <td>785</td>\n",
       "      <td>119</td>\n",
       "      <td>666</td>\n",
       "      <td>0.151592</td>\n",
       "    </tr>\n",
       "  </tbody>\n",
       "</table>\n",
       "</div>"
      ],
      "text/plain": [
       "  Test Group  Total  Satisfied  Not Satisfied  Satisfied Rate\n",
       "0    Group A    785        208            577        0.264968\n",
       "1    Group B    785        119            666        0.151592"
      ]
     },
     "execution_count": 84,
     "metadata": {},
     "output_type": "execute_result"
    }
   ],
   "source": [
    "# Create a new DataFrame for plotting\n",
    "plot_data = pd.DataFrame({\n",
    "    'Test Group': [\"Group A\", \"Group B\"],\n",
    "    'Total': [group_a_count, group_b_count],\n",
    "    'Satisfied': [group_a_positive_count, group_b_positive_count],\n",
    "    'Not Satisfied': [group_a_negative_count, group_b_negative_count],\n",
    "    'Satisfied Rate': [group_a_positive_count/group_a_count, group_b_positive_count/group_b_count],\n",
    "}, index=[0, 1])\n",
    "plot_data"
   ]
  },
  {
   "cell_type": "code",
   "execution_count": null,
   "metadata": {},
   "outputs": [],
   "source": []
  },
  {
   "cell_type": "markdown",
   "metadata": {},
   "source": [
    "### Visualization"
   ]
  },
  {
   "cell_type": "code",
   "execution_count": 85,
   "metadata": {},
   "outputs": [
    {
     "data": {
      "image/png": "[encoded data removed]",
      "text/plain": [
       "<Figure size 432x720 with 1 Axes>"
      ]
     },
     "metadata": {
      "needs_background": "light"
     },
     "output_type": "display_data"
    }
   ],
   "source": [
    "# Plot stacked bars\n",
    "plt.figure(figsize=(6, 10))\n",
    "\n",
    "plot_total = sns.barplot(x=plot_data['Test Group'], \n",
    "                        y=plot_data['Total'], color='lightgrey')\n",
    "\n",
    "plot_satisfied = sns.barplot(x=plot_data['Test Group'], \n",
    "                            y=plot_data['Satisfied'], color=color)\n",
    "\n",
    "# Set labels and title\n",
    "plt.title('Percentage of Satisfied per Group', fontsize=15)\n",
    "plt.ylabel('Count')\n",
    "plt.tick_params(left=False,bottom=False,labelleft=True,labelbottom=True)\n",
    "\n",
    "# Put values on top of bars\n",
    "row_list = []\n",
    "for index, row in plot_data[plot_data['Test Group'] == 'Group A'][['Satisfied', 'Satisfied Rate']].iterrows():\n",
    "    plot_total.text(row.name, row['Satisfied']+5, str(round(100 * row['Satisfied Rate'], 2)) + '%', \n",
    "                    color=color, ha=\"center\", fontsize=15)\n",
    "for index, row in plot_data[plot_data['Test Group'] == 'Group B'][['Satisfied', 'Satisfied Rate']].iterrows():\n",
    "    plot_satisfied.text(row.name, row['Satisfied']+5, str(round(100 * row['Satisfied Rate'], 2)) + '%', \n",
    "                        color=color, ha=\"center\", fontsize=15)\n",
    "# Show the plot\n",
    "plt.show()"
   ]
  },
  {
   "cell_type": "code",
   "execution_count": null,
   "metadata": {},
   "outputs": [],
   "source": []
  },
  {
   "cell_type": "code",
   "execution_count": null,
   "metadata": {},
   "outputs": [],
   "source": []
  }
 ],
 "metadata": {
  "kernelspec": {
   "display_name": "base",
   "language": "python",
   "name": "python3"
  },
  "language_info": {
   "codemirror_mode": {
    "name": "ipython",
    "version": 3
   },
   "file_extension": ".py",
   "mimetype": "text/x-python",
   "name": "python",
   "nbconvert_exporter": "python",
   "pygments_lexer": "ipython3",
   "version": "3.9.7"
  }
 },
 "nbformat": 4,
 "nbformat_minor": 2
}
