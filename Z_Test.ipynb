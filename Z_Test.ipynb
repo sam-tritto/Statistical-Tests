{
 "cells": [
  {
   "cell_type": "markdown",
   "metadata": {},
   "source": [
    "# Z-Test for Proportions\n",
    "> Use Case\n",
    "- Used when comparing proportions of two independent groups and the sample size is sufficiently large (usually n > 30).\n",
    "- Groups can have different sample sizes.\n",
    "> Assumptions\n",
    "- Assumes that the population follows a binomial distribution or that the sample size is large enough for the Central Limit Theorem to apply so the population resemebles the normal distribution.\n",
    "- Random sampling of data points.\n",
    "> Example Scenario\n",
    "- Investigating whether the proportion of users who make a purchase is different between two groups (Group A and Group B) with large sample sizes.\n",
    "> Null Hypothesis (H0):\n",
    "- The proportion of users making a purchase is the same in Group A as in Group B.\n",
    "> Alternative Hypothesis (H1):\n",
    "- The proportion of users making a purchase is different between Group A and Group B."
   ]
  },
  {
   "cell_type": "code",
   "execution_count": 33,
   "metadata": {},
   "outputs": [],
   "source": [
    "import pandas as pd\n",
    "import numpy as np\n",
    "import matplotlib.pyplot as plt\n",
    "import seaborn as sns\n",
    "\n",
    "# !pip install scipy==1.12.0\n",
    "from scipy.stats import norm\n",
    "\n",
    "# !pip install statsmodels==0.12.2\n",
    "from statsmodels.stats.power import NormalIndPower\n",
    "from statsmodels.stats.proportion import proportions_ztest"
   ]
  },
  {
   "cell_type": "code",
   "execution_count": 4,
   "metadata": {},
   "outputs": [],
   "source": [
    "# Set random seed for reproducibility\n",
    "np.random.seed(42)"
   ]
  },
  {
   "cell_type": "code",
   "execution_count": 48,
   "metadata": {},
   "outputs": [],
   "source": [
    "# set seaborn style\n",
    "sns.set(style=\"white\", palette=\"mako\")\n",
    "\n",
    "# colors\n",
    "color = 'cornflowerblue'\n",
    "\n",
    "# remove some borders    \n",
    "plt.rcParams['axes.axisbelow'] = True\n",
    "plt.rcParams['axes.spines.left'] = False\n",
    "plt.rcParams['axes.spines.bottom'] = True\n",
    "plt.rcParams['axes.spines.top'] = False\n",
    "plt.rcParams['axes.spines.right'] = False"
   ]
  },
  {
   "cell_type": "markdown",
   "metadata": {},
   "source": [
    "### Power Analysis"
   ]
  },
  {
   "cell_type": "code",
   "execution_count": 55,
   "metadata": {},
   "outputs": [
    {
     "data": {
      "image/png": "[encoded data removed]",
      "text/plain": [
       "<Figure size 864x288 with 1 Axes>"
      ]
     },
     "metadata": {},
     "output_type": "display_data"
    }
   ],
   "source": [
    "# Create a NormalIndPower instance\n",
    "power_analysis = NormalIndPower()\n",
    "\n",
    "# Define effect sizes\n",
    "effect_sizes = np.linspace(0.05, 1, 20) \n",
    "\n",
    "# Estimated Ratio of sample sizes (smaller/larger), 1.0 for equal samples per group\n",
    "ratio = 1.2\n",
    "# Significance level\n",
    "alpha = 0.05  \n",
    "# Desired statistical power\n",
    "power = 0.8  \n",
    "\n",
    "# Calculate number of samples for each effect size\n",
    "samples = [power_analysis.solve_power(effect_size=effect_size, alpha=alpha, power=power, ratio=ratio, alternative='two-sided') for effect_size in effect_sizes]\n",
    "\n",
    "# Calculate the required sample size for the smaller group\n",
    "samples_small = [s / ratio for s in samples]\n",
    "\n",
    "\n",
    "# Figure size\n",
    "plt.figure(figsize=(12, 4))\n",
    "\n",
    "# Plot samples versus effect sizes\n",
    "plt.plot(effect_sizes, samples_small, color='salmon', marker='o')\n",
    "# Shade area below the line with lower opacity\n",
    "plt.fill_between(effect_sizes, samples_small, color='salmon', alpha=0.3)\n",
    "\n",
    "# Plot samples versus effect sizes\n",
    "plt.plot(effect_sizes, samples, color=color, marker='o')\n",
    "# Shade area below the line with lower opacity\n",
    "plt.fill_between(effect_sizes, samples, color=color, alpha=0.3)\n",
    "\n",
    "\n",
    "# Add plot labels and title\n",
    "plt.xlabel('Effect Size')\n",
    "plt.ylabel('Number of Samples')\n",
    "plt.title('Samples versus Effect Size for Z-Test')\n",
    "plt.show()"
   ]
  },
  {
   "cell_type": "code",
   "execution_count": 56,
   "metadata": {},
   "outputs": [
    {
     "name": "stdout",
     "output_type": "stream",
     "text": [
      "Required sample size for the larger group: 5755\n",
      "Required sample size for the smaller group: 4795\n"
     ]
    }
   ],
   "source": [
    "# Create a NormalIndPower instance\n",
    "power_analysis = NormalIndPower()\n",
    "\n",
    "# Desired effect size\n",
    "effect_size = 0.05\n",
    "\n",
    "# Estimated Ratio of sample sizes (smaller/larger), 1.0 for equal samples per group\n",
    "ratio = 1.2\n",
    "# Significance level\n",
    "alpha = 0.05  \n",
    "# Desired statistical power\n",
    "power = 0.8  \n",
    "\n",
    "# Calculate the required sample size for the larger group\n",
    "sample_size_large = int(power_analysis.solve_power(effect_size=effect_size, alpha=alpha, power=power, ratio=ratio, alternative='two-sided'))\n",
    "\n",
    "# Calculate the required sample size for the smaller group\n",
    "sample_size_small = int(sample_size_large / ratio)\n",
    "\n",
    "# Print the results\n",
    "print(f\"Required sample size for the larger group: {sample_size_large}\")\n",
    "print(f\"Required sample size for the smaller group: {sample_size_small}\")"
   ]
  },
  {
   "cell_type": "code",
   "execution_count": null,
   "metadata": {},
   "outputs": [],
   "source": []
  },
  {
   "cell_type": "markdown",
   "metadata": {},
   "source": [
    "### Synthetic Data"
   ]
  },
  {
   "cell_type": "code",
   "execution_count": 57,
   "metadata": {},
   "outputs": [
    {
     "data": {
      "text/html": [
       "<div>\n",
       "<style scoped>\n",
       "    .dataframe tbody tr th:only-of-type {\n",
       "        vertical-align: middle;\n",
       "    }\n",
       "\n",
       "    .dataframe tbody tr th {\n",
       "        vertical-align: top;\n",
       "    }\n",
       "\n",
       "    .dataframe thead th {\n",
       "        text-align: right;\n",
       "    }\n",
       "</style>\n",
       "<table border=\"1\" class=\"dataframe\">\n",
       "  <thead>\n",
       "    <tr style=\"text-align: right;\">\n",
       "      <th></th>\n",
       "      <th>Group_A_Purchases</th>\n",
       "      <th>Group_B_Purchases</th>\n",
       "    </tr>\n",
       "  </thead>\n",
       "  <tbody>\n",
       "    <tr>\n",
       "      <th>0</th>\n",
       "      <td>0</td>\n",
       "      <td>0</td>\n",
       "    </tr>\n",
       "    <tr>\n",
       "      <th>1</th>\n",
       "      <td>0</td>\n",
       "      <td>1</td>\n",
       "    </tr>\n",
       "    <tr>\n",
       "      <th>2</th>\n",
       "      <td>0</td>\n",
       "      <td>0</td>\n",
       "    </tr>\n",
       "    <tr>\n",
       "      <th>3</th>\n",
       "      <td>0</td>\n",
       "      <td>1</td>\n",
       "    </tr>\n",
       "    <tr>\n",
       "      <th>4</th>\n",
       "      <td>0</td>\n",
       "      <td>0</td>\n",
       "    </tr>\n",
       "    <tr>\n",
       "      <th>...</th>\n",
       "      <td>...</td>\n",
       "      <td>...</td>\n",
       "    </tr>\n",
       "    <tr>\n",
       "      <th>5750</th>\n",
       "      <td>1</td>\n",
       "      <td>&lt;NA&gt;</td>\n",
       "    </tr>\n",
       "    <tr>\n",
       "      <th>5751</th>\n",
       "      <td>0</td>\n",
       "      <td>&lt;NA&gt;</td>\n",
       "    </tr>\n",
       "    <tr>\n",
       "      <th>5752</th>\n",
       "      <td>1</td>\n",
       "      <td>&lt;NA&gt;</td>\n",
       "    </tr>\n",
       "    <tr>\n",
       "      <th>5753</th>\n",
       "      <td>0</td>\n",
       "      <td>&lt;NA&gt;</td>\n",
       "    </tr>\n",
       "    <tr>\n",
       "      <th>5754</th>\n",
       "      <td>0</td>\n",
       "      <td>&lt;NA&gt;</td>\n",
       "    </tr>\n",
       "  </tbody>\n",
       "</table>\n",
       "<p>5755 rows × 2 columns</p>\n",
       "</div>"
      ],
      "text/plain": [
       "      Group_A_Purchases  Group_B_Purchases\n",
       "0                     0                  0\n",
       "1                     0                  1\n",
       "2                     0                  0\n",
       "3                     0                  1\n",
       "4                     0                  0\n",
       "...                 ...                ...\n",
       "5750                  1               <NA>\n",
       "5751                  0               <NA>\n",
       "5752                  1               <NA>\n",
       "5753                  0               <NA>\n",
       "5754                  0               <NA>\n",
       "\n",
       "[5755 rows x 2 columns]"
      ]
     },
     "execution_count": 57,
     "metadata": {},
     "output_type": "execute_result"
    }
   ],
   "source": [
    "# Number of samples for each group\n",
    "n_samples_group_A = sample_size_large\n",
    "n_samples_group_B = sample_size_small\n",
    "\n",
    "# Generate synthetic data for two groups\n",
    "group_A_purchases = np.random.binomial(n=1, p=0.2, size=n_samples_group_A)\n",
    "group_B_purchases = np.random.binomial(n=1, p=0.25, size=n_samples_group_B)\n",
    "\n",
    "# Ensure the lists are of the same size\n",
    "max_len = max(len(group_A_purchases), len(group_B_purchases))\n",
    "group_A_purchases = np.append(group_A_purchases, [np.nan] * (max_len - len(group_A_purchases)))\n",
    "group_B_purchases = np.append(group_B_purchases, [np.nan] * (max_len - len(group_B_purchases)))\n",
    "\n",
    "# Create pandas data frame\n",
    "z_test_data = pd.DataFrame({'Group_A_Purchases': group_A_purchases, 'Group_B_Purchases': group_B_purchases})\n",
    "z_test_data = z_test_data.astype(\"Int64\")\n",
    "z_test_data\n"
   ]
  },
  {
   "cell_type": "code",
   "execution_count": null,
   "metadata": {},
   "outputs": [],
   "source": []
  },
  {
   "cell_type": "markdown",
   "metadata": {},
   "source": [
    "### Check Assumptions"
   ]
  },
  {
   "cell_type": "code",
   "execution_count": 58,
   "metadata": {},
   "outputs": [
    {
     "name": "stdout",
     "output_type": "stream",
     "text": [
      "Z-Test for Proportions Assumption: Successes and failures are sufficiently large - Met\n",
      "Binomial Test Assumption: Data is numeric and binary - Met\n"
     ]
    }
   ],
   "source": [
    "# Assumption check for z-test for proportions\n",
    "successes_group_A = z_test_data['Group_A_Purchases'].sum()\n",
    "failures_group_A = n_samples_group_A - successes_group_A\n",
    "successes_group_B = z_test_data['Group_B_Purchases'].sum()\n",
    "failures_group_B = n_samples_group_B - successes_group_B\n",
    "\n",
    "min_sample_size = 30\n",
    "\n",
    "# Check if successes and failures are sufficiently large\n",
    "z_test_assumption_met = all(n > min_sample_size for n in [successes_group_A, failures_group_A, successes_group_B, failures_group_B])\n",
    "\n",
    "# Check if the data is binary\n",
    "binary_A_check = (z_test_data['Group_A_Purchases'].isin([0, 1, np.nan, pd.NA]).all())\n",
    "binary_B_check = (z_test_data['Group_B_Purchases'].isin([0, 1, np.nan, pd.NA]).all())\n",
    "\n",
    "print(f\"Z-Test for Proportions Assumption: Successes and failures are sufficiently large - {'Met' if z_test_assumption_met else 'Not Met'}\")\n",
    "print(f\"Binomial Test Assumption: Data is numeric and binary - {'Met' if binary_A_check and binary_B_check else 'Not Met'}\")\n"
   ]
  },
  {
   "cell_type": "code",
   "execution_count": null,
   "metadata": {},
   "outputs": [],
   "source": []
  },
  {
   "cell_type": "markdown",
   "metadata": {},
   "source": [
    "### Z-Test (statsmodels)"
   ]
  },
  {
   "cell_type": "code",
   "execution_count": 59,
   "metadata": {},
   "outputs": [],
   "source": [
    "# Pre-determined alpha\n",
    "alpha = 0.05  "
   ]
  },
  {
   "cell_type": "code",
   "execution_count": 60,
   "metadata": {},
   "outputs": [
    {
     "name": "stdout",
     "output_type": "stream",
     "text": [
      "Z-Test Statistic: -6.686994834209785\n",
      "\n",
      "P-value for Z-Test: 2.277999167118921e-11\n",
      "\n",
      "\n",
      "Reject the null hypothesis.\n",
      "There is a significant difference in the proportions between Group A and Group B.\n"
     ]
    }
   ],
   "source": [
    "# Z-test for proportions\n",
    "count = np.array([successes_group_A, successes_group_B])\n",
    "nobs = np.array([n_samples_group_A, n_samples_group_B])\n",
    "\n",
    "z_stat, p_value_z = proportions_ztest(count, nobs)\n",
    "\n",
    "print(f\"Z-Test Statistic: {z_stat}\")\n",
    "print(f\"\\nP-value for Z-Test: {p_value_z}\")\n",
    "\n",
    "# Check for statistical significance\n",
    "if p_value_z < alpha:\n",
    "    conclusion = \"Reject the null hypothesis.\"\n",
    "    interpretation = \"There is a significant difference in the proportions between Group A and Group B.\"\n",
    "else:\n",
    "    conclusion = \"Fail to reject the null hypothesis.\"\n",
    "    interpretation = \"There is no significant difference in proportions between Group A and Group B.\"\n",
    "print(\"\\n\")\n",
    "print(conclusion)\n",
    "print(interpretation)\n"
   ]
  },
  {
   "cell_type": "code",
   "execution_count": null,
   "metadata": {},
   "outputs": [],
   "source": []
  },
  {
   "cell_type": "markdown",
   "metadata": {},
   "source": [
    "### 95% Confidence Interval"
   ]
  },
  {
   "cell_type": "code",
   "execution_count": 61,
   "metadata": {},
   "outputs": [
    {
     "name": "stdout",
     "output_type": "stream",
     "text": [
      "Difference in Proportions: -0.054187635723209365\n",
      "95% Confidence Interval for Difference in Proportions: [-0.07016256280909153, -0.0382127086373272]\n"
     ]
    }
   ],
   "source": [
    "# For 95% confidence interval\n",
    "confidence_level = 0.95\n",
    "\n",
    "# Calculate the difference in proportions\n",
    "prop1 = successes_group_A / n_samples_group_A\n",
    "prop2 = successes_group_B / n_samples_group_B\n",
    "\n",
    "diff_prop = prop1 - prop2\n",
    "\n",
    "# Calculate the standard error for the difference in proportions\n",
    "se_diff = np.sqrt(prop1 * (1 - prop1) / n_samples_group_A + prop2 * (1 - prop2) / n_samples_group_B)\n",
    "\n",
    "# Calculate the margin of error\n",
    "margin_of_error = norm.ppf(1 - (1 - confidence_level) / 2) * se_diff  \n",
    "\n",
    "# Calculate the confidence interval for the difference in proportions\n",
    "lower_bound = diff_prop - margin_of_error\n",
    "upper_bound = diff_prop + margin_of_error\n",
    "\n",
    "\n",
    "# Print results\n",
    "print(f\"Difference in Proportions: {diff_prop}\")\n",
    "print(f\"{round(confidence_level*100)}% Confidence Interval for Difference in Proportions: [{lower_bound}, {upper_bound}]\")"
   ]
  },
  {
   "cell_type": "code",
   "execution_count": null,
   "metadata": {},
   "outputs": [],
   "source": []
  },
  {
   "cell_type": "markdown",
   "metadata": {},
   "source": [
    "### Effect Size"
   ]
  },
  {
   "cell_type": "code",
   "execution_count": 62,
   "metadata": {},
   "outputs": [
    {
     "name": "stdout",
     "output_type": "stream",
     "text": [
      "Cohen's h Effect Size: 0.13044600671833706\n",
      "\n",
      "\n",
      "There is a small difference between the two groups.\n"
     ]
    }
   ],
   "source": [
    "# Cohen's h effect size\n",
    "h = np.abs((2*np.arcsin(np.sqrt(prop1))) - (2*np.arcsin(np.sqrt(prop2))))\n",
    "\n",
    "print(f\"Cohen's h Effect Size: {h}\")\n",
    "print(\"\\n\")\n",
    "\n",
    "if h == 0:\n",
    "    print(\"There is no difference between the two groups.\")\n",
    "elif h <= 0.2:\n",
    "    print(\"There is a small difference between the two groups.\")\n",
    "elif h <= 0.5:\n",
    "    print(\"There is a moderate difference between the two groups.\")\n",
    "elif h <= 0.8:\n",
    "    print(\"There is a large difference between the two groups.\")\n",
    "else:\n",
    "    print(\"There is a very large difference between the two groups.\")"
   ]
  },
  {
   "cell_type": "code",
   "execution_count": null,
   "metadata": {},
   "outputs": [],
   "source": []
  },
  {
   "cell_type": "markdown",
   "metadata": {},
   "source": [
    "### Summary Table"
   ]
  },
  {
   "cell_type": "code",
   "execution_count": 63,
   "metadata": {},
   "outputs": [],
   "source": [
    "# Count everything up\n",
    "total_count = z_test_data.size\n",
    "group_a_count = z_test_data['Group_A_Purchases'].count()\n",
    "group_b_count = z_test_data['Group_B_Purchases'].count()\n",
    "group_a_positive_count = z_test_data['Group_A_Purchases'].value_counts()[1]\n",
    "group_a_negative_count = z_test_data['Group_A_Purchases'].value_counts()[0]\n",
    "group_b_positive_count = z_test_data['Group_B_Purchases'].value_counts()[1]\n",
    "group_b_negative_count = z_test_data['Group_B_Purchases'].value_counts()[0]"
   ]
  },
  {
   "cell_type": "code",
   "execution_count": 64,
   "metadata": {},
   "outputs": [
    {
     "data": {
      "text/html": [
       "<div>\n",
       "<style scoped>\n",
       "    .dataframe tbody tr th:only-of-type {\n",
       "        vertical-align: middle;\n",
       "    }\n",
       "\n",
       "    .dataframe tbody tr th {\n",
       "        vertical-align: top;\n",
       "    }\n",
       "\n",
       "    .dataframe thead th {\n",
       "        text-align: right;\n",
       "    }\n",
       "</style>\n",
       "<table border=\"1\" class=\"dataframe\">\n",
       "  <thead>\n",
       "    <tr style=\"text-align: right;\">\n",
       "      <th></th>\n",
       "      <th>Test Group</th>\n",
       "      <th>Total</th>\n",
       "      <th>Purchase</th>\n",
       "      <th>No Purchase</th>\n",
       "      <th>Purchase Rate</th>\n",
       "    </tr>\n",
       "  </thead>\n",
       "  <tbody>\n",
       "    <tr>\n",
       "      <th>0</th>\n",
       "      <td>Group A</td>\n",
       "      <td>5755</td>\n",
       "      <td>1126</td>\n",
       "      <td>4629</td>\n",
       "      <td>0.195656</td>\n",
       "    </tr>\n",
       "    <tr>\n",
       "      <th>1</th>\n",
       "      <td>Group B</td>\n",
       "      <td>4795</td>\n",
       "      <td>1198</td>\n",
       "      <td>3597</td>\n",
       "      <td>0.249844</td>\n",
       "    </tr>\n",
       "  </tbody>\n",
       "</table>\n",
       "</div>"
      ],
      "text/plain": [
       "  Test Group  Total  Purchase  No Purchase  Purchase Rate\n",
       "0    Group A   5755      1126         4629       0.195656\n",
       "1    Group B   4795      1198         3597       0.249844"
      ]
     },
     "execution_count": 64,
     "metadata": {},
     "output_type": "execute_result"
    }
   ],
   "source": [
    "# Create a new DataFrame for plotting\n",
    "plot_data = pd.DataFrame({\n",
    "    'Test Group': [\"Group A\", \"Group B\"],\n",
    "    'Total': [group_a_count, group_b_count],\n",
    "    'Purchase': [group_a_positive_count, group_b_positive_count],\n",
    "    'No Purchase': [group_a_negative_count, group_b_negative_count],\n",
    "    'Purchase Rate': [group_a_positive_count/group_a_count, group_b_positive_count/group_b_count],\n",
    "}, index=[0, 1])\n",
    "plot_data"
   ]
  },
  {
   "cell_type": "code",
   "execution_count": null,
   "metadata": {},
   "outputs": [],
   "source": []
  },
  {
   "cell_type": "markdown",
   "metadata": {},
   "source": [
    "### Visualization"
   ]
  },
  {
   "cell_type": "code",
   "execution_count": 68,
   "metadata": {},
   "outputs": [
    {
     "data": {
      "image/png": "[encoded data removed]",
      "text/plain": [
       "<Figure size 432x720 with 1 Axes>"
      ]
     },
     "metadata": {},
     "output_type": "display_data"
    }
   ],
   "source": [
    "# Plot stacked bars\n",
    "plt.figure(figsize=(6, 10))\n",
    "\n",
    "plot_total = sns.barplot(x=plot_data['Test Group'], \n",
    "                        y=plot_data['Total'], color='lightgrey')\n",
    "\n",
    "plot_satisfied = sns.barplot(x=plot_data['Test Group'], \n",
    "                            y=plot_data['Purchase'], color=color)\n",
    "\n",
    "# Set labels and title\n",
    "plt.title('Purchase Rate per Group', fontsize=15)\n",
    "plt.ylabel('Count')\n",
    "plt.tick_params(left=False,bottom=False,labelleft=True,labelbottom=True)\n",
    "\n",
    "# Put values on top of bars\n",
    "row_list = []\n",
    "for index, row in plot_data[plot_data['Test Group'] == 'Group A'][['Purchase', 'Purchase Rate']].iterrows():\n",
    "    plot_total.text(row.name, row['Purchase']+50, str(round(100 * row['Purchase Rate'], 2)) + '%', color=color, ha=\"center\", fontsize=15)\n",
    "for index, row in plot_data[plot_data['Test Group'] == 'Group B'][['Purchase', 'Purchase Rate']].iterrows():\n",
    "    plot_satisfied.text(row.name, row['Purchase']+50, str(round(100 * row['Purchase Rate'], 2)) + '%', color=color, ha=\"center\", fontsize=15)\n",
    "\n",
    "\n",
    "# Show the plot\n",
    "plt.show()"
   ]
  },
  {
   "cell_type": "code",
   "execution_count": null,
   "metadata": {},
   "outputs": [],
   "source": []
  }
 ],
 "metadata": {
  "kernelspec": {
   "display_name": "base",
   "language": "python",
   "name": "python3"
  },
  "language_info": {
   "codemirror_mode": {
    "name": "ipython",
    "version": 3
   },
   "file_extension": ".py",
   "mimetype": "text/x-python",
   "name": "python",
   "nbconvert_exporter": "python",
   "pygments_lexer": "ipython3",
   "version": "3.9.7"
  }
 },
 "nbformat": 4,
 "nbformat_minor": 2
}
