{
 "cells": [
  {
   "cell_type": "markdown",
   "metadata": {},
   "source": [
    "# Student's Paired t-Test for Comparing Means"
   ]
  },
  {
   "cell_type": "markdown",
   "metadata": {},
   "source": [
    "> Use Case: \n",
    "- Compare means of paired samples (e.g., before and after treatment) to determine if there is a significant difference.\n",
    "> Assumptions:\n",
    "- Data is approximately normally distributed.\n",
    "- Differences between paired observations are independent and identically distributed.\n",
    "> Example Scenario:\n",
    "- Examining whether there is a significant improvement in test scores after a tutoring program.\n",
    "> Null Hypothesis (H0):\n",
    "- There is no significant difference in the means of the paired samples.\n",
    "> Alternative Hypothesis (H1):\n",
    "- There is a significant difference in the means of the paired samples."
   ]
  },
  {
   "cell_type": "code",
   "execution_count": 86,
   "metadata": {},
   "outputs": [],
   "source": [
    "import pandas as pd\n",
    "import numpy as np\n",
    "import matplotlib.pyplot as plt\n",
    "import seaborn as sns\n",
    "\n",
    "# !pip install scipy==1.12.0\n",
    "from scipy.stats import shapiro, ttest_rel, t\n",
    "\n",
    "# !pip install statsmodels==0.12.2\n",
    "from statsmodels.stats.power import TTestPower\n",
    "\n",
    "# !pip install pingouin==0.5.4\n",
    "import pingouin as pg"
   ]
  },
  {
   "cell_type": "code",
   "execution_count": 87,
   "metadata": {},
   "outputs": [],
   "source": [
    "# Set random seed for reproducibility\n",
    "np.random.seed(42)"
   ]
  },
  {
   "cell_type": "code",
   "execution_count": 88,
   "metadata": {},
   "outputs": [],
   "source": [
    "# set seaborn style\n",
    "sns.set(style=\"white\", palette=\"mako\")\n",
    "\n",
    "# colors\n",
    "color = 'seagreen'\n",
    "\n",
    "# remove some borders    \n",
    "plt.rcParams['axes.axisbelow'] = True\n",
    "plt.rcParams['axes.spines.left'] = False\n",
    "plt.rcParams['axes.spines.bottom'] = True\n",
    "plt.rcParams['axes.spines.top'] = False\n",
    "plt.rcParams['axes.spines.right'] = False"
   ]
  },
  {
   "cell_type": "code",
   "execution_count": null,
   "metadata": {},
   "outputs": [],
   "source": []
  },
  {
   "cell_type": "markdown",
   "metadata": {},
   "source": [
    "### Power Analysis"
   ]
  },
  {
   "cell_type": "code",
   "execution_count": 89,
   "metadata": {},
   "outputs": [
    {
     "name": "stderr",
     "output_type": "stream",
     "text": [
      "/Users/sam/opt/anaconda3/envs/ab_env/lib/python3.9/site-packages/scipy/stats/_continuous_distns.py:7702: RuntimeWarning: divide by zero encountered in _nct_sf\n",
      "  return np.clip(_boost._nct_sf(x, df, nc), 0, 1)\n",
      "/Users/sam/opt/anaconda3/envs/ab_env/lib/python3.9/site-packages/scipy/stats/_continuous_distns.py:7694: RuntimeWarning: divide by zero encountered in _nct_cdf\n",
      "  return np.clip(_boost._nct_cdf(x, df, nc), 0, 1)\n"
     ]
    },
    {
     "data": {
      "image/png": "[encoded data removed]",
      "text/plain": [
       "<Figure size 864x288 with 1 Axes>"
      ]
     },
     "metadata": {},
     "output_type": "display_data"
    }
   ],
   "source": [
    "# Set the parameters for the power analysis\n",
    "alpha = 0.05  # Significance level\n",
    "desired_power = 0.8  # Desired statistical power\n",
    "\n",
    "# Create an instance of the TTestPower class\n",
    "power_analysis = TTestPower()\n",
    "\n",
    "# Define the range of effect sizes to test\n",
    "effect_sizes = np.linspace(0.05, 0.5, 10)  # Effect sizes from 0.1 to 1.0 in 10 increments\n",
    "\n",
    "# Calculate the required sample size for each effect size\n",
    "sample_sizes = []\n",
    "for effect_size in effect_sizes:\n",
    "    sample_size = power_analysis.solve_power(\n",
    "        effect_size=effect_size, alpha=alpha, power=desired_power, alternative='two-sided'\n",
    "    )\n",
    "    sample_sizes.append(round(sample_size))  # Rounding to get an integer value\n",
    "\n",
    "# Plot the effect sizes against the required sample sizes\n",
    "plt.figure(figsize=(12, 4))\n",
    "plt.plot(effect_sizes, sample_sizes, marker='o', linestyle='-', color=color, label='Sample Size')\n",
    "plt.fill_between(effect_sizes, sample_sizes, color=color, alpha=0.3)\n",
    "plt.title('Required Sample Size vs. Effect Size for 80% Power (Two-Sided Test)')\n",
    "plt.xlabel('Effect Size (Cohen\\'s d)')\n",
    "plt.ylabel('Required Sample Size')\n",
    "plt.grid(True)\n",
    "plt.show()"
   ]
  },
  {
   "cell_type": "code",
   "execution_count": 90,
   "metadata": {},
   "outputs": [
    {
     "name": "stdout",
     "output_type": "stream",
     "text": [
      "Required sample size per group: 787\n"
     ]
    }
   ],
   "source": [
    "# Set the parameters for the power analysis\n",
    "effect_size = 0.1  # Cohen's d, the standardized effect size\n",
    "alpha = 0.05  # Significance level\n",
    "power = 0.8  # Desired statistical power\n",
    "\n",
    "# Create an instance of the TTestPower class\n",
    "power_analysis = TTestPower()\n",
    "\n",
    "# Calculate the required sample size per group\n",
    "sample_size = int(np.ceil(power_analysis.solve_power(effect_size=effect_size, alpha=alpha, power=power, alternative='two-sided')))\n",
    "\n",
    "# Print the result\n",
    "print(f\"Required sample size per group: {round(sample_size)}\")"
   ]
  },
  {
   "cell_type": "code",
   "execution_count": null,
   "metadata": {},
   "outputs": [],
   "source": []
  },
  {
   "cell_type": "markdown",
   "metadata": {},
   "source": [
    "### Synthetic Data"
   ]
  },
  {
   "cell_type": "code",
   "execution_count": 91,
   "metadata": {},
   "outputs": [
    {
     "data": {
      "text/html": [
       "<div>\n",
       "<style scoped>\n",
       "    .dataframe tbody tr th:only-of-type {\n",
       "        vertical-align: middle;\n",
       "    }\n",
       "\n",
       "    .dataframe tbody tr th {\n",
       "        vertical-align: top;\n",
       "    }\n",
       "\n",
       "    .dataframe thead th {\n",
       "        text-align: right;\n",
       "    }\n",
       "</style>\n",
       "<table border=\"1\" class=\"dataframe\">\n",
       "  <thead>\n",
       "    <tr style=\"text-align: right;\">\n",
       "      <th></th>\n",
       "      <th>Before Treatment</th>\n",
       "      <th>After Treatment</th>\n",
       "    </tr>\n",
       "  </thead>\n",
       "  <tbody>\n",
       "    <tr>\n",
       "      <th>0</th>\n",
       "      <td>54.967142</td>\n",
       "      <td>61.344682</td>\n",
       "    </tr>\n",
       "    <tr>\n",
       "      <th>1</th>\n",
       "      <td>48.617357</td>\n",
       "      <td>53.406860</td>\n",
       "    </tr>\n",
       "    <tr>\n",
       "      <th>2</th>\n",
       "      <td>56.476885</td>\n",
       "      <td>56.494003</td>\n",
       "    </tr>\n",
       "    <tr>\n",
       "      <th>3</th>\n",
       "      <td>65.230299</td>\n",
       "      <td>71.519153</td>\n",
       "    </tr>\n",
       "    <tr>\n",
       "      <th>4</th>\n",
       "      <td>47.658466</td>\n",
       "      <td>53.281529</td>\n",
       "    </tr>\n",
       "    <tr>\n",
       "      <th>...</th>\n",
       "      <td>...</td>\n",
       "      <td>...</td>\n",
       "    </tr>\n",
       "    <tr>\n",
       "      <th>782</th>\n",
       "      <td>53.801979</td>\n",
       "      <td>57.214820</td>\n",
       "    </tr>\n",
       "    <tr>\n",
       "      <th>783</th>\n",
       "      <td>56.105857</td>\n",
       "      <td>63.488651</td>\n",
       "    </tr>\n",
       "    <tr>\n",
       "      <th>784</th>\n",
       "      <td>55.597904</td>\n",
       "      <td>56.835036</td>\n",
       "    </tr>\n",
       "    <tr>\n",
       "      <th>785</th>\n",
       "      <td>60.807807</td>\n",
       "      <td>66.688481</td>\n",
       "    </tr>\n",
       "    <tr>\n",
       "      <th>786</th>\n",
       "      <td>58.339222</td>\n",
       "      <td>59.269476</td>\n",
       "    </tr>\n",
       "  </tbody>\n",
       "</table>\n",
       "<p>787 rows × 2 columns</p>\n",
       "</div>"
      ],
      "text/plain": [
       "     Before Treatment  After Treatment\n",
       "0           54.967142        61.344682\n",
       "1           48.617357        53.406860\n",
       "2           56.476885        56.494003\n",
       "3           65.230299        71.519153\n",
       "4           47.658466        53.281529\n",
       "..                ...              ...\n",
       "782         53.801979        57.214820\n",
       "783         56.105857        63.488651\n",
       "784         55.597904        56.835036\n",
       "785         60.807807        66.688481\n",
       "786         58.339222        59.269476\n",
       "\n",
       "[787 rows x 2 columns]"
      ]
     },
     "execution_count": 91,
     "metadata": {},
     "output_type": "execute_result"
    }
   ],
   "source": [
    "# Generate synthetic data for paired t-test\n",
    "before_treatment = np.random.normal(loc=50, scale=10, size=sample_size)\n",
    "after_treatment = before_treatment + np.random.normal(loc=5, scale=3, size=sample_size)\n",
    "\n",
    "# Create pandas DataFrame\n",
    "paired_t_test_data = pd.DataFrame({'Before Treatment': before_treatment, 'After Treatment': after_treatment})\n",
    "paired_t_test_data"
   ]
  },
  {
   "cell_type": "code",
   "execution_count": null,
   "metadata": {},
   "outputs": [],
   "source": []
  },
  {
   "cell_type": "markdown",
   "metadata": {},
   "source": [
    "### Assumptions"
   ]
  },
  {
   "cell_type": "code",
   "execution_count": 92,
   "metadata": {},
   "outputs": [
    {
     "name": "stdout",
     "output_type": "stream",
     "text": [
      "Shapiro-Wilk Test (Normality of Differences): Statistic=0.997674286713667, p-value=0.3427608779964512\n",
      "\n",
      "Fail to reject the null hypothesis: \n",
      "Differences are approximately Normally distributed.\n"
     ]
    }
   ],
   "source": [
    "# Assumption validation for paired t-test\n",
    "def validate_paired_t_test_assumptions(data, alpha=0.05):\n",
    "    # Calculate differences\n",
    "    differences = data['After Treatment'] - data['Before Treatment']\n",
    "\n",
    "    # Shapiro-Wilk test for normality of differences\n",
    "    stat, p_value = shapiro(differences)\n",
    "    print(f'Shapiro-Wilk Test (Normality of Differences): Statistic={stat}, p-value={p_value}')\n",
    "\n",
    "    # Interpretation based on p-value\n",
    "    if p_value < alpha:\n",
    "        print(f'\\nReject the null hypothesis: \\nDifferences are not Normally distributed.')\n",
    "    else:\n",
    "        print(f'\\nFail to reject the null hypothesis: \\nDifferences are approximately Normally distributed.')\n",
    "\n",
    "# Example usage for paired t-test data\n",
    "validate_paired_t_test_assumptions(paired_t_test_data)"
   ]
  },
  {
   "cell_type": "code",
   "execution_count": null,
   "metadata": {},
   "outputs": [],
   "source": []
  },
  {
   "cell_type": "markdown",
   "metadata": {},
   "source": [
    "### Paired t-test (SciPy)"
   ]
  },
  {
   "cell_type": "code",
   "execution_count": 93,
   "metadata": {},
   "outputs": [
    {
     "name": "stdout",
     "output_type": "stream",
     "text": [
      "Paired t-Test: Statistic: 49.681131856526484\n",
      "p-value: 1.0559452941256624e-244\n",
      "Degrees of Freedom: 786\n",
      "\n",
      "95% Confidence Interval for the Difference in Means: [5.073547688345016, 5.49096989458994]\n",
      "\n",
      "Reject the null hypothesis: \n",
      "There is a significant difference between After Treatment and Before Treatment.\n"
     ]
    }
   ],
   "source": [
    "# Run paired t-test\n",
    "def run_paired_t_test(data, alpha=0.05):\n",
    "    \n",
    "    res = ttest_rel(data['After Treatment'], data['Before Treatment'])\n",
    "    stat, p_value = res\n",
    "    dof = res.df\n",
    "    print(f'Paired t-Test: Statistic: {stat}\\np-value: {p_value}\\nDegrees of Freedom: {dof}\\n')\n",
    "\n",
    "    lb, ub = ttest_rel(data['After Treatment'], data['Before Treatment']).confidence_interval(confidence_level=0.95)\n",
    "    print(f'95% Confidence Interval for the Difference in Means: [{lb}, {ub}]')\n",
    "\n",
    "    # Interpretation based on p-value\n",
    "    if p_value < alpha:\n",
    "        print(f'\\nReject the null hypothesis: \\nThere is a significant difference between After Treatment and Before Treatment.')\n",
    "    else:\n",
    "        print(f'\\nFail to reject the null hypothesis: \\nThere is no significant difference between After Treatment and Before Treatment.')\n",
    "\n",
    "# Example usage for paired t-test data\n",
    "run_paired_t_test(paired_t_test_data)"
   ]
  },
  {
   "cell_type": "code",
   "execution_count": null,
   "metadata": {},
   "outputs": [],
   "source": []
  },
  {
   "cell_type": "markdown",
   "metadata": {},
   "source": [
    "### Paired t-test (pingouin)"
   ]
  },
  {
   "cell_type": "code",
   "execution_count": 94,
   "metadata": {},
   "outputs": [
    {
     "data": {
      "text/html": [
       "<div>\n",
       "<style scoped>\n",
       "    .dataframe tbody tr th:only-of-type {\n",
       "        vertical-align: middle;\n",
       "    }\n",
       "\n",
       "    .dataframe tbody tr th {\n",
       "        vertical-align: top;\n",
       "    }\n",
       "\n",
       "    .dataframe thead th {\n",
       "        text-align: right;\n",
       "    }\n",
       "</style>\n",
       "<table border=\"1\" class=\"dataframe\">\n",
       "  <thead>\n",
       "    <tr style=\"text-align: right;\">\n",
       "      <th></th>\n",
       "      <th>T</th>\n",
       "      <th>dof</th>\n",
       "      <th>alternative</th>\n",
       "      <th>p-val</th>\n",
       "      <th>CI95%</th>\n",
       "      <th>cohen-d</th>\n",
       "      <th>BF10</th>\n",
       "      <th>power</th>\n",
       "    </tr>\n",
       "  </thead>\n",
       "  <tbody>\n",
       "    <tr>\n",
       "      <th>T-test</th>\n",
       "      <td>49.681132</td>\n",
       "      <td>786</td>\n",
       "      <td>two-sided</td>\n",
       "      <td>1.055945e-244</td>\n",
       "      <td>[5.07, 5.49]</td>\n",
       "      <td>0.519281</td>\n",
       "      <td>3.486e+240</td>\n",
       "      <td>1.0</td>\n",
       "    </tr>\n",
       "  </tbody>\n",
       "</table>\n",
       "</div>"
      ],
      "text/plain": [
       "                T  dof alternative          p-val         CI95%   cohen-d  \\\n",
       "T-test  49.681132  786   two-sided  1.055945e-244  [5.07, 5.49]  0.519281   \n",
       "\n",
       "              BF10  power  \n",
       "T-test  3.486e+240    1.0  "
      ]
     },
     "execution_count": 94,
     "metadata": {},
     "output_type": "execute_result"
    }
   ],
   "source": [
    "# Paired t-test\n",
    "pg.ttest(paired_t_test_data['After Treatment'], paired_t_test_data['Before Treatment'], paired=True, alternative='two-sided', correction='auto', r=0.707, confidence=0.95)"
   ]
  },
  {
   "cell_type": "code",
   "execution_count": null,
   "metadata": {},
   "outputs": [],
   "source": []
  },
  {
   "cell_type": "markdown",
   "metadata": {},
   "source": [
    "### 95% Confidence Interval"
   ]
  },
  {
   "cell_type": "code",
   "execution_count": 95,
   "metadata": {},
   "outputs": [
    {
     "name": "stdout",
     "output_type": "stream",
     "text": [
      "Mean Difference: 5.282258791467478\n",
      "95% Confidence Interval of the Mean Difference: [5.073547688345016, 5.49096989458994]\n"
     ]
    }
   ],
   "source": [
    "\n",
    "# Calculate the differences\n",
    "differences = paired_t_test_data['After Treatment'] - paired_t_test_data['Before Treatment']\n",
    "\n",
    "# Calculate the mean and standard deviation of the differences\n",
    "mean_diff = differences.mean()\n",
    "std_diff = differences.std(ddof=1)\n",
    "\n",
    "# Calculate the sample size\n",
    "n = len(differences)\n",
    "\n",
    "# Calculate the standard error of the mean difference\n",
    "se_diff = std_diff / np.sqrt(n)\n",
    "\n",
    "# Calculate the critical t-value for a 95% confidence interval (two-sided)\n",
    "critical_t = t.ppf(0.975, df=n-1)\n",
    "\n",
    "# Calculate the margin of error\n",
    "margin_of_error = critical_t * se_diff\n",
    "\n",
    "# Calculate the 95% confidence interval\n",
    "lower_bound = mean_diff - margin_of_error\n",
    "upper_bound = mean_diff + margin_of_error\n",
    "\n",
    "# Print results\n",
    "print(f\"Mean Difference: {mean_diff}\")\n",
    "print(f\"95% Confidence Interval of the Mean Difference: [{lower_bound}, {upper_bound}]\")"
   ]
  },
  {
   "cell_type": "code",
   "execution_count": null,
   "metadata": {},
   "outputs": [],
   "source": []
  },
  {
   "cell_type": "markdown",
   "metadata": {},
   "source": [
    "### Effect Size"
   ]
  },
  {
   "cell_type": "code",
   "execution_count": 96,
   "metadata": {},
   "outputs": [
    {
     "name": "stdout",
     "output_type": "stream",
     "text": [
      "Cohen's d Effect Size: 0.519280821797478 standard deviations\n",
      "\n",
      "\n",
      "There is a moderate difference between the two groups.\n"
     ]
    }
   ],
   "source": [
    "# Calculate means\n",
    "mean_a = np.mean(paired_t_test_data['Before Treatment'])\n",
    "mean_b = np.mean(paired_t_test_data['After Treatment'])\n",
    "\n",
    "# Calculate standard deviations\n",
    "std_a = np.std(paired_t_test_data['Before Treatment'], ddof=1)  # Using sample standard deviation\n",
    "std_b = np.std(paired_t_test_data['After Treatment'], ddof=1)\n",
    "\n",
    "# Calculate sample sizes\n",
    "n_a = len(paired_t_test_data['Before Treatment'])\n",
    "n_b = len(paired_t_test_data['After Treatment'])\n",
    "\n",
    "# Calculate pooled standard deviation\n",
    "s_pooled = np.sqrt(((n_a - 1) * std_a**2 + (n_b - 1) * std_b**2) / (n_a + n_b - 2))\n",
    "\n",
    "# Calculate Cohen's d\n",
    "d = (mean_b - mean_a) / s_pooled\n",
    "\n",
    "print(f\"Cohen's d Effect Size: {d} standard deviations\")\n",
    "print(\"\\n\")\n",
    "\n",
    "\n",
    "if d >= 2:\n",
    "    print(\"There is a huge difference between the two groups.\")\n",
    "elif d >= 1.2:\n",
    "    print(\"There is a very large difference between the two groups.\")\n",
    "elif d >= 0.8:\n",
    "    print(\"There is a large difference between the two groups.\")\n",
    "elif d >= 0.5:\n",
    "    print(\"There is a moderate difference between the two groups.\")\n",
    "elif d >= 0.2:\n",
    "    print(\"There is a small difference between the two groups.\")\n",
    "elif d >= 0.01:\n",
    "    print(\"There is a very small difference between the two groups.\")\n",
    "else:\n",
    "    print(\"There is no difference between the two groups.\")\n"
   ]
  },
  {
   "cell_type": "code",
   "execution_count": null,
   "metadata": {},
   "outputs": [],
   "source": []
  },
  {
   "cell_type": "markdown",
   "metadata": {},
   "source": [
    "### Visualization"
   ]
  },
  {
   "cell_type": "code",
   "execution_count": 97,
   "metadata": {},
   "outputs": [],
   "source": [
    "# Count everything up\n",
    "total_count = paired_t_test_data.size\n",
    "group_a_count = paired_t_test_data['Before Treatment'].count()\n",
    "group_b_count = paired_t_test_data['After Treatment'].count()\n",
    "group_a_mean = paired_t_test_data['Before Treatment'].mean()\n",
    "group_b_mean = paired_t_test_data['After Treatment'].mean()\n",
    "group_a_var= paired_t_test_data['Before Treatment'].var()\n",
    "group_b_var = paired_t_test_data['After Treatment'].var()\n",
    "group_a_std= paired_t_test_data['Before Treatment'].std()\n",
    "group_b_std = paired_t_test_data['After Treatment'].std()"
   ]
  },
  {
   "cell_type": "code",
   "execution_count": 98,
   "metadata": {},
   "outputs": [
    {
     "data": {
      "text/html": [
       "<div>\n",
       "<style scoped>\n",
       "    .dataframe tbody tr th:only-of-type {\n",
       "        vertical-align: middle;\n",
       "    }\n",
       "\n",
       "    .dataframe tbody tr th {\n",
       "        vertical-align: top;\n",
       "    }\n",
       "\n",
       "    .dataframe thead th {\n",
       "        text-align: right;\n",
       "    }\n",
       "</style>\n",
       "<table border=\"1\" class=\"dataframe\">\n",
       "  <thead>\n",
       "    <tr style=\"text-align: right;\">\n",
       "      <th></th>\n",
       "      <th>Test Group</th>\n",
       "      <th>Total</th>\n",
       "      <th>Mean Test Score</th>\n",
       "      <th>Variance</th>\n",
       "      <th>Standard Deviation</th>\n",
       "    </tr>\n",
       "  </thead>\n",
       "  <tbody>\n",
       "    <tr>\n",
       "      <th>0</th>\n",
       "      <td>Before Treatment</td>\n",
       "      <td>787</td>\n",
       "      <td>49.932013</td>\n",
       "      <td>97.385902</td>\n",
       "      <td>9.868430</td>\n",
       "    </tr>\n",
       "    <tr>\n",
       "      <th>1</th>\n",
       "      <td>After Treatment</td>\n",
       "      <td>787</td>\n",
       "      <td>55.214272</td>\n",
       "      <td>109.563787</td>\n",
       "      <td>10.467272</td>\n",
       "    </tr>\n",
       "  </tbody>\n",
       "</table>\n",
       "</div>"
      ],
      "text/plain": [
       "         Test Group  Total  Mean Test Score    Variance  Standard Deviation\n",
       "0  Before Treatment    787        49.932013   97.385902            9.868430\n",
       "1   After Treatment    787        55.214272  109.563787           10.467272"
      ]
     },
     "execution_count": 98,
     "metadata": {},
     "output_type": "execute_result"
    }
   ],
   "source": [
    "# Create a new DataFrame for plotting\n",
    "plot_data = pd.DataFrame({\n",
    "    'Test Group': [\"Before Treatment\", \"After Treatment\"],\n",
    "    'Total': [group_a_count, group_b_count],\n",
    "    'Mean Test Score': [group_a_mean, group_b_mean],\n",
    "    'Variance': [group_a_var, group_b_var],\n",
    "    'Standard Deviation': [group_a_std, group_b_std],\n",
    "}, index=[0, 1])\n",
    "plot_data"
   ]
  },
  {
   "cell_type": "code",
   "execution_count": 99,
   "metadata": {},
   "outputs": [
    {
     "data": {
      "image/png": "[encoded data removed]",
      "text/plain": [
       "<Figure size 864x288 with 1 Axes>"
      ]
     },
     "metadata": {},
     "output_type": "display_data"
    }
   ],
   "source": [
    "# Compare distributions of means between the two groups\n",
    "plt.figure(figsize=(12, 4))\n",
    "sns.kdeplot(paired_t_test_data['Before Treatment'], label='Before', fill = True, color = 'grey', clip=(0, 100) )\n",
    "sns.kdeplot(paired_t_test_data['After Treatment'], label='After', fill = True, color = color, clip=(0, 100) )\n",
    "mean_group_a = paired_t_test_data['Before Treatment'].mean()\n",
    "mean_group_b = paired_t_test_data['After Treatment'].mean()\n",
    "plt.axvline(mean_group_a, color='grey', linestyle='dashed', linewidth=2, label=f'Before Mean Avg: {mean_group_a:.2f}')\n",
    "plt.axvline(mean_group_b, color=color, linestyle='dashed', linewidth=2, label=f'After Mean Avg: {mean_group_b:.2f}')\n",
    "plt.title('Test Scores Before and After Intervention', fontsize = 20)\n",
    "plt.xlabel('Test Scores', fontsize=16);\n",
    "plt.ylabel('Density', fontsize=16)\n",
    "plt.tick_params(left=False,bottom=True,labelleft=True,labelbottom=True)\n",
    "plt.legend()\n",
    "plt.show()"
   ]
  },
  {
   "cell_type": "code",
   "execution_count": null,
   "metadata": {},
   "outputs": [],
   "source": []
  }
 ],
 "metadata": {
  "kernelspec": {
   "display_name": "ab_env",
   "language": "python",
   "name": "python3"
  },
  "language_info": {
   "codemirror_mode": {
    "name": "ipython",
    "version": 3
   },
   "file_extension": ".py",
   "mimetype": "text/x-python",
   "name": "python",
   "nbconvert_exporter": "python",
   "pygments_lexer": "ipython3",
   "version": "3.9.7"
  }
 },
 "nbformat": 4,
 "nbformat_minor": 2
}
